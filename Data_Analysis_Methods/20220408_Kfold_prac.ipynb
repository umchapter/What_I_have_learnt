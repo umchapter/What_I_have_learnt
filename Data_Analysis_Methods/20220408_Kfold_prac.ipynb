{
 "cells": [
  {
   "cell_type": "code",
   "execution_count": null,
   "metadata": {},
   "outputs": [],
   "source": [
    "from sklearn.tree import DecisionTreeClassifier\n",
    "from sklearn.datasets import load_iris\n",
    "from sklearn.metrics import accuracy_score\n",
    "from sklearn.model_selection import KFold\n",
    "import numpy as np"
   ]
  },
  {
   "cell_type": "code",
   "execution_count": null,
   "metadata": {},
   "outputs": [],
   "source": [
    "iris = load_iris()\n",
    "features = iris.data    # 독립변수\n",
    "label = iris.target     # 종속변수\n",
    "dt_clf = DecisionTreeClassifier(random_state=156)   # 디시젼트리 분류기 모형"
   ]
  },
  {
   "cell_type": "code",
   "execution_count": null,
   "metadata": {},
   "outputs": [],
   "source": [
    "kFold = KFold(n_splits=5)   # 5개 폴드\n",
    "cv_accuracy = []            # 정확도 측정치 담을 리스트\n",
    "print(f\"붓꽃 데이터 세트 크기 : {features.shape[0]}\")   # 행 개수"
   ]
  },
  {
   "cell_type": "code",
   "execution_count": null,
   "metadata": {},
   "outputs": [],
   "source": [
    "n_iter = 0      # 반복 횟수 카운터\n",
    "\n",
    "for train_index, test_index in kFold.split(features) :\n",
    "    # KFold 클래스의 split 메소드는 데이터를 받으면 값을 2개 반환\n",
    "    X_train, X_test = features[train_index], features[test_index]\n",
    "    y_train, y_test = label[train_index], label[test_index]\n",
    "\n",
    "    # 학습 및 예측\n",
    "    dt_clf.fit(X_train, y_train)\n",
    "    pred = dt_clf.predict(X_test)\n",
    "    n_iter += 1\n",
    "\n",
    "    # 반복 시 마다 정확도 측정\n",
    "    accuracy = np.round(accuracy_score(y_test, pred), 4)\n",
    "    train_size = X_train.shape[0] # 행 갯수\n",
    "    test_size = X_test.shape[0]\n",
    "    print(f\"\"\"#{n_iter} 교차 검증 정확도 : {accuracy}, 학습 데이터 크기 : {train_size},\n",
    "            검증데이터 크기 : {test_size}\"\"\")\n",
    "    print(f\"#{n_iter} 검증 세트 인덱스 : {test_index}\")\n",
    "    cv_accuracy.append(accuracy)\n",
    "\n",
    "# 개별 iteration 별 정확도를 합하여 평균 정확도 계산\n",
    "print(f\"평균 검증 정확도 : {np.mean(cv_accuracy)}\")"
   ]
  }
 ],
 "metadata": {
  "interpreter": {
   "hash": "5d240ba0dc525c389faa33f5dcce5b4f32b6d6aa6d70d6d2dd929bd2b09ab69f"
  },
  "kernelspec": {
   "display_name": "Python 3.10.2 64-bit",
   "language": "python",
   "name": "python3"
  },
  "language_info": {
   "codemirror_mode": {
    "name": "ipython",
    "version": 3
   },
   "file_extension": ".py",
   "mimetype": "text/x-python",
   "name": "python",
   "nbconvert_exporter": "python",
   "pygments_lexer": "ipython3",
   "version": "3.10.2"
  },
  "orig_nbformat": 4
 },
 "nbformat": 4,
 "nbformat_minor": 2
}
