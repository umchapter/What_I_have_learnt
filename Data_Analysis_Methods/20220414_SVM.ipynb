{
 "cells": [
  {
   "cell_type": "markdown",
   "metadata": {},
   "source": [
    "## SVM\n",
    "* SVM은 분류에 사용되는 지도학습 머신러닝 모델이다.\n",
    "* SVM은 서포트 벡터(support vectors)를 사용해서 결정 경계(Decision Boundary)를 정의하고, 분류되지 않은 점을 해당 결정 경계와 비교해서 분류한다.\n",
    "* 서포트 벡터(support vectors)는 결정 경계에 가장 가까운 각 클래스의 점들이다.\n",
    "* 서포트 벡터와 결정 경계 사이의 거리를 마진(margin)이라고 한다.\n",
    "* SVM은 허용 가능한 오류 범위 내에서 가능한 최대 마진을 만들려고 한다.\n",
    "* 파라미터 C는 허용되는 오류 양을 조절한다. C 값이 클수록 오류를 덜 허용하며 이를 하드 마진(hard margin)이라 부른다. 반대로 C 값이 작을수록 오류를 더 많이 허용해서 소프트 마진(soft margin)을 만든다.\n",
    "* SVM에서는 선형으로 분리할 수 없는 점들을 분류하기 위해 커널(kernel)을 사용한다.\n",
    "* 커널(kernel)은 원래 가지고 있는 데이터를 더 높은 차원의 데이터로 변환한다. 2차원의 점으로 나타낼 수 있는 데이터를 다항식(polynomial) 커널은 3차원으로, RBF 커널은 점을 무한한 차원으로 변환한다.\n",
    "* RBF 커널에는 파라미터 감마(gamma)가 있다. 감마가 너무 크면 학습 데이터에 너무 의존해서 오버피팅이 발생할 수 있다."
   ]
  },
  {
   "cell_type": "code",
   "execution_count": null,
   "metadata": {},
   "outputs": [],
   "source": [
    "from sklearn.datasets import load_iris\n",
    "from sklearn.model_selection import train_test_split\n",
    "\n",
    "iris = load_iris()\n",
    "X_iris = iris.data\n",
    "y_iris = iris.target\n",
    "\n",
    "X_iris_train, X_iris_test, y_iris_train, y_iris_test = train_test_split(\n",
    "    X_iris, y_iris, test_size=0.5\n",
    ")"
   ]
  },
  {
   "cell_type": "code",
   "execution_count": null,
   "metadata": {},
   "outputs": [
    {
     "name": "stdout",
     "output_type": "stream",
     "text": [
      "[0 2 1 2 2 1 2 0 1 2 1 2 0 1 2 1 1 0 2 0 0 0 0 0 2 2 2 2 1 0 1 2 0 1 0 1 2\n",
      " 1 1 2 2 0 2 1 1 0 2 1 0 1 2 1 2 2 2 2 1 1 0 1 2 2 1 2 1 0 1 0 0 2 0 0 0 0\n",
      " 1]\n",
      "0.92\n"
     ]
    }
   ],
   "source": [
    "from sklearn.svm import SVC\n",
    "\n",
    "# 감마값이 작으면 언더피팅 위험  /  C 값이 크면 하드마진에 의한 오버피팅 위험\n",
    "sv_clf = SVC(gamma=0.001, C=100.)\n",
    "sv_clf.fit(X_iris_train, y_iris_train)\n",
    "\n",
    "sv_pred = sv_clf.predict(X_iris_test)\n",
    "print(y_iris_test)\n",
    "\n",
    "from sklearn.metrics import accuracy_score\n",
    "print(accuracy_score(y_iris_test, sv_pred))"
   ]
  }
 ],
 "metadata": {
  "language_info": {
   "name": "python"
  },
  "orig_nbformat": 4
 },
 "nbformat": 4,
 "nbformat_minor": 2
}
