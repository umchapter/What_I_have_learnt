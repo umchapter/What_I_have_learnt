{
 "cells": [
  {
   "cell_type": "markdown",
   "metadata": {},
   "source": [
    "## Regression\n",
    "* 경사하강법으로 OLS나 BLUE 찾음\n",
    "* 일반 선형 회귀 : 예측값과 실제 값의 RSS를 최소화할 수 있도록 회귀 계수를 최적화하며, 규제를 적용하지 않은 모델\n",
    "* 릿지(Ridge) : L2 규제를 추가한 회귀 모델\n",
    "* 라쏘(Lasso) : L1 규제를 적용한 방식\n",
    "* 엘라스틱넷(ElasticNet) : L2, L1 규제를 함께 결합한 모델\n",
    "* 로지스틱 회귀(Logistic Regression) : 로지스틱 회귀는 회귀보다는 분류 모형"
   ]
  },
  {
   "cell_type": "markdown",
   "metadata": {},
   "source": [
    "### RSS\n",
    "* 회귀의 비용 함수\n",
    "* w(회귀계수)의 최적값과 관련"
   ]
  },
  {
   "cell_type": "markdown",
   "metadata": {},
   "source": [
    "#### 코딩으로 경사 하강법 구현"
   ]
  },
  {
   "cell_type": "code",
   "execution_count": 39,
   "metadata": {},
   "outputs": [
    {
     "data": {
      "text/plain": [
       "<matplotlib.collections.PathCollection at 0x1d796ea7e80>"
      ]
     },
     "execution_count": 39,
     "metadata": {},
     "output_type": "execute_result"
    },
    {
     "data": {
      "image/png": "[encoded data removed]",
      "text/plain": [
       "<Figure size 432x288 with 1 Axes>"
      ]
     },
     "metadata": {
      "needs_background": "light"
     },
     "output_type": "display_data"
    }
   ],
   "source": [
    "import numpy as np\n",
    "import matplotlib.pyplot as plt\n",
    "\n",
    "np.random.seed(0)\n",
    "# y = 4X + 6 식을 근사 (w1 = 4, w0 = 6). random 값은 Noise를 위해 만듦\n",
    "X = 2 * np.random.rand(100,1)\n",
    "y = 6 + 4*X + np.random.randn(100,1)\n",
    "\n",
    "# X, y 데이터 셋 scatter plot 으로 시각화\n",
    "plt.scatter(X,y)"
   ]
  },
  {
   "cell_type": "code",
   "execution_count": 40,
   "metadata": {},
   "outputs": [],
   "source": [
    "# w1과 w0를 업데이트할 w1_update, w0_update를 반환.\n",
    "def get_weight_updates(w1, w0, X, y, learning_rate=0.01) :\n",
    "    N = len(y)\n",
    "    # 먼저 w1_update, w0_update를 각각 w1, w0의 shape와 동일한 크기를 가진 0값으로 초기화\n",
    "    w1_update = np.zeros_like(w1)\n",
    "    w0_update = np.zeros_like(w0)\n",
    "    # 예측 배열 계싼하고 예측과 실제 값의 차이 계산\n",
    "    y_pred = np.dot(X, w1.T) + w0\n",
    "    diff = y - y_pred\n",
    "\n",
    "    # w0_update를 내적으로 구하기 위해 모두 1값을 가진 행렬 생성\n",
    "    w0_factors = np.ones((N,1))\n",
    "\n",
    "    # w1과 w0를 업데이트 할 w1_update와 w0_update 계산\n",
    "    w1_update = -(2/N)*learning_rate*(np.dot(X.T, diff))\n",
    "    w0_update = -(2/N)*learning_rate*(np.dot(w0_factors.T, diff))\n",
    "\n",
    "    return w1_update, w0_update\n"
   ]
  },
  {
   "cell_type": "code",
   "execution_count": 41,
   "metadata": {},
   "outputs": [],
   "source": [
    "# 입력 인자 iters로 주어진 횟수만큼 반복적으로 w1과 w0를 업데이트 적용함\n",
    "def gradient_descent_steps(X, y, iters=10000) :\n",
    "    # w0와 w1을 모두 0으로 초기화.\n",
    "    w0 = np.zeros((1,1))\n",
    "    w1 = np.zeros((1,1))\n",
    "\n",
    "    # 인자로 주어진 iters 만큼 반복적으로 get_weight_updates() 호출하여\n",
    "    # w1, w0 업데이트 수행\n",
    "    for ind in range(iters) :\n",
    "        w1_update, w0_update = get_weight_updates(w1, w0, X, y, learning_rate=0.01)\n",
    "        w1 = w1 - w1_update\n",
    "        w0 = w0 - w0_update\n",
    "\n",
    "    return w1, w0"
   ]
  },
  {
   "cell_type": "code",
   "execution_count": 42,
   "metadata": {},
   "outputs": [],
   "source": [
    "def get_cost(y, y_pred) :\n",
    "    N = len(y)\n",
    "    cost = np.sum(np.square(y - y_pred))/N  # 오차값\n",
    "    return cost"
   ]
  },
  {
   "cell_type": "code",
   "execution_count": 43,
   "metadata": {},
   "outputs": [
    {
     "name": "stdout",
     "output_type": "stream",
     "text": [
      "w1:4.022 w0:6.162\n",
      "Gradient Descent Total Cost:0.9935\n"
     ]
    }
   ],
   "source": [
    "w1, w0 = gradient_descent_steps(X, y, iters=1000)\n",
    "print(f\"w1:{w1[0,0]:.3f} w0:{w0[0,0]:.3f}\")\n",
    "y_pred = w1[0,0]*X + w0\n",
    "print(f\"Gradient Descent Total Cost:{get_cost(y, y_pred):.4f}\")"
   ]
  },
  {
   "cell_type": "code",
   "execution_count": 44,
   "metadata": {},
   "outputs": [
    {
     "data": {
      "text/plain": [
       "[<matplotlib.lines.Line2D at 0x1d794a06b30>]"
      ]
     },
     "execution_count": 44,
     "metadata": {},
     "output_type": "execute_result"
    },
    {
     "data": {
      "image/png": "[encoded data removed]",
      "text/plain": [
       "<Figure size 432x288 with 1 Axes>"
      ]
     },
     "metadata": {
      "needs_background": "light"
     },
     "output_type": "display_data"
    }
   ],
   "source": [
    "plt.scatter(X, y)\n",
    "plt.plot(X, y_pred, c=\"r\")"
   ]
  },
  {
   "cell_type": "markdown",
   "metadata": {},
   "source": [
    "### Stochastic Gradient Descent 구현"
   ]
  },
  {
   "cell_type": "code",
   "execution_count": 45,
   "metadata": {},
   "outputs": [],
   "source": [
    "# 샘플링으로 데이터를 추출하여 시간 단축\n",
    "def stochastic_gradient_descent_steps(X, y, batch_size=10, iters=1000) :\n",
    "    w0 = np.zeros((1,1))\n",
    "    w1 = np.zeros((1,1))\n",
    "    prev_cost = 100000\n",
    "    iter_index = 0\n",
    "\n",
    "    for ind in range(iters) :\n",
    "        np.random.seed(ind)\n",
    "        # 전체 X, y 데이터에서 랜덤하게 batch_size만큼 데이터 추출하여 sample_X, sample_y로 저장\n",
    "        stochastic_random_index = np.random.permutation(X.shape[0])\n",
    "        sample_X = X[stochastic_random_index[0:batch_size]]\n",
    "        sample_y = y[stochastic_random_index[0:batch_size]]\n",
    "        # 랜덤하게 batch_size만큼 추출된 데이터 기반으로 w1_update, w0_update 계산 후 업데이트\n",
    "        w1_update, w0_update = get_weight_updates(w1, w0, sample_X, sample_y, learning_rate=0.1)\n",
    "        w1 = w1 - w1_update\n",
    "        w0 = w0 - w0_update\n",
    "\n",
    "    return w1, w0"
   ]
  },
  {
   "cell_type": "code",
   "execution_count": 46,
   "metadata": {},
   "outputs": [
    {
     "data": {
      "text/plain": [
       "array([66, 71, 54, 88, 82, 12, 36, 46, 14, 67, 10,  3, 62, 29, 97, 69, 70,\n",
       "       93, 31, 73, 60, 96, 28, 27, 21, 19, 33, 78, 32, 94,  1, 41, 40, 76,\n",
       "       37, 87, 24, 23, 50,  2, 47, 20, 77, 17, 56, 64, 68, 25, 15, 22, 16,\n",
       "       98, 63, 92, 86, 38,  6, 57, 95, 44,  9, 42, 81, 99, 35, 84, 59, 48,\n",
       "       75, 65, 85, 90, 55, 43, 58, 89, 30, 80, 34, 18, 51, 49, 52, 74, 26,\n",
       "       45, 39,  4, 11, 53, 91, 79,  8,  0,  5, 13, 61, 72,  7, 83])"
      ]
     },
     "execution_count": 46,
     "metadata": {},
     "output_type": "execute_result"
    }
   ],
   "source": [
    "np.random.permutation(X.shape[0])"
   ]
  },
  {
   "cell_type": "code",
   "execution_count": 47,
   "metadata": {},
   "outputs": [
    {
     "name": "stdout",
     "output_type": "stream",
     "text": [
      "w1 : 4.028, wo : 6.165\n",
      "Stochastic Gradient Descent Total Cost : 0.9936\n"
     ]
    }
   ],
   "source": [
    "w1, w0 = stochastic_gradient_descent_steps(X, y, iters=1000)\n",
    "print(f\"w1 : {round(w1[0,0],3)}, wo : {round(w0[0,0],3)}\")\n",
    "y_pred = w1[0,0] * X + w0\n",
    "print(f\"Stochastic Gradient Descent Total Cost : {get_cost(y, y_pred):.4f}\")"
   ]
  },
  {
   "cell_type": "code",
   "execution_count": 48,
   "metadata": {},
   "outputs": [
    {
     "data": {
      "text/plain": [
       "[<matplotlib.lines.Line2D at 0x1d796f13730>]"
      ]
     },
     "execution_count": 48,
     "metadata": {},
     "output_type": "execute_result"
    },
    {
     "data": {
      "image/png": "[encoded data removed]",
      "text/plain": [
       "<Figure size 432x288 with 1 Axes>"
      ]
     },
     "metadata": {
      "needs_background": "light"
     },
     "output_type": "display_data"
    }
   ],
   "source": [
    "plt.scatter(X, y)\n",
    "plt.plot(X, y_pred, c=\"r\")"
   ]
  },
  {
   "cell_type": "markdown",
   "metadata": {},
   "source": [
    "### 선형 회귀의 다중 공선성 문제\n",
    "* 일반적으로 선형 회귀는 입력 피처의 독립성에 큰 영향을 받음.   \n",
    "피처간의 상관관계가 매우 높은 경우 분산이 매우 커져서 오류에 민감해짐.    \n",
    "multi-collinearity문제.\n",
    "* 일반적으로 상관관계가 높은 피처가 많은 경우 독립적인 중요한 피처만 남기고 제거하거나 규제를 적용함."
   ]
  },
  {
   "cell_type": "markdown",
   "metadata": {},
   "source": [
    "##### 단순 회귀 연습"
   ]
  },
  {
   "cell_type": "code",
   "execution_count": 49,
   "metadata": {},
   "outputs": [
    {
     "name": "stdout",
     "output_type": "stream",
     "text": [
      "[79.6131561]\n"
     ]
    }
   ],
   "source": [
    "import matplotlib.pylab as plt\n",
    "from sklearn.linear_model import LinearRegression\n",
    "\n",
    "reg = LinearRegression()\n",
    "\n",
    "X = [[174], [152], [138], [128], [186]]\n",
    "y = [71, 55, 46, 38, 88]\n",
    "reg.fit(X,y)                # 학습\n",
    "\n",
    "print(reg.predict([[180]]))"
   ]
  },
  {
   "cell_type": "code",
   "execution_count": 50,
   "metadata": {},
   "outputs": [
    {
     "data": {
      "image/png": "[encoded data removed]",
      "text/plain": [
       "<Figure size 432x288 with 1 Axes>"
      ]
     },
     "metadata": {
      "needs_background": "light"
     },
     "output_type": "display_data"
    }
   ],
   "source": [
    "# 학습 데이터와 y 값을 산포도로 그린다.\n",
    "plt.scatter(X, y, color=\"red\")\n",
    "\n",
    "# 학습 데이터를 입력으로 하여 예측값을 계산한다.\n",
    "y_pred = reg.predict(X)\n",
    "\n",
    "# 학습 데이터와 예측값으로 선그래프를 그린다.\n",
    "# 계산된 기울기와 y 절편을 가지는 직선이 그려진다.\n",
    "plt.plot(X, y_pred, color=\"blue\", linewidth=3)\n",
    "plt.show()"
   ]
  },
  {
   "cell_type": "markdown",
   "metadata": {},
   "source": [
    "## 다항 선형 회귀(Polinomial Linear Regression)\n",
    "* $y=w_0 + w_1x_1 + w_2x_2 + w_3x_1x_2 + w_4x_1^2 + w_5x_2^2$\n",
    "* 회귀식이 독립변수의 단항식이 아닌 2차, 3차 방정식과 같은 다항식으로 표현되는 것을 지칭함\n",
    "* 다항 회귀는 선형회귀임. 회귀에서 선형/비선형을 나누는 기준은 회귀계수가 선형인지 비선형인지.      \n",
    "독립변수의 선형/비선형과는 무관함.\n",
    "* 비선형의 예시 : $y=w_1cos(X+w_4)+w_2cos(2X+w_4)+w_3$ ,$\\,$ $Y=w_1X^{w_2}$"
   ]
  },
  {
   "cell_type": "markdown",
   "metadata": {},
   "source": [
    "### 실습 : 다항 회귀\n",
    "* 1차 단항 피처들의 값이 $[x_1, x_2] = [0, 1]$ 일 경우\n",
    "* 2차 다항 피처들의 값은 $[1, x_1=0, x_2=1, x_1x_2=0, x_1^2=0,x_2^2=1]$ 형태인 $[1,0,1,0,0,1]$로 변환"
   ]
  },
  {
   "cell_type": "code",
   "execution_count": 51,
   "metadata": {},
   "outputs": [
    {
     "name": "stdout",
     "output_type": "stream",
     "text": [
      "일차 단항식 계수 : \n",
      "[[0 1]\n",
      " [2 3]]\n"
     ]
    }
   ],
   "source": [
    "from sklearn.preprocessing import PolynomialFeatures\n",
    "import numpy as np\n",
    "\n",
    "# 다항식으로 변환한 단항식 생성, [[0,1],[2,3]]의 2X2 행렬 생성\n",
    "X = np.arange(4).reshape(2,2)\n",
    "print(f\"일차 단항식 계수 : \\n{X}\")"
   ]
  },
  {
   "cell_type": "code",
   "execution_count": 52,
   "metadata": {},
   "outputs": [
    {
     "name": "stdout",
     "output_type": "stream",
     "text": [
      "변환된 2차 다항식 계수 feature:\n",
      "[[1. 0. 1. 0. 0. 1.]\n",
      " [1. 2. 3. 4. 6. 9.]]\n"
     ]
    }
   ],
   "source": [
    "# degree = 2인 2차 다항식으로 변환하기 위해 PolynomialFeatures를 이용하여 변환\n",
    "poly = PolynomialFeatures(degree=2)\n",
    "poly.fit(X)\n",
    "poly_ftr = poly.transform(X)\n",
    "print(f\"변환된 2차 다항식 계수 feature:\\n{poly_ftr}\")"
   ]
  },
  {
   "cell_type": "markdown",
   "metadata": {},
   "source": [
    "##### Linear Regression에 3차 다항식 계수 feature와 3차 다항식 결정값으로 학습 후 회귀 계수 확인"
   ]
  },
  {
   "cell_type": "code",
   "execution_count": 53,
   "metadata": {},
   "outputs": [
    {
     "name": "stdout",
     "output_type": "stream",
     "text": [
      "일차 단항식 계수 fearture : \n",
      "[[0 1]\n",
      " [2 3]]\n",
      "삼차 단항식 결정값 : \n",
      "[[ 1  5]\n",
      " [17 43]]\n"
     ]
    }
   ],
   "source": [
    "def polynomial_func(X) :\n",
    "    y = 1 + 2*X + X**2 + X**3\n",
    "    return y\n",
    "\n",
    "X = np.arange(4).reshape(2,2)\n",
    "print(f\"일차 단항식 계수 fearture : \\n{X}\")\n",
    "y = polynomial_func(X)\n",
    "print(f\"삼차 단항식 결정값 : \\n{y}\")"
   ]
  },
  {
   "cell_type": "code",
   "execution_count": 54,
   "metadata": {},
   "outputs": [
    {
     "name": "stdout",
     "output_type": "stream",
     "text": [
      "3차 다항식 계수 features : \n",
      "[[ 1.  0.  1.  0.  0.  1.  0.  0.  0.  1.]\n",
      " [ 1.  2.  3.  4.  6.  9.  8. 12. 18. 27.]]\n",
      "Polynomial 회귀 계수 : \n",
      "[[0.   0.02 0.02 0.05 0.07 0.1  0.1  0.14 0.22 0.31]\n",
      " [0.   0.06 0.06 0.11 0.17 0.23 0.23 0.34 0.51 0.74]]\n",
      "Polynomial 회귀 Shape : (2, 10)\n"
     ]
    }
   ],
   "source": [
    "# 3차 다항식 변환\n",
    "poly_ftr = PolynomialFeatures(degree=3).fit_transform(X)\n",
    "print(f\"3차 다항식 계수 features : \\n{poly_ftr}\")\n",
    "\n",
    "#Linear Regression에 3차 다항식 계수 feature와 3차 다항식 결정값으로 학습 후 회귀 계수 확인\n",
    "model = LinearRegression()\n",
    "model.fit(poly_ftr, y)\n",
    "print(f\"Polynomial 회귀 계수 : \\n{np.round(model.coef_,2)}\")\n",
    "print(f\"Polynomial 회귀 Shape : {model.coef_.shape}\")"
   ]
  },
  {
   "cell_type": "markdown",
   "metadata": {},
   "source": [
    "##### 파이프라인을 이용해서 3차 다항 회귀 실습"
   ]
  },
  {
   "cell_type": "code",
   "execution_count": 55,
   "metadata": {},
   "outputs": [
    {
     "name": "stdout",
     "output_type": "stream",
     "text": [
      "Polynomial 회귀 계수 : \n",
      "[[0.   0.02 0.02 0.05 0.07 0.1  0.1  0.14 0.22 0.31]\n",
      " [0.   0.06 0.06 0.11 0.17 0.23 0.23 0.34 0.51 0.74]]\n"
     ]
    }
   ],
   "source": [
    "from sklearn.preprocessing import PolynomialFeatures\n",
    "from sklearn.linear_model import LinearRegression\n",
    "from sklearn.pipeline import Pipeline\n",
    "import numpy as np\n",
    "\n",
    "def polynomial_func(X) :\n",
    "    y = 1 + 2*X + X**2 + X**3\n",
    "    return y\n",
    "\n",
    "# Pipeline 객체로 Streamline하게 Polynomial Feature 변환과 Linear Regression을 연결\n",
    "model = Pipeline([\n",
    "    (\"poly\", PolynomialFeatures(degree=3)),\n",
    "    (\"linear\", LinearRegression())\n",
    "])\n",
    "\n",
    "X = np.arange(4).reshape(2,2)\n",
    "y = polynomial_func(X)\n",
    "\n",
    "model = model.fit(X,y)\n",
    "print(f\"Polynomial 회귀 계수 : \\n{np.round(model.named_steps['linear'].coef_,2)}\")"
   ]
  },
  {
   "cell_type": "markdown",
   "metadata": {},
   "source": [
    "#### 다항 회귀로 보스턴 주택 가격 예측"
   ]
  },
  {
   "cell_type": "code",
   "execution_count": 56,
   "metadata": {},
   "outputs": [
    {
     "name": "stdout",
     "output_type": "stream",
     "text": [
      "(506, 14)\n"
     ]
    },
    {
     "name": "stderr",
     "output_type": "stream",
     "text": [
      "C:\\Users\\user\\AppData\\Local\\Programs\\Python\\Python310\\lib\\site-packages\\sklearn\\utils\\deprecation.py:87: FutureWarning: Function load_boston is deprecated; `load_boston` is deprecated in 1.0 and will be removed in 1.2.\n",
      "\n",
      "    The Boston housing prices dataset has an ethical problem. You can refer to\n",
      "    the documentation of this function for further details.\n",
      "\n",
      "    The scikit-learn maintainers therefore strongly discourage the use of this\n",
      "    dataset unless the purpose of the code is to study and educate about\n",
      "    ethical issues in data science and machine learning.\n",
      "\n",
      "    In this special case, you can fetch the dataset from the original\n",
      "    source::\n",
      "\n",
      "        import pandas as pd\n",
      "        import numpy as np\n",
      "\n",
      "\n",
      "        data_url = \"http://lib.stat.cmu.edu/datasets/boston\"\n",
      "        raw_df = pd.read_csv(data_url, sep=\"\\s+\", skiprows=22, header=None)\n",
      "        data = np.hstack([raw_df.values[::2, :], raw_df.values[1::2, :2]])\n",
      "        target = raw_df.values[1::2, 2]\n",
      "\n",
      "    Alternative datasets include the California housing dataset (i.e.\n",
      "    :func:`~sklearn.datasets.fetch_california_housing`) and the Ames housing\n",
      "    dataset. You can load the datasets as follows::\n",
      "\n",
      "        from sklearn.datasets import fetch_california_housing\n",
      "        housing = fetch_california_housing()\n",
      "\n",
      "    for the California housing dataset and::\n",
      "\n",
      "        from sklearn.datasets import fetch_openml\n",
      "        housing = fetch_openml(name=\"house_prices\", as_frame=True)\n",
      "\n",
      "    for the Ames housing dataset.\n",
      "    \n",
      "  warnings.warn(msg, category=FutureWarning)\n"
     ]
    },
    {
     "data": {
      "text/html": [
       "<div>\n",
       "<style scoped>\n",
       "    .dataframe tbody tr th:only-of-type {\n",
       "        vertical-align: middle;\n",
       "    }\n",
       "\n",
       "    .dataframe tbody tr th {\n",
       "        vertical-align: top;\n",
       "    }\n",
       "\n",
       "    .dataframe thead th {\n",
       "        text-align: right;\n",
       "    }\n",
       "</style>\n",
       "<table border=\"1\" class=\"dataframe\">\n",
       "  <thead>\n",
       "    <tr style=\"text-align: right;\">\n",
       "      <th></th>\n",
       "      <th>CRIM</th>\n",
       "      <th>ZN</th>\n",
       "      <th>INDUS</th>\n",
       "      <th>CHAS</th>\n",
       "      <th>NOX</th>\n",
       "      <th>RM</th>\n",
       "      <th>AGE</th>\n",
       "      <th>DIS</th>\n",
       "      <th>RAD</th>\n",
       "      <th>TAX</th>\n",
       "      <th>PTRATIO</th>\n",
       "      <th>B</th>\n",
       "      <th>LSTAT</th>\n",
       "      <th>PRICE</th>\n",
       "    </tr>\n",
       "  </thead>\n",
       "  <tbody>\n",
       "    <tr>\n",
       "      <th>0</th>\n",
       "      <td>0.00632</td>\n",
       "      <td>18.0</td>\n",
       "      <td>2.31</td>\n",
       "      <td>0.0</td>\n",
       "      <td>0.538</td>\n",
       "      <td>6.575</td>\n",
       "      <td>65.2</td>\n",
       "      <td>4.0900</td>\n",
       "      <td>1.0</td>\n",
       "      <td>296.0</td>\n",
       "      <td>15.3</td>\n",
       "      <td>396.90</td>\n",
       "      <td>4.98</td>\n",
       "      <td>24.0</td>\n",
       "    </tr>\n",
       "    <tr>\n",
       "      <th>1</th>\n",
       "      <td>0.02731</td>\n",
       "      <td>0.0</td>\n",
       "      <td>7.07</td>\n",
       "      <td>0.0</td>\n",
       "      <td>0.469</td>\n",
       "      <td>6.421</td>\n",
       "      <td>78.9</td>\n",
       "      <td>4.9671</td>\n",
       "      <td>2.0</td>\n",
       "      <td>242.0</td>\n",
       "      <td>17.8</td>\n",
       "      <td>396.90</td>\n",
       "      <td>9.14</td>\n",
       "      <td>21.6</td>\n",
       "    </tr>\n",
       "    <tr>\n",
       "      <th>2</th>\n",
       "      <td>0.02729</td>\n",
       "      <td>0.0</td>\n",
       "      <td>7.07</td>\n",
       "      <td>0.0</td>\n",
       "      <td>0.469</td>\n",
       "      <td>7.185</td>\n",
       "      <td>61.1</td>\n",
       "      <td>4.9671</td>\n",
       "      <td>2.0</td>\n",
       "      <td>242.0</td>\n",
       "      <td>17.8</td>\n",
       "      <td>392.83</td>\n",
       "      <td>4.03</td>\n",
       "      <td>34.7</td>\n",
       "    </tr>\n",
       "    <tr>\n",
       "      <th>3</th>\n",
       "      <td>0.03237</td>\n",
       "      <td>0.0</td>\n",
       "      <td>2.18</td>\n",
       "      <td>0.0</td>\n",
       "      <td>0.458</td>\n",
       "      <td>6.998</td>\n",
       "      <td>45.8</td>\n",
       "      <td>6.0622</td>\n",
       "      <td>3.0</td>\n",
       "      <td>222.0</td>\n",
       "      <td>18.7</td>\n",
       "      <td>394.63</td>\n",
       "      <td>2.94</td>\n",
       "      <td>33.4</td>\n",
       "    </tr>\n",
       "    <tr>\n",
       "      <th>4</th>\n",
       "      <td>0.06905</td>\n",
       "      <td>0.0</td>\n",
       "      <td>2.18</td>\n",
       "      <td>0.0</td>\n",
       "      <td>0.458</td>\n",
       "      <td>7.147</td>\n",
       "      <td>54.2</td>\n",
       "      <td>6.0622</td>\n",
       "      <td>3.0</td>\n",
       "      <td>222.0</td>\n",
       "      <td>18.7</td>\n",
       "      <td>396.90</td>\n",
       "      <td>5.33</td>\n",
       "      <td>36.2</td>\n",
       "    </tr>\n",
       "  </tbody>\n",
       "</table>\n",
       "</div>"
      ],
      "text/plain": [
       "      CRIM    ZN  INDUS  CHAS    NOX     RM   AGE     DIS  RAD    TAX  \\\n",
       "0  0.00632  18.0   2.31   0.0  0.538  6.575  65.2  4.0900  1.0  296.0   \n",
       "1  0.02731   0.0   7.07   0.0  0.469  6.421  78.9  4.9671  2.0  242.0   \n",
       "2  0.02729   0.0   7.07   0.0  0.469  7.185  61.1  4.9671  2.0  242.0   \n",
       "3  0.03237   0.0   2.18   0.0  0.458  6.998  45.8  6.0622  3.0  222.0   \n",
       "4  0.06905   0.0   2.18   0.0  0.458  7.147  54.2  6.0622  3.0  222.0   \n",
       "\n",
       "   PTRATIO       B  LSTAT  PRICE  \n",
       "0     15.3  396.90   4.98   24.0  \n",
       "1     17.8  396.90   9.14   21.6  \n",
       "2     17.8  392.83   4.03   34.7  \n",
       "3     18.7  394.63   2.94   33.4  \n",
       "4     18.7  396.90   5.33   36.2  "
      ]
     },
     "execution_count": 56,
     "metadata": {},
     "output_type": "execute_result"
    }
   ],
   "source": [
    "from sklearn.model_selection import train_test_split\n",
    "from sklearn.linear_model import LinearRegression\n",
    "from sklearn.metrics import mean_squared_error, r2_score\n",
    "from sklearn.datasets import load_boston\n",
    "\n",
    "from sklearn.preprocessing import PolynomialFeatures\n",
    "from sklearn.pipeline import Pipeline\n",
    "import numpy as np\n",
    "import pandas as pd\n",
    "\n",
    "# boston 데이터 셋 로드\n",
    "boston = load_boston()\n",
    "\n",
    "# boston 데이터셋 DataFrame 변환\n",
    "bostonDF = pd.DataFrame(boston.data, columns=boston.feature_names)\n",
    "\n",
    "# boston dataset의 target array는 주택 가격. PRICE 컬럼으로 DataFrame에 존재\n",
    "bostonDF[\"PRICE\"] = boston.target\n",
    "\n",
    "print(bostonDF.shape)\n",
    "bostonDF.head()"
   ]
  },
  {
   "cell_type": "code",
   "execution_count": 57,
   "metadata": {},
   "outputs": [],
   "source": [
    "y_target = bostonDF[\"PRICE\"]\n",
    "X_data = bostonDF.drop([\"PRICE\"], axis=1, inplace=False)\n",
    "\n",
    "X_train, X_test, y_train, y_test = train_test_split(\n",
    "    X_data, y_target, test_size=0.3, random_state=156\n",
    ")"
   ]
  },
  {
   "cell_type": "code",
   "execution_count": 58,
   "metadata": {},
   "outputs": [],
   "source": [
    "# Pipelin 객체로 Stramline 하게 Polynomial Feature 변환과 Linear Regression을 연결\n",
    "# LinearRegression의 normalize 파라미터 무시합시다. \n",
    "p_model = Pipeline([\n",
    "    (\"Poly\", PolynomialFeatures(degree=2, include_bias=False,\n",
    "                                interaction_only=False, order=\"C\")),\n",
    "    (\"linear\", LinearRegression(copy_X=True, fit_intercept=True, n_jobs=None))\n",
    "], verbose=False)"
   ]
  },
  {
   "cell_type": "code",
   "execution_count": 59,
   "metadata": {},
   "outputs": [
    {
     "name": "stdout",
     "output_type": "stream",
     "text": [
      "MSE : 15.556, RMSE : 3.944\n",
      "Variance score : 0.782\n"
     ]
    }
   ],
   "source": [
    "p_model.fit(X_train, y_train)\n",
    "y_preds = p_model.predict(X_test)\n",
    "mse = mean_squared_error(y_test, y_preds)\n",
    "rmse = np.sqrt(mse)\n",
    "\n",
    "# 일반 회귀와 비슷한 RMSE 값\n",
    "print(f\"MSE : {mse:.3f}, RMSE : {rmse:.3f}\")\n",
    "print(f\"Variance score : {r2_score(y_test, y_preds):.3f}\")"
   ]
  },
  {
   "cell_type": "code",
   "execution_count": 60,
   "metadata": {},
   "outputs": [
    {
     "data": {
      "text/plain": [
       "Pipeline(steps=[('Poly', PolynomialFeatures(degree=3, include_bias=False)),\n",
       "                ('linear', LinearRegression())])"
      ]
     },
     "execution_count": 60,
     "metadata": {},
     "output_type": "execute_result"
    }
   ],
   "source": [
    "# 다항 회귀에서 degree 수를 높일수록 오버피팅의 위험 주의\n",
    "p_model_2 = Pipeline([\n",
    "    (\"Poly\", PolynomialFeatures(degree=3, include_bias=False,\n",
    "                                interaction_only=False, order=\"C\")),\n",
    "    (\"linear\", LinearRegression(copy_X=True, fit_intercept=True, n_jobs=None))\n",
    "], verbose=False)\n",
    "\n",
    "p_model_2"
   ]
  },
  {
   "cell_type": "code",
   "execution_count": 61,
   "metadata": {},
   "outputs": [
    {
     "name": "stdout",
     "output_type": "stream",
     "text": [
      "MSE : 79625.594, RMSE : 282.180\n",
      "Variance score : -1116.598\n"
     ]
    }
   ],
   "source": [
    "p_model_2.fit(X_train, y_train)\n",
    "y_preds_2 = p_model_2.predict(X_test)\n",
    "mse2 = mean_squared_error(y_test, y_preds_2)\n",
    "rmse2 = np.sqrt(mse2)\n",
    "\n",
    "# MSE 크고, R^2 score 마이너스 → 오버피팅\n",
    "print(f\"MSE : {mse2:.3f}, RMSE : {rmse2:.3f}\")\n",
    "print(f\"Variance score : {r2_score(y_test, y_preds_2):.3f}\")"
   ]
  },
  {
   "cell_type": "code",
   "execution_count": 62,
   "metadata": {},
   "outputs": [
    {
     "name": "stdout",
     "output_type": "stream",
     "text": [
      "(354, 104) (354, 13)\n"
     ]
    }
   ],
   "source": [
    "# degree = 2 로 변환된 다항 회귀의 피처들을 살펴보면, 기존의 피처 13개를 조합해서\n",
    "# 피처가 104개로 늘어난 것을 확인할 수 있다.\n",
    "# 다항식에서 degree가 높아지면 오버피팅의 위험이 있다.\n",
    "X_train_poly = PolynomialFeatures(degree=2, include_bias=False).fit_transform(X_train, y_train)\n",
    "print(X_train_poly.shape, X_train.shape)"
   ]
  },
  {
   "cell_type": "markdown",
   "metadata": {},
   "source": [
    "#### 다항 회귀의 차수(degree)를 변화시키면서 회귀 계수와 MSE 값 구해보고 추세선 그리기"
   ]
  },
  {
   "cell_type": "code",
   "execution_count": 63,
   "metadata": {},
   "outputs": [
    {
     "data": {
      "text/plain": [
       "array([ 1.02192014,  1.02191599,  0.96250165,  0.90550047,  0.78225059,\n",
       "       -0.17217751, -0.31272898, -0.35120115, -0.37738434, -0.49965349,\n",
       "       -0.74008513, -0.7528439 , -0.7700317 , -0.84368289, -0.82725889,\n",
       "       -0.88793603, -0.97102973, -0.98232013, -0.94242867, -0.82876001,\n",
       "       -0.80245029, -0.78745661, -0.71250391, -0.69927576, -0.55407074,\n",
       "       -0.47205303, -0.27816705, -0.23246798, -0.12376854, -0.07614573])"
      ]
     },
     "execution_count": 63,
     "metadata": {},
     "output_type": "execute_result"
    }
   ],
   "source": [
    "# noise 값이 추가된 코사인 시뮬레이션 점 찍기\n",
    "import numpy as np\n",
    "import matplotlib.pyplot as plt\n",
    "from sklearn.pipeline import Pipeline\n",
    "from sklearn.preprocessing import PolynomialFeatures\n",
    "from sklearn.linear_model import LinearRegression\n",
    "from sklearn.model_selection import cross_val_score\n",
    "\n",
    "# random 값으로 구성된 X값에 대해 Cosine 변환값을 반환\n",
    "def true_fun(X) :\n",
    "    return np.cos(1.5 * np.pi * X)\n",
    "\n",
    "# X는 0부터 1까지 30개의 random 값을 순서대로 sampling 한 데이터 입니다.\n",
    "np.random.seed(0)\n",
    "n_samples = 30\n",
    "X = np.sort(np.random.rand(n_samples))\n",
    "\n",
    "# y 값은 cosine 기반의 true_fun() 에서 약간의 Noise 변동값을 더한 값\n",
    "y = true_fun(X) + np.random.rand(n_samples)*0.1\n",
    "y"
   ]
  },
  {
   "cell_type": "code",
   "execution_count": 64,
   "metadata": {},
   "outputs": [
    {
     "data": {
      "text/plain": [
       "<matplotlib.collections.PathCollection at 0x1d798c88850>"
      ]
     },
     "execution_count": 64,
     "metadata": {},
     "output_type": "execute_result"
    },
    {
     "data": {
      "image/png": "[encoded data removed]",
      "text/plain": [
       "<Figure size 432x288 with 1 Axes>"
      ]
     },
     "metadata": {
      "needs_background": "light"
     },
     "output_type": "display_data"
    }
   ],
   "source": [
    "plt.scatter(X, y)"
   ]
  },
  {
   "cell_type": "code",
   "execution_count": 65,
   "metadata": {},
   "outputs": [
    {
     "name": "stdout",
     "output_type": "stream",
     "text": [
      "\n",
      "Degree 1 회귀 계수는 (array([-2.]), 2)\n",
      "Degree 1 MSE는 0.39\n",
      "\n",
      "Degree 4 회귀 계수는 (array([  2., -23.,  32., -11.]), 2)\n",
      "Degree 4 MSE는 0.01\n",
      "\n",
      "Degree 17 회귀 계수는 (array([ 1.47200000e+03, -5.84030000e+04,  1.23728800e+06, -1.61814690e+07,\n",
      "        1.41203188e+08, -8.63524895e+08,  3.82667021e+09, -1.25721676e+10,\n",
      "        3.10742082e+10, -5.82167093e+10,  8.27179153e+10, -8.85081524e+10,\n",
      "        7.01306775e+10, -3.98884868e+10,  1.53951055e+10, -3.60985977e+09,\n",
      "        3.88121911e+08]), 2)\n",
      "Degree 17 MSE는 195962787.32\n"
     ]
    },
    {
     "data": {
      "image/png": "[encoded data removed]",
      "text/plain": [
       "<Figure size 1008x360 with 3 Axes>"
      ]
     },
     "metadata": {},
     "output_type": "display_data"
    }
   ],
   "source": [
    "# 다항 회귀의 차수(degree)를 변화시키면서 회귀 계수와 mse값 구해보고 그래프로 나타내기\n",
    "fig = plt.figure(figsize=(14,5))\n",
    "fig.set_facecolor(\"w\")\n",
    "degrees = [1, 4, 17]\n",
    "\n",
    "# 다항 회귀의 차수(degree)를 1, 4, 17로 각각 변화시키면서 비교합니다.\n",
    "for i in range(len(degrees)) :\n",
    "    ax = plt.subplot(1, len(degrees), i + 1)\n",
    "    plt.setp(ax, xticks=(), yticks=())\n",
    "\n",
    "    # 개별 degree별로 Polynomial로 변환함\n",
    "    polynomial_features = PolynomialFeatures(degree=degrees[i], include_bias=False)\n",
    "    linear_regression = LinearRegression()\n",
    "    pipeline = Pipeline([\n",
    "        (\"polynomial_features\", polynomial_features),\n",
    "        (\"linear_regression\", linear_regression)\n",
    "    ])\n",
    "    pipeline.fit(X.reshape(-1,1), y)\n",
    "\n",
    "    # 교차 검증으로 다항 회귀를 평가합니다\n",
    "    scores = cross_val_score(pipeline, X.reshape(-1,1), y,\n",
    "                            scoring=\"neg_mean_squared_error\", cv=10)\n",
    "    coefficients = pipeline.named_steps[\"linear_regression\"].coef_\n",
    "    print(f\"\\nDegree {degrees[i]} 회귀 계수는 {np.round(coefficients),2}\")\n",
    "    print(f\"Degree {degrees[i]} MSE는 {-1*np.mean(scores):.2f}\")\n",
    "\n",
    "    # 0부터 1까지 테스트 데이터 세트를 100개로 나눠 예측을 수행합니다.\n",
    "    # 테스트 데이터 세트에 회귀 예측을 수행하고 예측 곡선과 실제 곡선을 그려서 비교\n",
    "    X_test = np.linspace(0, 1, 100)\n",
    "    # 예측값 곡선\n",
    "    plt.plot(X_test, pipeline.predict(X_test[:, np.newaxis]), label=\"Model\")\n",
    "    # 실제 값 곡선\n",
    "    plt.plot(X_test, true_fun(X_test), '--', label=\"True function\")\n",
    "    plt.scatter(X, y, edgecolors=\"b\", s=20, label=\"Samples\")\n",
    "\n",
    "    plt.xlabel(\"X\"); plt.ylabel(\"y\"); plt.xlim((0,1)); plt.ylim((-2,2)); plt.legend(loc=\"best\")\n",
    "    plt.title(f\"Degree {degrees[i]}\\nMSE={-scores.mean():.4f}(+/-{-scores.std():2e})\")\n",
    "\n",
    "plt.show()\n",
    "\n",
    "# 1은 과소적합 : 변동성은 낮지만 편향이 높음\n",
    "# 17은 과대적합 : 변동성이 높으나 편향은 낮음"
   ]
  },
  {
   "cell_type": "markdown",
   "metadata": {},
   "source": [
    "## 규제 선형 회귀\n",
    "* Lasso : L1\n",
    "* Ridge : L2\n",
    "* ElasticNet : L1 + L2"
   ]
  },
  {
   "cell_type": "markdown",
   "metadata": {},
   "source": [
    "#### 릿지 회귀로 보스턴 집값 예측"
   ]
  },
  {
   "cell_type": "code",
   "execution_count": 66,
   "metadata": {},
   "outputs": [
    {
     "name": "stdout",
     "output_type": "stream",
     "text": [
      "5 folds의 개별 Negative MSE scores : [-11.422 -24.294 -28.144 -74.599 -28.517]\n",
      "5 folds의 개별 RMSE scores : [3.38  4.929 5.305 8.637 5.34 ]\n",
      "5 folds의 개별 평균 RMSE : 5.518166280868972\n"
     ]
    }
   ],
   "source": [
    "# 앞의 LinearRegression 예제에서 분할한 feature 데이터셋인 X_data와\n",
    "# Target 데이터셋인 y_target 데이터셋을 그대로 이용\n",
    "\n",
    "from sklearn.linear_model import Ridge\n",
    "from sklearn.model_selection import cross_val_score\n",
    "\n",
    "from sklearn.model_selection import train_test_split\n",
    "from sklearn.linear_model import LinearRegression\n",
    "from sklearn.metrics import mean_squared_error, r2_score\n",
    "from sklearn.datasets import load_boston\n",
    "\n",
    "from sklearn.preprocessing import PolynomialFeatures\n",
    "from sklearn.pipeline import Pipeline\n",
    "import matplotlib.pyplot as plt\n",
    "import seaborn as sns\n",
    "import numpy as np\n",
    "import warnings\n",
    "warnings.filterwarnings(\"ignore\")\n",
    "\n",
    "# boston 데이터 셋 로드\n",
    "boston = load_boston()\n",
    "\n",
    "# boston 데이터셋 DataFrame 변환\n",
    "bostonDF = pd.DataFrame(boston.data, columns=boston.feature_names)\n",
    "\n",
    "# boston dataset의 target array는 주택 가격. PRICE 컬럼으로 DataFrame에 존재\n",
    "bostonDF[\"PRICE\"] = boston.target\n",
    "\n",
    "y_target = bostonDF[\"PRICE\"]\n",
    "X_data = bostonDF.drop([\"PRICE\"], axis=1, inplace=False)\n",
    "\n",
    "# 릿지 클래스\n",
    "ridge = Ridge(alpha=10)\n",
    "neg_mse_scores = cross_val_score(ridge, X_data, y_target, scoring=\"neg_mean_squared_error\", cv=5)\n",
    "rmse_scores = np.sqrt(-1 * neg_mse_scores)\n",
    "avg_rmse = np.mean(rmse_scores)\n",
    "print(f\"5 folds의 개별 Negative MSE scores : {np.round(neg_mse_scores, 3)}\")\n",
    "print(f\"5 folds의 개별 RMSE scores : {np.round(rmse_scores, 3)}\")\n",
    "print(f\"5 folds의 개별 평균 RMSE : {avg_rmse}\")"
   ]
  },
  {
   "cell_type": "code",
   "execution_count": 67,
   "metadata": {},
   "outputs": [
    {
     "name": "stdout",
     "output_type": "stream",
     "text": [
      "alpha 0일 때 5 folds의 평균 RMSE : 5.829\n",
      "alpha 0.1일 때 5 folds의 평균 RMSE : 5.788\n",
      "alpha 1일 때 5 folds의 평균 RMSE : 5.653\n",
      "alpha 10일 때 5 folds의 평균 RMSE : 5.518\n",
      "alpha 100일 때 5 folds의 평균 RMSE : 5.330\n"
     ]
    }
   ],
   "source": [
    "# Ridge에 사용될 alpha 파라미터의 값들을 정의\n",
    "alphas = [0, 0.1, 1, 10, 100]\n",
    "\n",
    "# alphas list 값을 iteration하면서 alpha에 따른 평균 rmse 구함\n",
    "for alpha in alphas :\n",
    "    ridge = Ridge(alpha=alpha)\n",
    "\n",
    "    # cross_val_score를 이용하여 5 fold의 평균 RMSE 계산\n",
    "    neg_mse_scores = cross_val_score(ridge, X_data, y_target, scoring=\"neg_mean_squared_error\", cv=5)\n",
    "    avg_rmse = np.mean(np.sqrt(-1*neg_mse_scores))\n",
    "    print(f\"alpha {alpha}일 때 5 folds의 평균 RMSE : {avg_rmse:.3f}\")\n",
    "\n",
    "# alpha 값 증가할 수록 모델 성능 향상 되고 있음"
   ]
  },
  {
   "cell_type": "code",
   "execution_count": 68,
   "metadata": {},
   "outputs": [
    {
     "data": {
      "image/png": "[encoded data removed]",
      "text/plain": [
       "<Figure size 1296x432 with 5 Axes>"
      ]
     },
     "metadata": {},
     "output_type": "display_data"
    }
   ],
   "source": [
    "# 알파 값이 증가할수록 실제로 회귀 계수 값이 작아지는지 확인\n",
    "# 각 alpha에 따른 회귀 계수 값을 시각화하기 위해 5개의 렬로 된 맷플롯립 축 생성\n",
    "fig, axs = plt.subplots(figsize=(18,6), nrows=1, ncols=5)\n",
    "fig.set_facecolor(\"w\")\n",
    "fig.tight_layout()\n",
    "# 각 alpha에 따른 회귀 계수 값을 데이터로 저장하기 위한 DataFrame 생성\n",
    "coeff_df = pd.DataFrame()\n",
    "\n",
    "# alpahs 리스트 값을 차례대로 입력해 회귀 계수 값 시각화 및 데이터 저장.\n",
    "# pos는 axis의 위치 지정\n",
    "for pos, alpha in enumerate(alphas) :\n",
    "    ridge = Ridge(alpha=alpha)\n",
    "    ridge.fit(X_data, y_target)\n",
    "    # alpha에 따른 피처별 회귀 계수를 Series로 변환하고 이를 DataFrame의 컬럼으로 추가\n",
    "    coeff = pd.Series(data=ridge.coef_, index=X_data.columns)\n",
    "    colname = \"alpha:\" + str(alpha)\n",
    "    coeff_df[colname] = coeff\n",
    "    # 막대 그래프로 각 alpha 값에서의 회귀 계수를 시각화. 회귀 계수값이 높은 순으로 표현\n",
    "    coeff = coeff.sort_values(ascending=False) # 내림차순 정렬\n",
    "    axs[pos].set_title(colname)\n",
    "    axs[pos].set_xlim(-3,6)\n",
    "    sns.barplot(x=coeff.values, y=coeff.index, ax=axs[pos])\n",
    "\n",
    "# for문 바깥에서 맷플롯립의 show 호출 및 alpha에 따른 피처별 회귀 계수를 DF로 표시\n",
    "plt.show()\n",
    "\n",
    "# alpha가 커짐에 따라 NOX가 많이 작아져서 다른 회귀계수와 스케일이 비슷해짐"
   ]
  },
  {
   "cell_type": "code",
   "execution_count": 69,
   "metadata": {},
   "outputs": [
    {
     "data": {
      "text/html": [
       "<div>\n",
       "<style scoped>\n",
       "    .dataframe tbody tr th:only-of-type {\n",
       "        vertical-align: middle;\n",
       "    }\n",
       "\n",
       "    .dataframe tbody tr th {\n",
       "        vertical-align: top;\n",
       "    }\n",
       "\n",
       "    .dataframe thead th {\n",
       "        text-align: right;\n",
       "    }\n",
       "</style>\n",
       "<table border=\"1\" class=\"dataframe\">\n",
       "  <thead>\n",
       "    <tr style=\"text-align: right;\">\n",
       "      <th></th>\n",
       "      <th>alpha:0</th>\n",
       "      <th>alpha:0.1</th>\n",
       "      <th>alpha:1</th>\n",
       "      <th>alpha:10</th>\n",
       "      <th>alpha:100</th>\n",
       "    </tr>\n",
       "  </thead>\n",
       "  <tbody>\n",
       "    <tr>\n",
       "      <th>RM</th>\n",
       "      <td>3.809865</td>\n",
       "      <td>3.818233</td>\n",
       "      <td>3.854000</td>\n",
       "      <td>3.702272</td>\n",
       "      <td>2.334536</td>\n",
       "    </tr>\n",
       "    <tr>\n",
       "      <th>CHAS</th>\n",
       "      <td>2.686734</td>\n",
       "      <td>2.670019</td>\n",
       "      <td>2.552393</td>\n",
       "      <td>1.952021</td>\n",
       "      <td>0.638335</td>\n",
       "    </tr>\n",
       "    <tr>\n",
       "      <th>RAD</th>\n",
       "      <td>0.306049</td>\n",
       "      <td>0.303515</td>\n",
       "      <td>0.290142</td>\n",
       "      <td>0.279596</td>\n",
       "      <td>0.315358</td>\n",
       "    </tr>\n",
       "    <tr>\n",
       "      <th>ZN</th>\n",
       "      <td>0.046420</td>\n",
       "      <td>0.046572</td>\n",
       "      <td>0.047443</td>\n",
       "      <td>0.049579</td>\n",
       "      <td>0.054496</td>\n",
       "    </tr>\n",
       "    <tr>\n",
       "      <th>INDUS</th>\n",
       "      <td>0.020559</td>\n",
       "      <td>0.015999</td>\n",
       "      <td>-0.008805</td>\n",
       "      <td>-0.042962</td>\n",
       "      <td>-0.052826</td>\n",
       "    </tr>\n",
       "    <tr>\n",
       "      <th>B</th>\n",
       "      <td>0.009312</td>\n",
       "      <td>0.009368</td>\n",
       "      <td>0.009673</td>\n",
       "      <td>0.010037</td>\n",
       "      <td>0.009393</td>\n",
       "    </tr>\n",
       "    <tr>\n",
       "      <th>AGE</th>\n",
       "      <td>0.000692</td>\n",
       "      <td>-0.000269</td>\n",
       "      <td>-0.005415</td>\n",
       "      <td>-0.010707</td>\n",
       "      <td>0.001212</td>\n",
       "    </tr>\n",
       "    <tr>\n",
       "      <th>TAX</th>\n",
       "      <td>-0.012335</td>\n",
       "      <td>-0.012421</td>\n",
       "      <td>-0.012912</td>\n",
       "      <td>-0.013993</td>\n",
       "      <td>-0.015856</td>\n",
       "    </tr>\n",
       "    <tr>\n",
       "      <th>CRIM</th>\n",
       "      <td>-0.108011</td>\n",
       "      <td>-0.107474</td>\n",
       "      <td>-0.104595</td>\n",
       "      <td>-0.101435</td>\n",
       "      <td>-0.102202</td>\n",
       "    </tr>\n",
       "    <tr>\n",
       "      <th>LSTAT</th>\n",
       "      <td>-0.524758</td>\n",
       "      <td>-0.525966</td>\n",
       "      <td>-0.533343</td>\n",
       "      <td>-0.559366</td>\n",
       "      <td>-0.660764</td>\n",
       "    </tr>\n",
       "    <tr>\n",
       "      <th>PTRATIO</th>\n",
       "      <td>-0.952747</td>\n",
       "      <td>-0.940759</td>\n",
       "      <td>-0.876074</td>\n",
       "      <td>-0.797945</td>\n",
       "      <td>-0.829218</td>\n",
       "    </tr>\n",
       "    <tr>\n",
       "      <th>DIS</th>\n",
       "      <td>-1.475567</td>\n",
       "      <td>-1.459626</td>\n",
       "      <td>-1.372654</td>\n",
       "      <td>-1.248808</td>\n",
       "      <td>-1.153390</td>\n",
       "    </tr>\n",
       "    <tr>\n",
       "      <th>NOX</th>\n",
       "      <td>-17.766611</td>\n",
       "      <td>-16.684645</td>\n",
       "      <td>-10.777015</td>\n",
       "      <td>-2.371619</td>\n",
       "      <td>-0.262847</td>\n",
       "    </tr>\n",
       "  </tbody>\n",
       "</table>\n",
       "</div>"
      ],
      "text/plain": [
       "           alpha:0  alpha:0.1    alpha:1  alpha:10  alpha:100\n",
       "RM        3.809865   3.818233   3.854000  3.702272   2.334536\n",
       "CHAS      2.686734   2.670019   2.552393  1.952021   0.638335\n",
       "RAD       0.306049   0.303515   0.290142  0.279596   0.315358\n",
       "ZN        0.046420   0.046572   0.047443  0.049579   0.054496\n",
       "INDUS     0.020559   0.015999  -0.008805 -0.042962  -0.052826\n",
       "B         0.009312   0.009368   0.009673  0.010037   0.009393\n",
       "AGE       0.000692  -0.000269  -0.005415 -0.010707   0.001212\n",
       "TAX      -0.012335  -0.012421  -0.012912 -0.013993  -0.015856\n",
       "CRIM     -0.108011  -0.107474  -0.104595 -0.101435  -0.102202\n",
       "LSTAT    -0.524758  -0.525966  -0.533343 -0.559366  -0.660764\n",
       "PTRATIO  -0.952747  -0.940759  -0.876074 -0.797945  -0.829218\n",
       "DIS      -1.475567  -1.459626  -1.372654 -1.248808  -1.153390\n",
       "NOX     -17.766611 -16.684645 -10.777015 -2.371619  -0.262847"
      ]
     },
     "execution_count": 69,
     "metadata": {},
     "output_type": "execute_result"
    }
   ],
   "source": [
    "# 알파값에 따른 회귀 계수 출력\n",
    "ridge_alphas = [0, 0.1, 1, 10, 100]\n",
    "sort_column = \"alpha:\" + str(ridge_alphas[0])\n",
    "coeff_df.sort_values(by=sort_column, ascending=False)\n",
    "\n",
    "# 릿지 회귀에서 알파값이 증가할수록 NOX값이 감소하여 다른 회귀 계수들과 스케일이 비슷해짐.\n",
    "# 이로 인해 기존 회귀 모델의 성능이 개선 되었음."
   ]
  },
  {
   "cell_type": "markdown",
   "metadata": {},
   "source": [
    "#### Lasso 회귀 연습"
   ]
  },
  {
   "cell_type": "code",
   "execution_count": 70,
   "metadata": {},
   "outputs": [],
   "source": [
    "# 평균 RMSE, 회귀 계수 값들을 반환해주는 함수 이용\n",
    "\n",
    "from sklearn.linear_model import Lasso, ElasticNet\n",
    "\n",
    "# alpha 값에 따른 회귀 모델의 폴드 평균 RMSE를 출력, 회귀 계수값들을 DF로 반환해주는 함수\n",
    "def get_linear_reg_eval(model_name, params=None, X_data_n=None, y_target_n=None, verbose=True) :\n",
    "    coeff_df = pd.DataFrame()\n",
    "    if verbose : print(\"#######\", model_name, \"#######\")\n",
    "    for param in params :\n",
    "        if model_name == \"Ridge\" : model = Ridge(alpha=param)\n",
    "        elif model_name == \"Lasso\" : model = Lasso(alpha=param)\n",
    "        elif model_name == \"ElasticNet\" : model = ElasticNet(alpha=param, l1_ratio=0.7)\n",
    "        \n",
    "        neg_mse_scores = cross_val_score(model, X_data_n, y_target_n,\n",
    "                                scoring=\"neg_mean_squared_error\", cv=5)\n",
    "        avg_rmse = np.mean(np.sqrt(-1*neg_mse_scores))\n",
    "        print(f\"alpha {param}일 때 5 폴드 세트의 평균 RMSE : {avg_rmse:.3f}\")\n",
    "\n",
    "        # cross_val_scroe는 evaluation metric만 반호나하므로 모델을 다시 학습하여 회귀 계수 추출\n",
    "        model.fit(X_data, y_target)\n",
    "        # alpha에 따른 피처별 회귀 계수를 Series로 변환, 이를 DF의 컬럼으로 추가\n",
    "        coeff = pd.Series(data=model.coef_, index=X_data.columns)\n",
    "        colname = \"alpha:\" + str(param)\n",
    "        coeff_df[colname] = coeff\n",
    "    return coeff_df\n",
    "# end of get_linear_reg_eval"
   ]
  },
  {
   "cell_type": "code",
   "execution_count": 71,
   "metadata": {},
   "outputs": [
    {
     "name": "stdout",
     "output_type": "stream",
     "text": [
      "####### Lasso #######\n",
      "alpha 0.07일 때 5 폴드 세트의 평균 RMSE : 5.612\n",
      "alpha 0.1일 때 5 폴드 세트의 평균 RMSE : 5.615\n",
      "alpha 0.5일 때 5 폴드 세트의 평균 RMSE : 5.669\n",
      "alpha 1일 때 5 폴드 세트의 평균 RMSE : 5.776\n",
      "alpha 3일 때 5 폴드 세트의 평균 RMSE : 6.189\n"
     ]
    }
   ],
   "source": [
    "# 라쏘에 사용될 alpha 파라미터의 값들을 정의하고 get_linear_reg_eval() 함수 호출\n",
    "lasso_alphas = [0.07, 0.1, 0.5, 1, 3]\n",
    "coeff_lasso_df = get_linear_reg_eval(\"Lasso\", params=lasso_alphas, X_data_n=X_data, y_target_n=y_target)\n",
    "\n",
    "# 알파 값이 0.07일 때 RMSE가 가장 좋음"
   ]
  },
  {
   "cell_type": "markdown",
   "metadata": {},
   "source": [
    "* 라쏘는 알파 값이 증가되면 특정 피처의 회귀 계수를 0으로 만들어서 해당 피처를 회귀 식에서 제외시켜 버린다."
   ]
  },
  {
   "cell_type": "code",
   "execution_count": 72,
   "metadata": {},
   "outputs": [
    {
     "data": {
      "text/html": [
       "<div>\n",
       "<style scoped>\n",
       "    .dataframe tbody tr th:only-of-type {\n",
       "        vertical-align: middle;\n",
       "    }\n",
       "\n",
       "    .dataframe tbody tr th {\n",
       "        vertical-align: top;\n",
       "    }\n",
       "\n",
       "    .dataframe thead th {\n",
       "        text-align: right;\n",
       "    }\n",
       "</style>\n",
       "<table border=\"1\" class=\"dataframe\">\n",
       "  <thead>\n",
       "    <tr style=\"text-align: right;\">\n",
       "      <th></th>\n",
       "      <th>alpha:0.07</th>\n",
       "      <th>alpha:0.1</th>\n",
       "      <th>alpha:0.5</th>\n",
       "      <th>alpha:1</th>\n",
       "      <th>alpha:3</th>\n",
       "    </tr>\n",
       "  </thead>\n",
       "  <tbody>\n",
       "    <tr>\n",
       "      <th>RM</th>\n",
       "      <td>3.789725</td>\n",
       "      <td>3.703202</td>\n",
       "      <td>2.498212</td>\n",
       "      <td>0.949811</td>\n",
       "      <td>0.000000</td>\n",
       "    </tr>\n",
       "    <tr>\n",
       "      <th>CHAS</th>\n",
       "      <td>1.434343</td>\n",
       "      <td>0.955190</td>\n",
       "      <td>0.000000</td>\n",
       "      <td>0.000000</td>\n",
       "      <td>0.000000</td>\n",
       "    </tr>\n",
       "    <tr>\n",
       "      <th>RAD</th>\n",
       "      <td>0.270936</td>\n",
       "      <td>0.274707</td>\n",
       "      <td>0.277451</td>\n",
       "      <td>0.264206</td>\n",
       "      <td>0.061864</td>\n",
       "    </tr>\n",
       "    <tr>\n",
       "      <th>ZN</th>\n",
       "      <td>0.049059</td>\n",
       "      <td>0.049211</td>\n",
       "      <td>0.049544</td>\n",
       "      <td>0.049165</td>\n",
       "      <td>0.037231</td>\n",
       "    </tr>\n",
       "    <tr>\n",
       "      <th>B</th>\n",
       "      <td>0.010248</td>\n",
       "      <td>0.010249</td>\n",
       "      <td>0.009469</td>\n",
       "      <td>0.008247</td>\n",
       "      <td>0.006510</td>\n",
       "    </tr>\n",
       "    <tr>\n",
       "      <th>NOX</th>\n",
       "      <td>-0.000000</td>\n",
       "      <td>-0.000000</td>\n",
       "      <td>-0.000000</td>\n",
       "      <td>-0.000000</td>\n",
       "      <td>0.000000</td>\n",
       "    </tr>\n",
       "    <tr>\n",
       "      <th>AGE</th>\n",
       "      <td>-0.011706</td>\n",
       "      <td>-0.010037</td>\n",
       "      <td>0.003604</td>\n",
       "      <td>0.020910</td>\n",
       "      <td>0.042495</td>\n",
       "    </tr>\n",
       "    <tr>\n",
       "      <th>TAX</th>\n",
       "      <td>-0.014290</td>\n",
       "      <td>-0.014570</td>\n",
       "      <td>-0.015442</td>\n",
       "      <td>-0.015212</td>\n",
       "      <td>-0.008602</td>\n",
       "    </tr>\n",
       "    <tr>\n",
       "      <th>INDUS</th>\n",
       "      <td>-0.042120</td>\n",
       "      <td>-0.036619</td>\n",
       "      <td>-0.005253</td>\n",
       "      <td>-0.000000</td>\n",
       "      <td>-0.000000</td>\n",
       "    </tr>\n",
       "    <tr>\n",
       "      <th>CRIM</th>\n",
       "      <td>-0.098193</td>\n",
       "      <td>-0.097894</td>\n",
       "      <td>-0.083289</td>\n",
       "      <td>-0.063437</td>\n",
       "      <td>-0.000000</td>\n",
       "    </tr>\n",
       "    <tr>\n",
       "      <th>LSTAT</th>\n",
       "      <td>-0.560431</td>\n",
       "      <td>-0.568769</td>\n",
       "      <td>-0.656290</td>\n",
       "      <td>-0.761115</td>\n",
       "      <td>-0.807679</td>\n",
       "    </tr>\n",
       "    <tr>\n",
       "      <th>PTRATIO</th>\n",
       "      <td>-0.765107</td>\n",
       "      <td>-0.770654</td>\n",
       "      <td>-0.758752</td>\n",
       "      <td>-0.722966</td>\n",
       "      <td>-0.265072</td>\n",
       "    </tr>\n",
       "    <tr>\n",
       "      <th>DIS</th>\n",
       "      <td>-1.176583</td>\n",
       "      <td>-1.160538</td>\n",
       "      <td>-0.936605</td>\n",
       "      <td>-0.668790</td>\n",
       "      <td>-0.000000</td>\n",
       "    </tr>\n",
       "  </tbody>\n",
       "</table>\n",
       "</div>"
      ],
      "text/plain": [
       "         alpha:0.07  alpha:0.1  alpha:0.5   alpha:1   alpha:3\n",
       "RM         3.789725   3.703202   2.498212  0.949811  0.000000\n",
       "CHAS       1.434343   0.955190   0.000000  0.000000  0.000000\n",
       "RAD        0.270936   0.274707   0.277451  0.264206  0.061864\n",
       "ZN         0.049059   0.049211   0.049544  0.049165  0.037231\n",
       "B          0.010248   0.010249   0.009469  0.008247  0.006510\n",
       "NOX       -0.000000  -0.000000  -0.000000 -0.000000  0.000000\n",
       "AGE       -0.011706  -0.010037   0.003604  0.020910  0.042495\n",
       "TAX       -0.014290  -0.014570  -0.015442 -0.015212 -0.008602\n",
       "INDUS     -0.042120  -0.036619  -0.005253 -0.000000 -0.000000\n",
       "CRIM      -0.098193  -0.097894  -0.083289 -0.063437 -0.000000\n",
       "LSTAT     -0.560431  -0.568769  -0.656290 -0.761115 -0.807679\n",
       "PTRATIO   -0.765107  -0.770654  -0.758752 -0.722966 -0.265072\n",
       "DIS       -1.176583  -1.160538  -0.936605 -0.668790 -0.000000"
      ]
     },
     "execution_count": 72,
     "metadata": {},
     "output_type": "execute_result"
    }
   ],
   "source": [
    "# 반환된 coeff_lasso_df를 첫번째 컬럼순으로 내림차순 정렬하여 회귀계수 DF 출력\n",
    "sort_column = \"alpha:\" + str(lasso_alphas[0])\n",
    "coeff_lasso_df.sort_values(by=sort_column, ascending=False)\n",
    "\n",
    "# 알파 값이 0.5 이상일 때 CHAS 회귀 계수 0이 되어버림\n",
    "# 알파 값 0.07부터 NOX 회귀 계수를 0으로"
   ]
  },
  {
   "cell_type": "code",
   "execution_count": 73,
   "metadata": {},
   "outputs": [
    {
     "name": "stdout",
     "output_type": "stream",
     "text": [
      "####### ElasticNet #######\n",
      "alpha 0.07일 때 5 폴드 세트의 평균 RMSE : 5.542\n",
      "alpha 0.1일 때 5 폴드 세트의 평균 RMSE : 5.526\n",
      "alpha 0.5일 때 5 폴드 세트의 평균 RMSE : 5.467\n",
      "alpha 1일 때 5 폴드 세트의 평균 RMSE : 5.597\n",
      "alpha 3일 때 5 폴드 세트의 평균 RMSE : 6.068\n"
     ]
    }
   ],
   "source": [
    "# 엘라스틱넷에 사용될 alpha 파라미터의 값들을 정의하고 get_linear_reg_eval() 함수 호출\n",
    "# l1_ratio 는 0.7로 고정\n",
    "elastic_alphas = [0.07, 0.1, 0.5, 1, 3]\n",
    "coeff_elastic_df = get_linear_reg_eval(\"ElasticNet\", params=elastic_alphas,\n",
    "                                        X_data_n=X_data, y_target_n=y_target)\n",
    "\n",
    "# 알파값이 0.5일 때 RMSE가 가장 낮다"
   ]
  },
  {
   "cell_type": "code",
   "execution_count": 74,
   "metadata": {},
   "outputs": [
    {
     "data": {
      "text/html": [
       "<div>\n",
       "<style scoped>\n",
       "    .dataframe tbody tr th:only-of-type {\n",
       "        vertical-align: middle;\n",
       "    }\n",
       "\n",
       "    .dataframe tbody tr th {\n",
       "        vertical-align: top;\n",
       "    }\n",
       "\n",
       "    .dataframe thead th {\n",
       "        text-align: right;\n",
       "    }\n",
       "</style>\n",
       "<table border=\"1\" class=\"dataframe\">\n",
       "  <thead>\n",
       "    <tr style=\"text-align: right;\">\n",
       "      <th></th>\n",
       "      <th>alpha:0.07</th>\n",
       "      <th>alpha:0.1</th>\n",
       "      <th>alpha:0.5</th>\n",
       "      <th>alpha:1</th>\n",
       "      <th>alpha:3</th>\n",
       "    </tr>\n",
       "  </thead>\n",
       "  <tbody>\n",
       "    <tr>\n",
       "      <th>RM</th>\n",
       "      <td>3.574162</td>\n",
       "      <td>3.414154</td>\n",
       "      <td>1.918419</td>\n",
       "      <td>0.938789</td>\n",
       "      <td>0.000000</td>\n",
       "    </tr>\n",
       "    <tr>\n",
       "      <th>CHAS</th>\n",
       "      <td>1.330724</td>\n",
       "      <td>0.979706</td>\n",
       "      <td>0.000000</td>\n",
       "      <td>0.000000</td>\n",
       "      <td>0.000000</td>\n",
       "    </tr>\n",
       "    <tr>\n",
       "      <th>RAD</th>\n",
       "      <td>0.278880</td>\n",
       "      <td>0.283443</td>\n",
       "      <td>0.300761</td>\n",
       "      <td>0.289299</td>\n",
       "      <td>0.146846</td>\n",
       "    </tr>\n",
       "    <tr>\n",
       "      <th>ZN</th>\n",
       "      <td>0.050107</td>\n",
       "      <td>0.050617</td>\n",
       "      <td>0.052878</td>\n",
       "      <td>0.052136</td>\n",
       "      <td>0.038268</td>\n",
       "    </tr>\n",
       "    <tr>\n",
       "      <th>B</th>\n",
       "      <td>0.010122</td>\n",
       "      <td>0.010067</td>\n",
       "      <td>0.009114</td>\n",
       "      <td>0.008320</td>\n",
       "      <td>0.007020</td>\n",
       "    </tr>\n",
       "    <tr>\n",
       "      <th>AGE</th>\n",
       "      <td>-0.010116</td>\n",
       "      <td>-0.008276</td>\n",
       "      <td>0.007760</td>\n",
       "      <td>0.020348</td>\n",
       "      <td>0.043446</td>\n",
       "    </tr>\n",
       "    <tr>\n",
       "      <th>TAX</th>\n",
       "      <td>-0.014522</td>\n",
       "      <td>-0.014814</td>\n",
       "      <td>-0.016046</td>\n",
       "      <td>-0.016218</td>\n",
       "      <td>-0.011417</td>\n",
       "    </tr>\n",
       "    <tr>\n",
       "      <th>INDUS</th>\n",
       "      <td>-0.044855</td>\n",
       "      <td>-0.042719</td>\n",
       "      <td>-0.023252</td>\n",
       "      <td>-0.000000</td>\n",
       "      <td>-0.000000</td>\n",
       "    </tr>\n",
       "    <tr>\n",
       "      <th>CRIM</th>\n",
       "      <td>-0.099468</td>\n",
       "      <td>-0.099213</td>\n",
       "      <td>-0.089070</td>\n",
       "      <td>-0.073577</td>\n",
       "      <td>-0.019058</td>\n",
       "    </tr>\n",
       "    <tr>\n",
       "      <th>NOX</th>\n",
       "      <td>-0.175072</td>\n",
       "      <td>-0.000000</td>\n",
       "      <td>-0.000000</td>\n",
       "      <td>-0.000000</td>\n",
       "      <td>-0.000000</td>\n",
       "    </tr>\n",
       "    <tr>\n",
       "      <th>LSTAT</th>\n",
       "      <td>-0.574822</td>\n",
       "      <td>-0.587702</td>\n",
       "      <td>-0.693861</td>\n",
       "      <td>-0.760457</td>\n",
       "      <td>-0.800368</td>\n",
       "    </tr>\n",
       "    <tr>\n",
       "      <th>PTRATIO</th>\n",
       "      <td>-0.779498</td>\n",
       "      <td>-0.784725</td>\n",
       "      <td>-0.790969</td>\n",
       "      <td>-0.738672</td>\n",
       "      <td>-0.423065</td>\n",
       "    </tr>\n",
       "    <tr>\n",
       "      <th>DIS</th>\n",
       "      <td>-1.189438</td>\n",
       "      <td>-1.173647</td>\n",
       "      <td>-0.975902</td>\n",
       "      <td>-0.725174</td>\n",
       "      <td>-0.031208</td>\n",
       "    </tr>\n",
       "  </tbody>\n",
       "</table>\n",
       "</div>"
      ],
      "text/plain": [
       "         alpha:0.07  alpha:0.1  alpha:0.5   alpha:1   alpha:3\n",
       "RM         3.574162   3.414154   1.918419  0.938789  0.000000\n",
       "CHAS       1.330724   0.979706   0.000000  0.000000  0.000000\n",
       "RAD        0.278880   0.283443   0.300761  0.289299  0.146846\n",
       "ZN         0.050107   0.050617   0.052878  0.052136  0.038268\n",
       "B          0.010122   0.010067   0.009114  0.008320  0.007020\n",
       "AGE       -0.010116  -0.008276   0.007760  0.020348  0.043446\n",
       "TAX       -0.014522  -0.014814  -0.016046 -0.016218 -0.011417\n",
       "INDUS     -0.044855  -0.042719  -0.023252 -0.000000 -0.000000\n",
       "CRIM      -0.099468  -0.099213  -0.089070 -0.073577 -0.019058\n",
       "NOX       -0.175072  -0.000000  -0.000000 -0.000000 -0.000000\n",
       "LSTAT     -0.574822  -0.587702  -0.693861 -0.760457 -0.800368\n",
       "PTRATIO   -0.779498  -0.784725  -0.790969 -0.738672 -0.423065\n",
       "DIS       -1.189438  -1.173647  -0.975902 -0.725174 -0.031208"
      ]
     },
     "execution_count": 74,
     "metadata": {},
     "output_type": "execute_result"
    }
   ],
   "source": [
    "# 반환된 coeff_elastic_df를 첫번째 컬럼순으로 내림차순 정렬하여 회귀계수 DF 출력\n",
    "sort_column = \"alpha:\" + str(elastic_alphas[0])\n",
    "coeff_elastic_df.sort_values(by=sort_column, ascending=False)\n",
    "\n",
    "# 엘라스틱넷 회귀는 릿지와 라쏘의 결합"
   ]
  },
  {
   "cell_type": "markdown",
   "metadata": {},
   "source": [
    "# Boston Housing Data를 이용해 회귀 연습\n",
    "\n",
    "Train : test = 70 : 30\n",
    "1. 0: 13 => feature\n",
    "2. 13 => label\n",
    "3. LinearRegression     을활용하여 MSE  구하세요\n",
    "Train : test = 70 : 30\n",
    "1. 0: 13 => feature\n",
    "2. 13 => label\n",
    "3. Feature Scaling  을한후\n",
    "4. LinearRegression     을활용하여 MSE\n",
    "Train : test = 70 : 30\n",
    "1. 0: 13 => feature\n",
    "2. 13 => label\n",
    "3. random_forest    또는XGBoost      를활용하여적정한\n",
    "feature_select 한후\n",
    "1. LinearRegression을 활용하여 MSE"
   ]
  },
  {
   "cell_type": "code",
   "execution_count": 75,
   "metadata": {},
   "outputs": [],
   "source": [
    "import pandas as pd\n",
    "from sklearn.model_selection import train_test_split\n",
    "from sklearn.linear_model import LinearRegression\n",
    "from sklearn.metrics import r2_score, mean_squared_error\n",
    "from sklearn.preprocessing import MinMaxScaler\n",
    "import numpy as np"
   ]
  },
  {
   "cell_type": "code",
   "execution_count": 76,
   "metadata": {},
   "outputs": [],
   "source": [
    "# sep=\"\\s+\"를 통해 띄어쓰기로 분할, names로 컬럼 지정, dtype으로 데이터 수치화\n",
    "columns=[\"CRIM\", \"ZN\", \"INDUS\", \"CHAS\", \"NOX\", \"RM\", \"AGE\", \"DIS\", \"RAD\", \"TAX\", \"PTRATIO\", \"B\", \"LSTAT\", \"MEDV\"]\n",
    "dt_origin = pd.read_csv(\"./csv_data/housing.csv\", sep=\"\\s+\", names=columns, dtype=float)\n",
    "\n",
    "dt = pd.DataFrame(dt_origin)\n",
    "\n",
    "y = dt.iloc[:,-1]\n",
    "X = dt.iloc[:, :-1]"
   ]
  },
  {
   "cell_type": "code",
   "execution_count": 77,
   "metadata": {},
   "outputs": [
    {
     "name": "stdout",
     "output_type": "stream",
     "text": [
      "R^2 : 0.6457702707255198, MSE : 28.84315432629765\n"
     ]
    }
   ],
   "source": [
    "X_train, X_test, y_train, y_test = train_test_split(X, y, test_size=0.3, random_state=121)\n",
    "\n",
    "lr = LinearRegression()\n",
    "lr.fit(X_train, y_train)\n",
    "\n",
    "lr_pred = lr.predict(X_test)\n",
    "\n",
    "print(f\"R^2 : {r2_score(y_test, lr_pred)}, MSE : {mean_squared_error(y_test, lr_pred)}\")"
   ]
  },
  {
   "cell_type": "code",
   "execution_count": 78,
   "metadata": {},
   "outputs": [
    {
     "data": {
      "text/html": [
       "<div>\n",
       "<style scoped>\n",
       "    .dataframe tbody tr th:only-of-type {\n",
       "        vertical-align: middle;\n",
       "    }\n",
       "\n",
       "    .dataframe tbody tr th {\n",
       "        vertical-align: top;\n",
       "    }\n",
       "\n",
       "    .dataframe thead th {\n",
       "        text-align: right;\n",
       "    }\n",
       "</style>\n",
       "<table border=\"1\" class=\"dataframe\">\n",
       "  <thead>\n",
       "    <tr style=\"text-align: right;\">\n",
       "      <th></th>\n",
       "      <th>175</th>\n",
       "      <th>229</th>\n",
       "      <th>257</th>\n",
       "      <th>74</th>\n",
       "      <th>220</th>\n",
       "      <th>198</th>\n",
       "      <th>472</th>\n",
       "      <th>131</th>\n",
       "      <th>159</th>\n",
       "      <th>233</th>\n",
       "      <th>...</th>\n",
       "      <th>115</th>\n",
       "      <th>380</th>\n",
       "      <th>202</th>\n",
       "      <th>155</th>\n",
       "      <th>24</th>\n",
       "      <th>306</th>\n",
       "      <th>255</th>\n",
       "      <th>120</th>\n",
       "      <th>435</th>\n",
       "      <th>201</th>\n",
       "    </tr>\n",
       "  </thead>\n",
       "  <tbody>\n",
       "    <tr>\n",
       "      <th>MEDV</th>\n",
       "      <td>29.4</td>\n",
       "      <td>31.5</td>\n",
       "      <td>50.0</td>\n",
       "      <td>24.1</td>\n",
       "      <td>26.7</td>\n",
       "      <td>34.6</td>\n",
       "      <td>23.2</td>\n",
       "      <td>19.6</td>\n",
       "      <td>23.3</td>\n",
       "      <td>48.3</td>\n",
       "      <td>...</td>\n",
       "      <td>18.3</td>\n",
       "      <td>10.4</td>\n",
       "      <td>42.3</td>\n",
       "      <td>15.6</td>\n",
       "      <td>15.6</td>\n",
       "      <td>33.4</td>\n",
       "      <td>20.9</td>\n",
       "      <td>22.0</td>\n",
       "      <td>13.4</td>\n",
       "      <td>24.1</td>\n",
       "    </tr>\n",
       "  </tbody>\n",
       "</table>\n",
       "<p>1 rows × 152 columns</p>\n",
       "</div>"
      ],
      "text/plain": [
       "       175   229   257   74    220   198   472   131   159   233  ...   115  \\\n",
       "MEDV  29.4  31.5  50.0  24.1  26.7  34.6  23.2  19.6  23.3  48.3  ...  18.3   \n",
       "\n",
       "       380   202   155   24    306   255   120   435   201  \n",
       "MEDV  10.4  42.3  15.6  15.6  33.4  20.9  22.0  13.4  24.1  \n",
       "\n",
       "[1 rows x 152 columns]"
      ]
     },
     "execution_count": 78,
     "metadata": {},
     "output_type": "execute_result"
    }
   ],
   "source": [
    "y_ = pd.DataFrame(y_train)\n",
    "y_.transpose()\n",
    "y_t = pd.DataFrame(y_test)\n",
    "y_t.transpose()"
   ]
  },
  {
   "cell_type": "code",
   "execution_count": 79,
   "metadata": {},
   "outputs": [
    {
     "name": "stdout",
     "output_type": "stream",
     "text": [
      "R^2 : 0.6457702707255197, MSE : 0.014243533000640822\n"
     ]
    }
   ],
   "source": [
    "scaler = MinMaxScaler()\n",
    "\n",
    "scaler.fit(X_train)\n",
    "X_scaled = scaler.transform(X_train)\n",
    "X_test_scaled = scaler.transform(X_test)\n",
    "scaler.fit(y_)\n",
    "y_scaled = scaler.transform(y_)\n",
    "y_test_scaled = scaler.transform(y_t)\n",
    "\n",
    "X_scaled_df = pd.DataFrame(X_scaled)\n",
    "y_scaled_train = pd.DataFrame(y_scaled)\n",
    "y_scaled_test = pd.DataFrame(y_test_scaled)\n",
    "\n",
    "lr.fit(X_scaled, y_scaled_train)\n",
    "\n",
    "lr_scaled_pred = lr.predict(X_test_scaled)\n",
    "\n",
    "\n",
    "print(f\"R^2 : {r2_score(y_scaled_test, lr_scaled_pred)}, MSE : {mean_squared_error(y_scaled_test, lr_scaled_pred)}\")"
   ]
  },
  {
   "cell_type": "code",
   "execution_count": 80,
   "metadata": {},
   "outputs": [],
   "source": [
    "import xgboost as xgb\n",
    "from xgboost import plot_importance"
   ]
  },
  {
   "cell_type": "code",
   "execution_count": 81,
   "metadata": {},
   "outputs": [
    {
     "name": "stdout",
     "output_type": "stream",
     "text": [
      "[14:52:11] WARNING: C:/Users/Administrator/workspace/xgboost-win64_release_1.5.1/src/learner.cc:576: \n",
      "Parameters: { \"num_round\" } might not be used.\n",
      "\n",
      "  This could be a false alarm, with some parameters getting used by language bindings but\n",
      "  then being mistakenly passed down to XGBoost core, or some parameter actually being used\n",
      "  but getting flagged wrongly here. Please open an issue if you find any such cases.\n",
      "\n",
      "\n",
      "[0]\tvalidation_0-rmse:22.55676\n",
      "[1]\tvalidation_0-rmse:20.48831\n",
      "[2]\tvalidation_0-rmse:18.61475\n",
      "[3]\tvalidation_0-rmse:16.94546\n",
      "[4]\tvalidation_0-rmse:15.44469\n",
      "[5]\tvalidation_0-rmse:14.11733\n",
      "[6]\tvalidation_0-rmse:12.95399\n",
      "[7]\tvalidation_0-rmse:11.92288\n",
      "[8]\tvalidation_0-rmse:11.03133\n",
      "[9]\tvalidation_0-rmse:10.18506\n",
      "[10]\tvalidation_0-rmse:9.43294\n",
      "[11]\tvalidation_0-rmse:8.78640\n",
      "[12]\tvalidation_0-rmse:8.21508\n",
      "[13]\tvalidation_0-rmse:7.69299\n",
      "[14]\tvalidation_0-rmse:7.20332\n",
      "[15]\tvalidation_0-rmse:6.73980\n",
      "[16]\tvalidation_0-rmse:6.32266\n",
      "[17]\tvalidation_0-rmse:5.95956\n",
      "[18]\tvalidation_0-rmse:5.69586\n",
      "[19]\tvalidation_0-rmse:5.43958\n",
      "[20]\tvalidation_0-rmse:5.20801\n",
      "[21]\tvalidation_0-rmse:5.04852\n",
      "[22]\tvalidation_0-rmse:4.86534\n",
      "[23]\tvalidation_0-rmse:4.71730\n",
      "[24]\tvalidation_0-rmse:4.60572\n",
      "[25]\tvalidation_0-rmse:4.49747\n",
      "[26]\tvalidation_0-rmse:4.40220\n",
      "[27]\tvalidation_0-rmse:4.33407\n",
      "[28]\tvalidation_0-rmse:4.27540\n",
      "[29]\tvalidation_0-rmse:4.21851\n",
      "[30]\tvalidation_0-rmse:4.16062\n",
      "[31]\tvalidation_0-rmse:4.11366\n",
      "[32]\tvalidation_0-rmse:4.06649\n",
      "[33]\tvalidation_0-rmse:4.02949\n",
      "[34]\tvalidation_0-rmse:4.00063\n",
      "[35]\tvalidation_0-rmse:3.97234\n",
      "[36]\tvalidation_0-rmse:3.94763\n",
      "[37]\tvalidation_0-rmse:3.92471\n",
      "[38]\tvalidation_0-rmse:3.91349\n",
      "[39]\tvalidation_0-rmse:3.89606\n",
      "[40]\tvalidation_0-rmse:3.87718\n",
      "[41]\tvalidation_0-rmse:3.86452\n",
      "[42]\tvalidation_0-rmse:3.84947\n",
      "[43]\tvalidation_0-rmse:3.84181\n",
      "[44]\tvalidation_0-rmse:3.83715\n",
      "[45]\tvalidation_0-rmse:3.83326\n",
      "[46]\tvalidation_0-rmse:3.82413\n",
      "[47]\tvalidation_0-rmse:3.81243\n",
      "[48]\tvalidation_0-rmse:3.80781\n",
      "[49]\tvalidation_0-rmse:3.79726\n",
      "[50]\tvalidation_0-rmse:3.79929\n",
      "[51]\tvalidation_0-rmse:3.79677\n",
      "[52]\tvalidation_0-rmse:3.79235\n",
      "[53]\tvalidation_0-rmse:3.77924\n",
      "[54]\tvalidation_0-rmse:3.75649\n",
      "[55]\tvalidation_0-rmse:3.74915\n",
      "[56]\tvalidation_0-rmse:3.74713\n",
      "[57]\tvalidation_0-rmse:3.74608\n",
      "[58]\tvalidation_0-rmse:3.74504\n",
      "[59]\tvalidation_0-rmse:3.73861\n",
      "[60]\tvalidation_0-rmse:3.72157\n",
      "[61]\tvalidation_0-rmse:3.72241\n",
      "[62]\tvalidation_0-rmse:3.72456\n",
      "[63]\tvalidation_0-rmse:3.71982\n",
      "[64]\tvalidation_0-rmse:3.71951\n",
      "[65]\tvalidation_0-rmse:3.71336\n",
      "[66]\tvalidation_0-rmse:3.71190\n",
      "[67]\tvalidation_0-rmse:3.70999\n",
      "[68]\tvalidation_0-rmse:3.71021\n",
      "[69]\tvalidation_0-rmse:3.70874\n",
      "[70]\tvalidation_0-rmse:3.70903\n",
      "[71]\tvalidation_0-rmse:3.70905\n",
      "[72]\tvalidation_0-rmse:3.70311\n",
      "[73]\tvalidation_0-rmse:3.70298\n",
      "[74]\tvalidation_0-rmse:3.70221\n",
      "[75]\tvalidation_0-rmse:3.70129\n",
      "[76]\tvalidation_0-rmse:3.70186\n",
      "[77]\tvalidation_0-rmse:3.69714\n",
      "[78]\tvalidation_0-rmse:3.69457\n",
      "[79]\tvalidation_0-rmse:3.69624\n",
      "[80]\tvalidation_0-rmse:3.69826\n",
      "[81]\tvalidation_0-rmse:3.70020\n",
      "[82]\tvalidation_0-rmse:3.70197\n",
      "[83]\tvalidation_0-rmse:3.69774\n",
      "[84]\tvalidation_0-rmse:3.69423\n",
      "[85]\tvalidation_0-rmse:3.69601\n",
      "[86]\tvalidation_0-rmse:3.69510\n",
      "[87]\tvalidation_0-rmse:3.69621\n",
      "[88]\tvalidation_0-rmse:3.69343\n",
      "[89]\tvalidation_0-rmse:3.69576\n",
      "[90]\tvalidation_0-rmse:3.69666\n",
      "[91]\tvalidation_0-rmse:3.69522\n",
      "[92]\tvalidation_0-rmse:3.69322\n",
      "[93]\tvalidation_0-rmse:3.69143\n",
      "[94]\tvalidation_0-rmse:3.68798\n",
      "[95]\tvalidation_0-rmse:3.68607\n",
      "[96]\tvalidation_0-rmse:3.68578\n",
      "[97]\tvalidation_0-rmse:3.68603\n",
      "[98]\tvalidation_0-rmse:3.68478\n",
      "[99]\tvalidation_0-rmse:3.68418\n",
      "R^2 : 0.8333042343750341, MSE : 13.573202066661267\n"
     ]
    }
   ],
   "source": [
    "# eta : learning_rate 와 비슷한 개념\n",
    "xgb_clt = xgb.XGBRegressor(num_round=400, eta=0.1, max_depth=5)\n",
    "xgb_clt.fit(X_train, y_train, early_stopping_rounds=100, eval_metric=\"rmse\", eval_set=[(X_test, y_test)])\n",
    "\n",
    "xgb_pred = xgb_clt.predict(X_test)\n",
    "\n",
    "print(f\"R^2 : {r2_score(y_test, xgb_pred)}, MSE : {mean_squared_error(y_test, xgb_pred)}\")"
   ]
  },
  {
   "cell_type": "code",
   "execution_count": 82,
   "metadata": {},
   "outputs": [
    {
     "data": {
      "text/plain": [
       "<AxesSubplot:title={'center':'Feature importance'}, xlabel='F score', ylabel='Features'>"
      ]
     },
     "execution_count": 82,
     "metadata": {},
     "output_type": "execute_result"
    },
    {
     "data": {
      "image/png": "[encoded data removed]",
      "text/plain": [
       "<Figure size 720x864 with 1 Axes>"
      ]
     },
     "metadata": {
      "needs_background": "light"
     },
     "output_type": "display_data"
    }
   ],
   "source": [
    "fig, ax = plt.subplots(figsize=(10, 12))\n",
    "\n",
    "plot_importance(xgb_clt, ax=ax)"
   ]
  },
  {
   "cell_type": "code",
   "execution_count": 83,
   "metadata": {},
   "outputs": [
    {
     "name": "stdout",
     "output_type": "stream",
     "text": [
      "R^2 : 0.5900430145636377, MSE : 33.380745942197315\n"
     ]
    }
   ],
   "source": [
    "# 13개의 컬럼 중 상위 6개만 이용\n",
    "columns_ft=[ \"CRIM\", \"RM\", \"DIS\", \"LSTAT\", \"AGE\", \"B\"]\n",
    "X_train_ft = X_train.loc[:, columns_ft]\n",
    "X_test_ft = X_test.loc[:, columns_ft]\n",
    "\n",
    "lr.fit(X_train_ft, y_train)\n",
    "\n",
    "pred_ft = lr.predict(X_test_ft)\n",
    "\n",
    "print(f\"R^2 : {r2_score(y_test, pred_ft)}, MSE : {mean_squared_error(y_test, pred_ft)}\")"
   ]
  },
  {
   "cell_type": "code",
   "execution_count": 96,
   "metadata": {},
   "outputs": [
    {
     "data": {
      "image/png": "[encoded data removed]",
      "text/plain": [
       "<Figure size 720x720 with 6 Axes>"
      ]
     },
     "metadata": {
      "needs_background": "light"
     },
     "output_type": "display_data"
    }
   ],
   "source": [
    "fig, axs = plt.subplots(ncols=1, nrows=6, figsize=(10,10))\n",
    "fig.tight_layout()\n",
    "\n",
    "for i, feature in enumerate(columns_ft) :\n",
    "    plt.subplot(6,1,i+1)\n",
    "    sns.regplot(x=X_test_ft[feature], y=y_test.values, line_kws={\"color\" : \"red\"})"
   ]
  }
 ],
 "metadata": {
  "interpreter": {
   "hash": "5d240ba0dc525c389faa33f5dcce5b4f32b6d6aa6d70d6d2dd929bd2b09ab69f"
  },
  "kernelspec": {
   "display_name": "Python 3.10.2 64-bit",
   "language": "python",
   "name": "python3"
  },
  "language_info": {
   "codemirror_mode": {
    "name": "ipython",
    "version": 3
   },
   "file_extension": ".py",
   "mimetype": "text/x-python",
   "name": "python",
   "nbconvert_exporter": "python",
   "pygments_lexer": "ipython3",
   "version": "3.10.2"
  },
  "orig_nbformat": 4
 },
 "nbformat": 4,
 "nbformat_minor": 2
}
