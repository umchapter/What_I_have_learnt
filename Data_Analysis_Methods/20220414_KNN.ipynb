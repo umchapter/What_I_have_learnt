{
 "cells": [
  {
   "cell_type": "markdown",
   "metadata": {},
   "source": [
    "## KNN (k-Nearest Neighbour)\n",
    "* 레이블 값을 미리 주는 지도학습\n",
    "* 장점 : 어떤 종류의 학습이나 준비 시간이 필요 없음\n",
    "* 단점 : 특징 공간에 있는 모든 데이터에 대한 정보가 필요함      \n",
    "가장 가까운 이웃을 찾기 위해 새로운 데이터에서 모든 기존 데이터까지의 거리를 확인해야 하기 때문     \n",
    "데이터와 클래스가 많이 있으면, 많은 메모리 공간과 계산 시간이 필요함"
   ]
  },
  {
   "cell_type": "code",
   "execution_count": null,
   "metadata": {},
   "outputs": [
    {
     "data": {
      "text/plain": [
       "<matplotlib.legend.Legend at 0x231da6b9f30>"
      ]
     },
     "metadata": {},
     "output_type": "display_data"
    },
    {
     "data": {
      "image/png": "[encoded data removed]",
      "text/plain": [
       "<Figure size 432x288 with 1 Axes>"
      ]
     },
     "metadata": {},
     "output_type": "display_data"
    }
   ],
   "source": [
    "from sklearn.datasets import load_iris\n",
    "from sklearn.model_selection import train_test_split\n",
    "import matplotlib.pyplot as plt\n",
    "\n",
    "iris = load_iris()\n",
    "sepal = iris.data[:, 0:2]\n",
    "kind = iris.target\n",
    "\n",
    "plt.xlabel(\"Sepal Length\")\n",
    "plt.ylabel(\"Sepal Width\")\n",
    "plt.plot(sepal[kind==0][:,0], sepal[kind==0][:,1],\n",
    "        \"ro\", label=\"Setosa\")\n",
    "plt.plot(sepal[kind==1][:,0], sepal[kind==1][:,1],\n",
    "        \"bo\", label=\"Versicolor\")\n",
    "plt.plot(sepal[kind==2][:,0], sepal[kind==2][:,1],\n",
    "        \"yo\", label=\"Verginica\")\n",
    "\n",
    "plt.legend()"
   ]
  },
  {
   "cell_type": "code",
   "execution_count": null,
   "metadata": {},
   "outputs": [
    {
     "name": "stdout",
     "output_type": "stream",
     "text": [
      "(120, 4)\n",
      "(30, 4)\n"
     ]
    }
   ],
   "source": [
    "X_i_knn = iris.data\n",
    "y_i_knn = iris.target\n",
    "\n",
    "X_i_knn_train, X_i_knn_test, y_i_knn_train, y_i_knn_test = train_test_split(\n",
    "    X_i_knn, y_i_knn, test_size=0.2, random_state=121\n",
    ")\n",
    "\n",
    "print(X_i_knn_train.shape)\n",
    "print(X_i_knn_test.shape)"
   ]
  },
  {
   "cell_type": "code",
   "execution_count": null,
   "metadata": {},
   "outputs": [
    {
     "name": "stdout",
     "output_type": "stream",
     "text": [
      "0.9666666666666667\n"
     ]
    }
   ],
   "source": [
    "from sklearn.neighbors import KNeighborsClassifier\n",
    "from sklearn.metrics import accuracy_score\n",
    "\n",
    "knn = KNeighborsClassifier(n_neighbors=6)\n",
    "knn.fit(X_i_knn_train, y_i_knn_train)\n",
    "\n",
    "knn_pred = knn.predict(X_i_knn_test)\n",
    "print(accuracy_score(y_i_knn_test, knn_pred))"
   ]
  },
  {
   "cell_type": "code",
   "execution_count": null,
   "metadata": {},
   "outputs": [
    {
     "name": "stdout",
     "output_type": "stream",
     "text": [
      "Versicolor\n",
      "Setosa\n"
     ]
    }
   ],
   "source": [
    "knn2 = KNeighborsClassifier(n_neighbors=5)\n",
    "knn2.fit(X_i_knn, y_i_knn)\n",
    "\n",
    "# 0 = setosa, 1 = versicolor, 2 = virginica\n",
    "classes = {\n",
    "    0 : \"Setosa\",\n",
    "    1 : \"Versicolor\",\n",
    "    2 : \"Virginica\"\n",
    "}\n",
    "\n",
    "# 새로운 데이터 제시\n",
    "X_new = [[3,4,5,2],\n",
    "        [5,4,2,2]]\n",
    "y_predict = knn.predict(X_new)\n",
    "\n",
    "print(classes[y_predict[0]])\n",
    "print(classes[y_predict[1]])"
   ]
  }
 ],
 "metadata": {
  "language_info": {
   "name": "python"
  },
  "orig_nbformat": 4
 },
 "nbformat": 4,
 "nbformat_minor": 2
}
