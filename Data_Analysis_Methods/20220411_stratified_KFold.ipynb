{
 "cells": [
  {
   "cell_type": "code",
   "execution_count": null,
   "metadata": {},
   "outputs": [],
   "source": [
    "from sklearn.tree import DecisionTreeClassifier\n",
    "from sklearn.datasets import load_iris\n",
    "from sklearn.metrics import accuracy_score\n",
    "from sklearn.model_selection import KFold\n",
    "import numpy as np\n",
    "import pandas as pd"
   ]
  },
  {
   "cell_type": "code",
   "execution_count": null,
   "metadata": {},
   "outputs": [],
   "source": [
    "iris = load_iris()\n",
    "iris_df = pd.DataFrame(data = iris.data, columns = iris.feature_names)\n",
    "iris_df[\"label\"] = iris.target\n",
    "iris_df[\"label\"].value_counts() # 레이블의 갯수/비율 측정"
   ]
  },
  {
   "cell_type": "code",
   "execution_count": null,
   "metadata": {},
   "outputs": [],
   "source": [
    "kfold = KFold(n_splits=3)   # 데이터셋 3개로 분할, 단순 KFold\n",
    "n_iter = 0\n",
    "\n",
    "for train_index, test_index in kfold.split(iris_df) : # kfold의 각 분할 부분마다\n",
    "    n_iter += 1\n",
    "    label_train = iris_df[\"label\"].iloc[train_index]\n",
    "    label_test = iris_df[\"label\"].iloc[test_index]\n",
    "    print(f\"교차검증 : {n_iter}\")\n",
    "    print(f\"학습 레이블 데이터 분포 : \\n{label_train.value_counts()}\")\n",
    "    print(f\"검증 레이블 데이터 분포 : \\n{label_test.value_counts()}\")\n",
    "\n",
    "# 결과 보면 레이블 0,1,2가 모두 들어있지 않음."
   ]
  },
  {
   "cell_type": "code",
   "execution_count": null,
   "metadata": {},
   "outputs": [],
   "source": [
    "from sklearn.model_selection import StratifiedKFold\n",
    "\n",
    "skf = StratifiedKFold(n_splits=3)\n",
    "n_iter = 0\n",
    "\n",
    "# StratifiedKFold 의 경우, 스플릿할 데이터와, 분할 기준이 되는 array 필요\n",
    "for train_index, test_index in skf.split(iris_df, iris_df[\"label\"]) :\n",
    "    n_iter += 1\n",
    "    # print(train_index)  # 행 넘버 뽑음\n",
    "    # print(test_index)\n",
    "    label_train = iris_df[\"label\"].iloc[train_index]\n",
    "    label_test = iris_df[\"label\"].iloc[test_index]\n",
    "    print(f\"교차검증 : {n_iter}\")\n",
    "    print(f\"학습 레이블 데이터 분포 : \\n{label_train.value_counts()}\")\n",
    "    print(f\"검증 레이블 데이터 분포 : \\n{label_test.value_counts()}\")\n",
    "\n",
    "# StratifiedKFold는 0,1,2 레이블의 비율 일정하게 만들어줌.\n",
    "    "
   ]
  }
 ],
 "metadata": {
  "interpreter": {
   "hash": "5d240ba0dc525c389faa33f5dcce5b4f32b6d6aa6d70d6d2dd929bd2b09ab69f"
  },
  "kernelspec": {
   "display_name": "Python 3.10.2 64-bit",
   "language": "python",
   "name": "python3"
  },
  "language_info": {
   "codemirror_mode": {
    "name": "ipython",
    "version": 3
   },
   "file_extension": ".py",
   "mimetype": "text/x-python",
   "name": "python",
   "nbconvert_exporter": "python",
   "pygments_lexer": "ipython3",
   "version": "3.10.2"
  },
  "orig_nbformat": 4
 },
 "nbformat": 4,
 "nbformat_minor": 2
}
