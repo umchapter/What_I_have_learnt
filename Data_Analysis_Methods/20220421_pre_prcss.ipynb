{
 "cells": [
  {
   "cell_type": "markdown",
   "metadata": {},
   "source": [
    "데이터 전처리\n",
    "===\n",
    "(정규화, 로그 변환, 스케일러, 원-핫 인코딩)\n",
    "---\n",
    "* 선형회귀 모델을 위한 데이터 변환\n",
    "    - 회귀 모델과 같은 선형 모델은 일반적으로 피처와 타깃값 간에 선형의 관계가 있다고 가정하고, 이러한 최적의 선형함수를 찾아내 결과를 예측함.\n",
    "    - 또한 선형 회귀 모델은 피처값과 타깃값의 분포가 정규 분포 형태인 경우를 매우 선호함.\n",
    "### 로그 변환, 스케일러, 다항 특성 적용\n",
    "\n",
    "<table>\n",
    " <tr>\n",
    "    <th>변환대상</th>\n",
    "    <th>설명</th>\n",
    "  </tr>\n",
    "  <tr>\n",
    "    <td>타깃값 변환</td>\n",
    "    <td>회귀에서 타깃값은 반드시 정규 분포를 가져야 함.</br>\n",
    "    이를 위해 주로 로그변환을 적용.</td>\n",
    "  </tr>\n",
    "  <tr>\n",
    "    <td rowspan=\"3\">피처값 변환</td>\n",
    "    <td>StandardScaler : 평균이 0, 분산이 1인 표준정규분포를 가진 데이터 세트로 변환</br>\n",
    "    MinMaxScaler : 최솟값이 0, 최댓값이 1인 값으로 정규화를 수행\n",
    "    </td>\n",
    "  </tr>\n",
    "  <tr>\n",
    "    <td>스케일링/정규화를 수행한 데이터 세트에 다시 다항 특성을 적용하여 변환.</br>\n",
    "    보통 1번 방법을 통해 예측 성능에 향상이 없을 경우 이와 같은 방법을 적용.\n",
    "    </td>  \n",
    "  </tr>\n",
    "  <tr>\n",
    "    <td>원래 값에 log 함수를 적용하면 보다 정규 분포에 가까운 형태로 값이 분포됨. 로그 변환은 매우 유용한 변환이며, 실제로 선형 회귀에서는 앞의 1, 2번 방법보다 로그 변환이 훨씬 많이 사용되는 변환 방법.</br>\n",
    "    왜냐하면 1번 방법의 경우 예측 성능 향상을 크게 기대하기 어려운 경우가 많으며, 2번 방법의 경우 피처의 개수가 매우 많을 경우에는 다항 변환으로 생성되는 피처의 개수가 기하급수적으로 늘어나 과적합 이슈가 발생할 수 있기 때문.\n",
    "    </td>\n",
    "  </tr>\n",
    "</table>\n",
    "\n",
    "### 인코딩\n",
    "* 선형 회귀의 데이터 인코딩은 일반적으로 레이블 인코딩이 아닌 원-핫 인코딩을 적용함.\n",
    "* 레이블 인코딩 : 카테고리 별로 1, 2, 3, 4, ...\n",
    "* 원-핫 인코딩 : 0과 1로 구성된 행렬 형태\n",
    "\n",
    "#### 실습 : 피처 데이터 변환에 따른 예측 성능 비교"
   ]
  },
  {
   "cell_type": "code",
   "execution_count": 5,
   "metadata": {},
   "outputs": [
    {
     "name": "stdout",
     "output_type": "stream",
     "text": [
      "(506,)\n"
     ]
    },
    {
     "data": {
      "text/plain": [
       "(array([ 21.,  55.,  82., 154.,  84.,  41.,  30.,   8.,  10.,  21.]),\n",
       " array([ 5. ,  9.5, 14. , 18.5, 23. , 27.5, 32. , 36.5, 41. , 45.5, 50. ]),\n",
       " <BarContainer object of 10 artists>)"
      ]
     },
     "execution_count": 5,
     "metadata": {},
     "output_type": "execute_result"
    },
    {
     "data": {
      "image/png": "[encoded data removed]",
      "text/plain": [
       "<Figure size 432x288 with 1 Axes>"
      ]
     },
     "metadata": {
      "needs_background": "light"
     },
     "output_type": "display_data"
    }
   ],
   "source": [
    "from sklearn.datasets import load_boston\n",
    "from sklearn.preprocessing import StandardScaler, MinMaxScaler, PolynomialFeatures\n",
    "import matplotlib.pyplot as plt\n",
    "import numpy as np\n",
    "\n",
    "import warnings\n",
    "warnings.filterwarnings(\"ignore\")\n",
    "\n",
    "house_price = load_boston()\n",
    "X_data = house_price.data\n",
    "y_target = house_price.target\n",
    "\n",
    "print(y_target.shape)\n",
    "plt.hist(y_target, bins=10)"
   ]
  },
  {
   "cell_type": "code",
   "execution_count": 6,
   "metadata": {},
   "outputs": [],
   "source": [
    "# method는 표준 정규 분포 변환(Standard), 최대값/최소값 정규화(MinMax), 로그변환(Log) 결정\n",
    "# p_degree는 다항식 특성을 추가할 때 적용, p_degree는 2이상 부여하지 않음.\n",
    "def get_scaled_data(method=\"None\", p_degree=None, input_data=None) :\n",
    "    if method == \"Standard\" :\n",
    "        scaled_data = StandardScaler().fit_transform(input_data)\n",
    "        # 정규분포화\n",
    "    elif method == \"MinMax\" :\n",
    "        scaled_data = MinMaxScaler().fit_transform(input_data)\n",
    "        # 최대최소\n",
    "    elif method == \"Log\" :\n",
    "        scaled_data = np.log1p(input_data)\n",
    "        # 로그변환\n",
    "    else :\n",
    "        scaled_data = input_data\n",
    "        # 메소드 입력 안 했을 경우 그대로 저장.\n",
    "\n",
    "    if p_degree != None :\n",
    "        scaled_data = PolynomialFeatures(\n",
    "            degree=p_degree, include_bias=False).fit_transform(scaled_data)\n",
    "        # p_degree 있는 경우 Polynomial 진행\n",
    "    \n",
    "    return scaled_data"
   ]
  },
  {
   "cell_type": "code",
   "execution_count": 7,
   "metadata": {},
   "outputs": [],
   "source": [
    "from sklearn.linear_model import Ridge\n",
    "from sklearn.model_selection import cross_val_score\n",
    "import pandas as pd\n",
    "\n",
    "data = []\n",
    "\n",
    "def get_linear_reg_eval(method=\"Ridge\", params=[], X_data_n=None, y_target_n=None, verbose=True) :\n",
    "    sub_data = []\n",
    "    for param in params :        \n",
    "        ridge = Ridge(alpha=param)\n",
    "        neg_mse_scores = cross_val_score(ridge, X_data_n, y_target_n, scoring=\"neg_mean_squared_error\", cv=5, verbose=verbose)\n",
    "        rmse_scores = np.sqrt(-1 * neg_mse_scores)\n",
    "        avg_rmse = np.mean(rmse_scores)\n",
    "        print(f\"alpha {param}일 때 5 folds의 개별 평균 RMSE : {avg_rmse:.4f}\")\n",
    "        sub_data.append(np.round(avg_rmse,3))\n",
    "    data.append(sub_data)\n",
    "    "
   ]
  },
  {
   "cell_type": "code",
   "execution_count": 8,
   "metadata": {},
   "outputs": [
    {
     "name": "stdout",
     "output_type": "stream",
     "text": [
      "\n",
      "## 변환 유형:None, Polynomial Degree:None\n",
      "alpha 0.1일 때 5 folds의 개별 평균 RMSE : 5.7885\n",
      "alpha 1일 때 5 folds의 개별 평균 RMSE : 5.6526\n",
      "alpha 10일 때 5 folds의 개별 평균 RMSE : 5.5182\n",
      "alpha 100일 때 5 folds의 개별 평균 RMSE : 5.3296\n",
      "\n",
      "## 변환 유형:Standard, Polynomial Degree:None\n",
      "alpha 0.1일 때 5 folds의 개별 평균 RMSE : 5.8260\n",
      "alpha 1일 때 5 folds의 개별 평균 RMSE : 5.8029\n",
      "alpha 10일 때 5 folds의 개별 평균 RMSE : 5.6368\n",
      "alpha 100일 때 5 folds의 개별 평균 RMSE : 5.4214\n",
      "\n",
      "## 변환 유형:Standard, Polynomial Degree:2\n",
      "alpha 0.1일 때 5 folds의 개별 평균 RMSE : 8.8272\n",
      "alpha 1일 때 5 folds의 개별 평균 RMSE : 6.8713\n",
      "alpha 10일 때 5 folds의 개별 평균 RMSE : 5.4849\n",
      "alpha 100일 때 5 folds의 개별 평균 RMSE : 4.6344\n",
      "\n",
      "## 변환 유형:MinMax, Polynomial Degree:None\n",
      "alpha 0.1일 때 5 folds의 개별 평균 RMSE : 5.7636\n",
      "alpha 1일 때 5 folds의 개별 평균 RMSE : 5.4650\n",
      "alpha 10일 때 5 folds의 개별 평균 RMSE : 5.7542\n",
      "alpha 100일 때 5 folds의 개별 평균 RMSE : 7.6349\n",
      "\n",
      "## 변환 유형:MinMax, Polynomial Degree:2\n",
      "alpha 0.1일 때 5 folds의 개별 평균 RMSE : 5.2976\n",
      "alpha 1일 때 5 folds의 개별 평균 RMSE : 4.3227\n",
      "alpha 10일 때 5 folds의 개별 평균 RMSE : 5.1852\n",
      "alpha 100일 때 5 folds의 개별 평균 RMSE : 6.5379\n",
      "\n",
      "## 변환 유형:Log, Polynomial Degree:None\n",
      "alpha 0.1일 때 5 folds의 개별 평균 RMSE : 4.7704\n",
      "alpha 1일 때 5 folds의 개별 평균 RMSE : 4.6762\n",
      "alpha 10일 때 5 folds의 개별 평균 RMSE : 4.8364\n",
      "alpha 100일 때 5 folds의 개별 평균 RMSE : 6.2409\n"
     ]
    }
   ],
   "source": [
    "# Ridge의 alpha값을 다르게 적용하고 다양한 데이터 변환방법에 따른 RMSE 추출.\n",
    "alphas = [0.1, 1, 10, 100]\n",
    "\n",
    "# 변환 방법은 모두 6개, 원본 그대로, 표준정규분포, 표준정규분포+다항식 특성\n",
    "# 최대/최소 정규화, 최대/최소 정규화+다항식 특성, 로그변환\n",
    "scale_methods=[(None, None), (\"Standard\", None), (\"Standard\", 2),\n",
    "                (\"MinMax\", None), (\"MinMax\", 2), (\"Log\", None)]\n",
    "\n",
    "for scale_method in scale_methods :\n",
    "    X_data_scaled = get_scaled_data(method=scale_method[0], p_degree=scale_method[1],\n",
    "                                    input_data=X_data)\n",
    "    print(f\"\\n## 변환 유형:{scale_method[0]}, Polynomial Degree:{scale_method[1]}\")\n",
    "\n",
    "    # alpha 값에 따른 회귀 모델의 폴드 평균 RMSE를 출력하고,\n",
    "    # 회귀 계수값들을 DataFrame으로 반환해주는 함수\n",
    "    get_linear_reg_eval(\"Ridge\", params=alphas, X_data_n=X_data_scaled,\n",
    "                        y_target_n=y_target, verbose=False)"
   ]
  },
  {
   "cell_type": "code",
   "execution_count": 9,
   "metadata": {},
   "outputs": [
    {
     "data": {
      "text/html": [
       "<div>\n",
       "<style scoped>\n",
       "    .dataframe tbody tr th:only-of-type {\n",
       "        vertical-align: middle;\n",
       "    }\n",
       "\n",
       "    .dataframe tbody tr th {\n",
       "        vertical-align: top;\n",
       "    }\n",
       "\n",
       "    .dataframe thead tr th {\n",
       "        text-align: left;\n",
       "    }\n",
       "\n",
       "    .dataframe thead tr:last-of-type th {\n",
       "        text-align: right;\n",
       "    }\n",
       "</style>\n",
       "<table border=\"1\" class=\"dataframe\">\n",
       "  <thead>\n",
       "    <tr>\n",
       "      <th></th>\n",
       "      <th colspan=\"4\" halign=\"left\">alpha값</th>\n",
       "    </tr>\n",
       "    <tr>\n",
       "      <th></th>\n",
       "      <th>alpha=0.1</th>\n",
       "      <th>alpha=1</th>\n",
       "      <th>alpha=10</th>\n",
       "      <th>alpha=100</th>\n",
       "    </tr>\n",
       "    <tr>\n",
       "      <th>변환유형</th>\n",
       "      <th></th>\n",
       "      <th></th>\n",
       "      <th></th>\n",
       "      <th></th>\n",
       "    </tr>\n",
       "  </thead>\n",
       "  <tbody>\n",
       "    <tr>\n",
       "      <th>원본데이터</th>\n",
       "      <td>5.788</td>\n",
       "      <td>5.653</td>\n",
       "      <td>5.518</td>\n",
       "      <td>5.330</td>\n",
       "    </tr>\n",
       "    <tr>\n",
       "      <th>표준정규분포</th>\n",
       "      <td>5.826</td>\n",
       "      <td>5.803</td>\n",
       "      <td>5.637</td>\n",
       "      <td>5.421</td>\n",
       "    </tr>\n",
       "    <tr>\n",
       "      <th>표준정규분포 + 2차 다항식</th>\n",
       "      <td>8.827</td>\n",
       "      <td>6.871</td>\n",
       "      <td>5.485</td>\n",
       "      <td>4.634</td>\n",
       "    </tr>\n",
       "    <tr>\n",
       "      <th>최솟값/최댓값 정규화</th>\n",
       "      <td>5.764</td>\n",
       "      <td>5.465</td>\n",
       "      <td>5.754</td>\n",
       "      <td>7.635</td>\n",
       "    </tr>\n",
       "    <tr>\n",
       "      <th>최솟값/최댓값 정규화 + 2차 다항식</th>\n",
       "      <td>5.298</td>\n",
       "      <td>4.323</td>\n",
       "      <td>5.185</td>\n",
       "      <td>6.538</td>\n",
       "    </tr>\n",
       "    <tr>\n",
       "      <th>로그변환</th>\n",
       "      <td>4.770</td>\n",
       "      <td>4.676</td>\n",
       "      <td>4.836</td>\n",
       "      <td>6.241</td>\n",
       "    </tr>\n",
       "  </tbody>\n",
       "</table>\n",
       "</div>"
      ],
      "text/plain": [
       "                        alpha값                           \n",
       "                     alpha=0.1 alpha=1 alpha=10 alpha=100\n",
       "변환유형                                                     \n",
       "원본데이터                    5.788   5.653    5.518     5.330\n",
       "표준정규분포                   5.826   5.803    5.637     5.421\n",
       "표준정규분포 + 2차 다항식          8.827   6.871    5.485     4.634\n",
       "최솟값/최댓값 정규화              5.764   5.465    5.754     7.635\n",
       "최솟값/최댓값 정규화 + 2차 다항식     5.298   4.323    5.185     6.538\n",
       "로그변환                     4.770   4.676    4.836     6.241"
      ]
     },
     "execution_count": 9,
     "metadata": {},
     "output_type": "execute_result"
    }
   ],
   "source": [
    "result_df = pd.DataFrame(data, columns=[[\"alpha값\", \"alpha값\", \"alpha값\", \"alpha값\"], [\"alpha=0.1\", \"alpha=1\", \"alpha=10\", \"alpha=100\"]])\n",
    "result_df[\"변환유형\"] = [\"원본데이터\", \"표준정규분포\", \"표준정규분포 + 2차 다항식\", \"최솟값/최댓값 정규화\", \"최솟값/최댓값 정규화 + 2차 다항식\", \"로그변환\"]\n",
    "result_df.set_index(\"변환유형\", inplace=True)\n",
    "result_df"
   ]
  },
  {
   "cell_type": "markdown",
   "metadata": {},
   "source": [
    "## 로지스틱 회귀\n",
    "### 로지스틱 회귀 개요\n",
    "* 로지스틱 회귀는 선형 회귀 방식을 분류에 적용한 알고리즘. 즉, 로지스틱 회귀는 분류에 사용됨.       \n",
    "로지스틱 회귀가 선형 회귀와 다른 점은 학습을 통해 선형 함수의 회귀 최적선을 찾는 것이 아니라, 시그모이드(Sigmoid)함수 최적선을 찾고, 이 시그모이드 함수의 반환 값을 확률로 간주해 확률에 따라 분류를 결정함.\n",
    "* 로지스틱 회귀는 주로 이진분류에 사용됨(다중 클래스 분류에도 적용 가능함).     \n",
    "  로지스틱 회귀에서 예측 값은 예측 확률을 의미하며, 예측 확률이 0.5 이상이면 1로, 0.5 이하이면 0으로 예측함. 로지스틱 회귀의 예측 확률은 시그모이드 함수의 출력값으로 계산됨.   \n",
    "<img src=\"C:/Users/user/Desktop/Vocational_Training/FinTech/images/functions_graph.png\" width=\"40%\">\n",
    "\n",
    "#### 로지스틱 회귀 예측\n",
    "\n",
    "* 시그모이드 함수 : $y = \\frac{1}{1+e^{-x}}$\n",
    "* 단순 선형회귀 : $y=w_1x + w_0$가 있다고 할 때,    \n",
    "  로지스틱 회귀는 0과 1을 예측하기에 단순 회귀식은 의미가 없음.    \n",
    "  하지만 Odds(성공확률/실패확률)을 통해 선형 회귀식에 확률을 적용할 수 있음.\n",
    "  $$Odds(p) = \\frac{p}{1-p}$$ \n",
    "  하지만 확률p의 범위가 (0,1)이므로 선형 회귀의 반환값인 $(-\\infty, +\\infty)$에 대응하기 위해 로그 변환을 수행하고 이 값에 대해 선형 회귀를 적용함.    \n",
    "  $$\\log{Odds(p)} = w_1x + w_0$$\n",
    "  해당 식을 데이터 값 x의 확률 p로 정리하면 아래와 같음\n",
    "  $$p(x)=\\frac{1}{1+e^{-(w_1x+w_0)}}$$\n",
    "  로지스틱 회귀는 학습을 통해 시그모이드 함수의 w를 최적화하여 예측하는 것.\n",
    "\n",
    "#### 시그모이드를 이용한 로지스틱 회귀 예측\n",
    "\n",
    "<img src=\"C:/Users/user/Desktop/Vocational_Training/FinTech/images/Sigmoid.png\" width=\"40%\">\n",
    "\n",
    "* 로지스틱 회귀는 가볍고 빠르지만, 이진 분류 예측 성능도 뛰어남. 이 때문에 로지스틱 회귀를 이진 분류의 기본 모델로 사용하는 경우가 많음. 또한 로지스틱 회귀는 희소한 데이터 세트 분류에도 뛰어난 성능을 보여서 텍스트 분류에서도 자주 사용됨.\n",
    "* 사이킷런은 LogisticRegression 클래스로 로지스틱 회귀를 구현함. 주요 하이퍼 파라미터로 penalty와 C가 있음. Penalty는 Regularization의 유형을 설정함. 'l2'로 설정시 L2 규제 등. default는 'l2'. C는 규제 강도를 조절하는 alpha값의 역수. C값이 작을수록 규제 강도가 큼.   \n",
    "$$C=\\frac{1}{\\alpha}$$\n",
    "\n",
    "\n",
    "  #### 실습 : 로지스틱 회귀"
   ]
  },
  {
   "cell_type": "code",
   "execution_count": 10,
   "metadata": {},
   "outputs": [],
   "source": [
    "import pandas as pd\n",
    "import matplotlib.pyplot as plt\n",
    "\n",
    "from sklearn.datasets import load_breast_cancer\n",
    "from sklearn.linear_model import LogisticRegression\n",
    "\n",
    "# 위스콘신 유방암 데이터 불러오기\n",
    "cancer = load_breast_cancer()"
   ]
  },
  {
   "cell_type": "code",
   "execution_count": 11,
   "metadata": {},
   "outputs": [],
   "source": [
    "from sklearn.preprocessing import StandardScaler\n",
    "from sklearn.model_selection import train_test_split\n",
    "\n",
    "# StandardScaler()로 평균이 0, 분산 1로 데이터 분포도 변환\n",
    "scaler = StandardScaler()\n",
    "data_scaled = scaler.fit_transform(cancer.data)\n",
    "\n",
    "X_train, X_test, y_train, y_test = train_test_split(\n",
    "    data_scaled, cancer.target, test_size=0.3, random_state=0\n",
    ")"
   ]
  },
  {
   "cell_type": "code",
   "execution_count": 12,
   "metadata": {},
   "outputs": [
    {
     "name": "stdout",
     "output_type": "stream",
     "text": [
      "accuracy 0.977\n",
      "roc_auc 0.972\n"
     ]
    }
   ],
   "source": [
    "from sklearn.metrics import accuracy_score, roc_auc_score\n",
    "\n",
    "# 로지스틱 회귀를 이용하여 학습 및 예측 수행\n",
    "\n",
    "lr_clf = LogisticRegression()\n",
    "\n",
    "lr_clf.fit(X_train, y_train)\n",
    "\n",
    "lr_preds = lr_clf.predict(X_test)\n",
    "\n",
    "# accuracy와 roc_auc 측정\n",
    "print(f\"accuracy {accuracy_score(y_test, lr_preds):.3f}\")\n",
    "print(f\"roc_auc {roc_auc_score(y_test, lr_preds):.3f}\")"
   ]
  },
  {
   "cell_type": "code",
   "execution_count": 13,
   "metadata": {},
   "outputs": [
    {
     "name": "stdout",
     "output_type": "stream",
     "text": [
      "최적 하이퍼 파라미터 : {'C': 1, 'penalty': 'l2'}, 최적 평균 정확도 : 0.975\n"
     ]
    }
   ],
   "source": [
    "from sklearn.model_selection import GridSearchCV\n",
    "\n",
    "params = {\n",
    "    \"penalty\" : [\"l2\", \"l1\"],\n",
    "    \"C\" :[0.01, 0.1, 1, 1, 5, 10]\n",
    "}\n",
    "\n",
    "grid_clf = GridSearchCV(lr_clf, param_grid=params, scoring=\"accuracy\", cv=3)\n",
    "grid_clf.fit(data_scaled, cancer.target)\n",
    "print(f\"최적 하이퍼 파라미터 : {grid_clf.best_params_}, 최적 평균 정확도 : {grid_clf.best_score_:.3f}\")"
   ]
  },
  {
   "cell_type": "markdown",
   "metadata": {},
   "source": [
    "## 회귀 트리\n",
    "### 회귀 트리 개요\n",
    "* 회귀 트리 : 트리 기반의 회귀 방식\n",
    "* 사이킷런의 결정 트리 및 결정 트리 기반의 앙상블 알고리즘 분류 뿐만 아니라 회귀도 가능.\n",
    "* 트리가 CART(Classification And Regression Trees)를 기반으로 만들어졌기 때문.   \n",
    " CART는 분류 뿐만 아니라 회귀도 가능한 트리 분할 알고리즘.\n",
    "* CART 회귀 트리는 분류와 유사하게 분할을 하며, 분할 기준은 RSS(SSE)가 최소가 될 수 있는 기준을 찾아 분할됨.\n",
    "* 최종 분할이 완료된 후에 각 분할 영역에 있는 데이터 결정값들의 평균 값으로 학습/예측함.   \n",
    "<img src=\"C:/Users/user/Desktop/Vocational_Training/FinTech/images/CART.png\" width=\"40%\">\n",
    "\n",
    "### 회귀 트리의 오버피팅(과대적합)\n",
    "* 회귀 트리 역시 복잡한 트리 구조를 가질 경우 오버피팅하기 쉬움. 트리의 크기와 노드 개수의 제한 등의 방법을 통해 오버 피팅을 개선 할 수 있음.   \n",
    "<img src=\"C:/Users/user/Desktop/Vocational_Training/FinTech/images/CART_overfitting.png\" width=\"40%\">\n",
    "\n",
    "#### 실습 : 회귀 트리로 보스턴 집값 예측"
   ]
  },
  {
   "cell_type": "code",
   "execution_count": 33,
   "metadata": {},
   "outputs": [
    {
     "name": "stdout",
     "output_type": "stream",
     "text": [
      "5 교차 검증의 개별 Negative MSE scores : [ -7.88 -13.14 -20.57 -46.23 -18.88]\n",
      "5 교차 검증의 개별 RMSE scores : [2.81 3.63 4.54 6.8  4.34]\n",
      "5 교차 검증의 평균 RMSE : 4.423\n"
     ]
    }
   ],
   "source": [
    "# 데이터 불러오기\n",
    "from sklearn.datasets import load_boston\n",
    "from sklearn.model_selection import cross_val_score\n",
    "from sklearn.ensemble import RandomForestRegressor\n",
    "import pandas as pd\n",
    "import numpy as np\n",
    "\n",
    "import warnings\n",
    "warnings.filterwarnings(\"ignore\")\n",
    "\n",
    "# 보스턴 데이터 세트 로드\n",
    "boston = load_boston()\n",
    "bostonDF = pd.DataFrame(boston.data, columns=boston.feature_names)\n",
    "\n",
    "# 랜덤 포레스트로 교차 검증\n",
    "bostonDF[\"PRICE\"] = boston.target\n",
    "y_target = bostonDF[\"PRICE\"]\n",
    "X_data = bostonDF.drop([\"PRICE\"], axis=1, inplace=False)\n",
    "\n",
    "rf = RandomForestRegressor(random_state=0, n_estimators=1000)\n",
    "neg_mse_scores = cross_val_score(rf, X_data, y_target, scoring=\"neg_mean_squared_error\", cv=5)\n",
    "rmse_scores = np.sqrt(-1*neg_mse_scores)\n",
    "avg_rmse = np.mean(rmse_scores)\n",
    "\n",
    "print(f\"5 교차 검증의 개별 Negative MSE scores : {np.round(neg_mse_scores,2)}\")\n",
    "print(f\"5 교차 검증의 개별 RMSE scores : {np.round(rmse_scores,2)}\")\n",
    "print(f\"5 교차 검증의 평균 RMSE : {np.round(avg_rmse,3)}\")"
   ]
  },
  {
   "cell_type": "code",
   "execution_count": 34,
   "metadata": {},
   "outputs": [],
   "source": [
    "def get_model_cv_prediction(model=None, X_data=None, y_target=None) :\n",
    "    neg_mse_scores = cross_val_score(model, X_data, y_target, scoring=\"neg_mean_squared_error\", cv=5)\n",
    "    rmse_scores = np.sqrt(-1*neg_mse_scores)\n",
    "    avg_rmse = np.mean(rmse_scores)\n",
    "    if model == dt_reg :\n",
    "        print(f\"### DecisionTreeRegressor ### \\n5 교차 검증의 평균 RMSE : {np.round(avg_rmse,3)}\")\n",
    "    elif model == rf_reg :\n",
    "        print(f\"### RandomForestRegressor ### \\n5 교차 검증의 평균 RMSE : {np.round(avg_rmse,3)}\")\n",
    "    else :\n",
    "        print(f\"### XGBRegressor ### \\n5 교차 검증의 평균 RMSE : {np.round(avg_rmse,3)}\")"
   ]
  },
  {
   "cell_type": "code",
   "execution_count": 35,
   "metadata": {},
   "outputs": [
    {
     "name": "stdout",
     "output_type": "stream",
     "text": [
      "### DecisionTreeRegressor ### \n",
      "5 교차 검증의 평균 RMSE : 5.978\n",
      "### RandomForestRegressor ### \n",
      "5 교차 검증의 평균 RMSE : 4.423\n",
      "### XGBRegressor ### \n",
      "5 교차 검증의 평균 RMSE : 4.251\n"
     ]
    }
   ],
   "source": [
    "# 3개 회귀 트리 모델로 회귀 수행\n",
    "\n",
    "from sklearn.tree import DecisionTreeRegressor\n",
    "from xgboost import XGBRegressor\n",
    "\n",
    "\n",
    "# max_depth=4짜리 디시전 트리\n",
    "dt_reg = DecisionTreeRegressor(random_state=0, max_depth=4)\n",
    "# n_estimators=1000짜리 랜덤 포레스트\n",
    "rf_reg = RandomForestRegressor(random_state=0, n_estimators=1000)\n",
    "# n_estimators=1000짜리 XGBoost\n",
    "xg_reg = XGBRegressor(num_round=1000, verbosity=0)\n",
    "\n",
    "# 트리 기반의 회귀 모델을 반복하면서 평가 수행\n",
    "models = [dt_reg, rf_reg, xg_reg]\n",
    "for model in models :\n",
    "    get_model_cv_prediction(model, X_data, y_target)"
   ]
  },
  {
   "cell_type": "code",
   "execution_count": 36,
   "metadata": {},
   "outputs": [
    {
     "data": {
      "text/plain": [
       "<AxesSubplot:>"
      ]
     },
     "execution_count": 36,
     "metadata": {},
     "output_type": "execute_result"
    },
    {
     "data": {
      "image/png": "[encoded data removed]",
      "text/plain": [
       "<Figure size 432x288 with 1 Axes>"
      ]
     },
     "metadata": {
      "needs_background": "light"
     },
     "output_type": "display_data"
    }
   ],
   "source": [
    "# 회귀 트리는 feature_importances_로 피처 중요도를 파악한다.\n",
    "# 선형회귀의 회귀 계수 역할을 함.\n",
    "\n",
    "import seaborn as sns\n",
    "\n",
    "rf_reg = RandomForestRegressor(random_state=0, n_estimators=1000)\n",
    "\n",
    "# 앞 예제에서 만들어진 X_data, y_target 데이터 셋을 적용하여 학습함.\n",
    "rf_reg.fit(X_data, y_target)\n",
    "\n",
    "feature_series = pd.Series(data=rf_reg.feature_importances_, index=X_data.columns)\n",
    "feature_series = feature_series.sort_values(ascending=False)\n",
    "sns.barplot(x=feature_series, y=feature_series.index)"
   ]
  },
  {
   "cell_type": "code",
   "execution_count": 44,
   "metadata": {},
   "outputs": [
    {
     "data": {
      "text/plain": [
       "<AxesSubplot:>"
      ]
     },
     "execution_count": 44,
     "metadata": {},
     "output_type": "execute_result"
    },
    {
     "data": {
      "image/png": "[encoded data removed]",
      "text/plain": [
       "<Figure size 432x288 with 1 Axes>"
      ]
     },
     "metadata": {
      "needs_background": "light"
     },
     "output_type": "display_data"
    }
   ],
   "source": [
    "import seaborn as sns\n",
    "\n",
    "xg_reg = XGBRegressor(num_round=1000, verbosity=0)\n",
    "\n",
    "# 앞 예제에서 만들어진 X_data, y_target 데이터 셋을 적용하여 학습함.\n",
    "xg_reg.fit(X_data, y_target)\n",
    "\n",
    "feature_series = pd.Series(data=xg_reg.feature_importances_, index=X_data.columns)\n",
    "feature_series = feature_series.sort_values(ascending=False)\n",
    "sns.barplot(x=feature_series, y=feature_series.index)"
   ]
  },
  {
   "cell_type": "code",
   "execution_count": 40,
   "metadata": {},
   "outputs": [],
   "source": [
    "impt_ftrs_rf = [\"RM\", \"LSTAT\", \"DIS\", \"CRIM\", \"NOX\"]\n",
    "impt_ftrs_xg = [\"LSTAT\", \"RM\", \"NOX\", \"DIS\", \"PTRATIO\"]\n",
    "\n",
    "X_data_rf = X_data[impt_ftrs_rf]\n",
    "X_data_xg = X_data[impt_ftrs_xg]"
   ]
  },
  {
   "cell_type": "code",
   "execution_count": 41,
   "metadata": {},
   "outputs": [
    {
     "name": "stdout",
     "output_type": "stream",
     "text": [
      "### DecisionTreeRegressor ### \n",
      "5 교차 검증의 평균 RMSE : 5.75\n",
      "### RandomForestRegressor ### \n",
      "5 교차 검증의 평균 RMSE : 4.586\n",
      "### XGBRegressor ### \n",
      "5 교차 검증의 평균 RMSE : 4.934\n"
     ]
    }
   ],
   "source": [
    "# max_depth=4짜리 디시전 트리\n",
    "dt_reg = DecisionTreeRegressor(random_state=0, max_depth=4)\n",
    "# n_estimators=1000짜리 랜덤 포레스트\n",
    "rf_reg = RandomForestRegressor(random_state=0, n_estimators=1000)\n",
    "# n_estimators=1000짜리 XGBoost\n",
    "xg_reg = XGBRegressor(num_round=1000, verbosity=0)\n",
    "\n",
    "# 트리 기반의 회귀 모델을 반복하면서 평가 수행\n",
    "# rf에서 뽑힌 주요 피처 상위 5개 항목 평가\n",
    "models = [dt_reg, rf_reg, xg_reg]\n",
    "for model in models :\n",
    "    get_model_cv_prediction(model, X_data_rf, y_target)"
   ]
  },
  {
   "cell_type": "code",
   "execution_count": 43,
   "metadata": {},
   "outputs": [
    {
     "name": "stdout",
     "output_type": "stream",
     "text": [
      "### DecisionTreeRegressor ### \n",
      "5 교차 검증의 평균 RMSE : 5.48\n",
      "### RandomForestRegressor ### \n",
      "5 교차 검증의 평균 RMSE : 4.512\n",
      "### XGBRegressor ### \n",
      "5 교차 검증의 평균 RMSE : 4.709\n"
     ]
    }
   ],
   "source": [
    "# xgb에서 뽑힌 주요 피처 상위 5개 항목 평가\n",
    "models = [dt_reg, rf_reg, xg_reg]\n",
    "for model in models :\n",
    "    get_model_cv_prediction(model, X_data_xg, y_target)\n",
    "\n",
    "# 예상과 달리 XGB에서 중요 피처의 RMSE 값이 떨어짐."
   ]
  }
 ],
 "metadata": {
  "interpreter": {
   "hash": "5d240ba0dc525c389faa33f5dcce5b4f32b6d6aa6d70d6d2dd929bd2b09ab69f"
  },
  "kernelspec": {
   "display_name": "Python 3.10.2 64-bit",
   "language": "python",
   "name": "python3"
  },
  "language_info": {
   "codemirror_mode": {
    "name": "ipython",
    "version": 3
   },
   "file_extension": ".py",
   "mimetype": "text/x-python",
   "name": "python",
   "nbconvert_exporter": "python",
   "pygments_lexer": "ipython3",
   "version": "3.10.2"
  },
  "orig_nbformat": 4
 },
 "nbformat": 4,
 "nbformat_minor": 2
}
