{
 "cells": [
  {
   "cell_type": "markdown",
   "metadata": {},
   "source": [
    "### 피쳐 스케일링과 정규화\n",
    "* 서로 다른 변수의 값 범위를 일정한 수준으로 맞추는 작업 : feature scaling  \n",
    "→ 표준화(Standardization)와 정규화(Normalization)\n",
    "\n",
    "#### 표준화(Standardization)\n",
    "* 평균이 0이고 분산이 1인 Gaussian distribution으로 변화\n",
    "* x` = (x - m(x)) / s(x)\n",
    "\n",
    "#### 정규화(Normaliztion)\n",
    "* 서로 다른 피쳐의 크기를 통일하기 위해 크기를 변환하는 개념\n",
    "* x` = x - min(x) / max(x) - min(x)\n",
    "* 사이킷 런의 Normalizer 모듈은 선형대수에서의 정규화개념이 적용,   \n",
    "개별벡터의 크기를 맞추기 위해 변환\n",
    "* x` = x / √(x²+y²+z²)"
   ]
  },
  {
   "cell_type": "markdown",
   "metadata": {},
   "source": [
    "### 사이킷런 피쳐 스케일링 지원\n",
    "#### StandardScaler\n",
    "* 평균이 0, 분산이 1인 정규분포 형태로 변환\n",
    "#### MinMaxScaler\n",
    "* 데이터 값을 0과 1사이의 범위 값으로 변환(음수값이 있으면 -1~1)"
   ]
  },
  {
   "cell_type": "code",
   "execution_count": null,
   "metadata": {},
   "outputs": [],
   "source": [
    "from sklearn.datasets import load_iris\n",
    "import pandas as pd\n",
    "\n",
    "# 붓꽃 데이터 셋을 로딩하고 DataFrame으로 변환\n",
    "\n",
    "iris = load_iris()\n",
    "iris_data = iris.data\n",
    "iris_df = pd.DataFrame(data = iris_data, columns = iris.feature_names)\n",
    "\n",
    "print(f\"featrue들의 평균 값 : \\n{iris_df.mean()}\")\n",
    "print(f\"feature들의 분산 값 : \\n{iris_df.var()}\")"
   ]
  },
  {
   "cell_type": "code",
   "execution_count": null,
   "metadata": {},
   "outputs": [],
   "source": [
    "import matplotlib.pyplot as plt"
   ]
  },
  {
   "cell_type": "code",
   "execution_count": null,
   "metadata": {},
   "outputs": [],
   "source": [
    "plt.scatter(iris.target, iris_df.iloc[:, 0], alpha=0.2)\n",
    "plt.scatter(iris.target, iris_df.iloc[:, 1], alpha=0.2)\n",
    "plt.scatter(iris.target, iris_df.iloc[:, 2], alpha=0.2)\n",
    "plt.scatter(iris.target, iris_df.iloc[:, 3], alpha=0.2)\n",
    "plt.show()"
   ]
  },
  {
   "cell_type": "markdown",
   "metadata": {},
   "source": [
    "X_train의 경우 fit 시키고(학습), transform   /  X_test 는 그냥 transform만"
   ]
  },
  {
   "cell_type": "code",
   "execution_count": null,
   "metadata": {},
   "outputs": [],
   "source": [
    "from sklearn.preprocessing import StandardScaler\n",
    "\n",
    "# StandardScaler 객체 생성\n",
    "scaler = StandardScaler()\n",
    "# StandardScaler로 데이터 셋 변환. fit()과 transform() 호출.\n",
    "scaler.fit(iris_df) # 평균, 분산 계산이 fit\n",
    "iris_scaled = scaler.transform(iris_df) # 찾아낸 평균, 분산으로 변환수행\n",
    "\n",
    "# transform()시 scale 변환된 데이터 셋이 numpy ndarray로 반환되어 이를 DF로 변환.\n",
    "iris_df_scaled = pd.DataFrame(data = iris_scaled, columns = iris.feature_names)\n",
    "print(f\"feature 평균 : \\n{iris_df_scaled.mean()}\")\n",
    "print(f\"feature 분산 : \\n{iris_df_scaled.var()}\")"
   ]
  },
  {
   "cell_type": "code",
   "execution_count": null,
   "metadata": {},
   "outputs": [],
   "source": [
    "iris_df_scaled.describe()"
   ]
  },
  {
   "cell_type": "code",
   "execution_count": null,
   "metadata": {},
   "outputs": [],
   "source": [
    "plt.figure(figsize=(10,10))\n",
    "plt.subplot(4,2,1)\n",
    "plt.scatter(iris.target, iris_df_scaled.iloc[:, 0])\n",
    "plt.subplot(4,2,2)\n",
    "plt.hist(iris_df_scaled.iloc[:, 0], bins=50)\n",
    "plt.subplot(4,2,3)\n",
    "plt.scatter(iris.target, iris_df_scaled.iloc[:, 1])\n",
    "plt.subplot(4,2,4)\n",
    "plt.hist(iris_df_scaled.iloc[:, 1], bins=50)\n",
    "plt.subplot(4,2,5)\n",
    "plt.scatter(iris.target, iris_df_scaled.iloc[:, 2])\n",
    "plt.subplot(4,2,6)\n",
    "plt.hist(iris_df_scaled.iloc[:, 2], bins=50)\n",
    "plt.subplot(4,2,7)\n",
    "plt.scatter(iris.target, iris_df_scaled.iloc[:, 3])\n",
    "plt.subplot(4,2,8)\n",
    "plt.hist(iris_df_scaled.iloc[:, 3], bins=50)\n",
    "plt.tight_layout()\n",
    "plt.show()"
   ]
  }
 ],
 "metadata": {
  "interpreter": {
   "hash": "5d240ba0dc525c389faa33f5dcce5b4f32b6d6aa6d70d6d2dd929bd2b09ab69f"
  },
  "kernelspec": {
   "display_name": "Python 3.10.2 64-bit",
   "language": "python",
   "name": "python3"
  },
  "language_info": {
   "codemirror_mode": {
    "name": "ipython",
    "version": 3
   },
   "file_extension": ".py",
   "mimetype": "text/x-python",
   "name": "python",
   "nbconvert_exporter": "python",
   "pygments_lexer": "ipython3",
   "version": "3.10.2"
  },
  "orig_nbformat": 4
 },
 "nbformat": 4,
 "nbformat_minor": 2
}
