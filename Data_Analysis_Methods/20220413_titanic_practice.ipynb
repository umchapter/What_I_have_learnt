{
 "cells": [
  {
   "cell_type": "code",
   "execution_count": null,
   "metadata": {},
   "outputs": [],
   "source": [
    "import numpy as np\n",
    "import pandas as pd\n",
    "import matplotlib.pyplot as plt\n",
    "import seaborn as sns\n",
    "from modules import DtPre\n",
    "\n",
    "from sklearn.model_selection import train_test_split\n",
    "from sklearn.tree import DecisionTreeClassifier\n",
    "from sklearn.linear_model import LogisticRegression\n",
    "from sklearn.metrics import accuracy_score"
   ]
  },
  {
   "cell_type": "code",
   "execution_count": null,
   "metadata": {},
   "outputs": [],
   "source": [
    "titanic_df = pd.read_csv(\"./csv_data/titanic_train.csv\")\n",
    "y_titanic_df = titanic_df[\"Survived\"]   # 레이블 데이터 셋 추출\n",
    "X_titanic_df = titanic_df.drop(\"Survived\", axis=1)  # 피쳐 데이터 셋에서 레이블셋은 삭제\n",
    "\n",
    "X_titanic_df = DtPre.transform_features(X_titanic_df) # 만들어둔 전처리 함수 적용\n",
    "\n",
    "titanic_test_df = pd.read_csv(\"./csv_data/titanic_test.csv\")\n",
    "y_titanic_test_df = titanic_test_df[\"Survived\"]   # 레이블 데이터 셋 추출\n",
    "X_titanic_test_df = titanic_test_df.drop(\"Survived\", axis=1)  # 피쳐 데이터 셋에서 레이블셋은 삭제\n",
    "\n",
    "X_titanic_test_df = DtPre.transform_features(X_titanic_test_df) # 만들어둔 전처리 함수 적용"
   ]
  },
  {
   "cell_type": "code",
   "execution_count": null,
   "metadata": {},
   "outputs": [],
   "source": [
    "titanic_clf = DecisionTreeClassifier(random_state=121)\n",
    "\n",
    "# X_train, X_test, y_train, y_test = train_test_split(X_titanic_df, y_titanic_df,\n",
    "#                                                     test_size=0.2, random_state=121)\n",
    "\n",
    "titanic_clf.fit(X_titanic_df, y_titanic_df)"
   ]
  },
  {
   "cell_type": "code",
   "execution_count": null,
   "metadata": {},
   "outputs": [],
   "source": [
    "# feature importance 추출\n",
    "print(f\"Feature Importance : {np.round(titanic_clf.feature_importances_, 3)}\")\n",
    "\n",
    "# feature 별 importance 매핑\n",
    "features = []\n",
    "for name, value in zip(X_titanic_df.columns, titanic_clf.feature_importances_) :\n",
    "    print(f\"{name} : {value:.3f}\")\n",
    "    features.append({name : np.round(value, 3)})\n",
    "\n",
    "# feature importance를 column별로 시각화 하기\n",
    "sns.barplot(x=titanic_clf.feature_importances_, y=X_titanic_df.columns)"
   ]
  },
  {
   "cell_type": "code",
   "execution_count": null,
   "metadata": {},
   "outputs": [],
   "source": [
    "titanic_lr = LogisticRegression()\n",
    "\n",
    "titanic_lr.fit(X_titanic_df, y_titanic_df)\n",
    "\n",
    "pred_all = titanic_lr.predict(X_titanic_df)\n",
    "\n",
    "print(np.round(accuracy_score(y_titanic_df, pred_all),3))"
   ]
  },
  {
   "cell_type": "code",
   "execution_count": null,
   "metadata": {},
   "outputs": [],
   "source": [
    "X_train_feat = X_titanic_df[[\"Pclass\", \"Sex\", \"Age\", \"Fare\", \"Cabin\"]]\n",
    "X_test_feat = X_titanic_test_df[[\"Pclass\", \"Sex\", \"Age\", \"Fare\", \"Cabin\"]]"
   ]
  },
  {
   "cell_type": "code",
   "execution_count": null,
   "metadata": {},
   "outputs": [],
   "source": [
    "titanic_lr_feat = LogisticRegression()\n",
    "\n",
    "titanic_lr_feat.fit(X_train_feat, y_titanic_df)\n",
    "\n",
    "pred_feat = titanic_lr_feat.predict(X_test_feat)\n",
    "\n",
    "print(np.round(accuracy_score(y_titanic_test_df, pred_feat),3))"
   ]
  }
 ],
 "metadata": {
  "interpreter": {
   "hash": "5d240ba0dc525c389faa33f5dcce5b4f32b6d6aa6d70d6d2dd929bd2b09ab69f"
  },
  "kernelspec": {
   "display_name": "Python 3.10.2 64-bit",
   "language": "python",
   "name": "python3"
  },
  "language_info": {
   "codemirror_mode": {
    "name": "ipython",
    "version": 3
   },
   "file_extension": ".py",
   "mimetype": "text/x-python",
   "name": "python",
   "nbconvert_exporter": "python",
   "pygments_lexer": "ipython3",
   "version": "3.10.2"
  },
  "orig_nbformat": 4
 },
 "nbformat": 4,
 "nbformat_minor": 2
}
