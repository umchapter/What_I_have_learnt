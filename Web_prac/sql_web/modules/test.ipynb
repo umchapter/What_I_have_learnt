{
 "cells": [
  {
   "cell_type": "code",
   "execution_count": 1,
   "metadata": {},
   "outputs": [],
   "source": [
    "import mod_sql"
   ]
  },
  {
   "cell_type": "code",
   "execution_count": 4,
   "metadata": {},
   "outputs": [],
   "source": [
    "d = mod_sql.Database()"
   ]
  },
  {
   "cell_type": "code",
   "execution_count": 5,
   "metadata": {},
   "outputs": [
    {
     "data": {
      "text/plain": [
       "[{'ID': 'test',\n",
       "  'PW': '1234',\n",
       "  'name': '고길동',\n",
       "  'phone': '01012345678',\n",
       "  'adrs': '서울특별시 강북구 쌍문동',\n",
       "  'gender': 1,\n",
       "  'age': 45,\n",
       "  'regst_date': '20220310'},\n",
       " {'ID': 'test2',\n",
       "  'PW': '4567',\n",
       "  'name': '둘리',\n",
       "  'phone': '01098765432',\n",
       "  'adrs': '북극',\n",
       "  'gender': 1,\n",
       "  'age': 10,\n",
       "  'regst_date': '20220310'},\n",
       " {'ID': 'test3',\n",
       "  'PW': '7894',\n",
       "  'name': '마이콜',\n",
       "  'phone': '01078945612',\n",
       "  'adrs': '고길동 옆집',\n",
       "  'gender': 1,\n",
       "  'age': 28,\n",
       "  'regst_date': '20220310'},\n",
       " {'ID': 'test4',\n",
       "  'PW': '4521',\n",
       "  'name': '또치',\n",
       "  'phone': '0101235987',\n",
       "  'adrs': '동물원',\n",
       "  'gender': 2,\n",
       "  'age': 4,\n",
       "  'regst_date': '20220310'},\n",
       " {'ID': 'test5',\n",
       "  'PW': '9517',\n",
       "  'name': '도우너',\n",
       "  'phone': '01012854967',\n",
       "  'adrs': '깐따삐야 행성',\n",
       "  'gender': 1,\n",
       "  'age': 300,\n",
       "  'regst_date': '20220311'},\n",
       " {'ID': 'test6',\n",
       "  'PW': '9843',\n",
       "  'name': '희동이',\n",
       "  'phone': '01056897585',\n",
       "  'adrs': '고길동네 집',\n",
       "  'gender': 1,\n",
       "  'age': 2,\n",
       "  'regst_date': '20220311'}]"
      ]
     },
     "execution_count": 5,
     "metadata": {},
     "output_type": "execute_result"
    }
   ],
   "source": [
    "select_sql = \"SELECT * FROM user_info\"\n",
    "\n",
    "d.executeAll(select_sql)"
   ]
  },
  {
   "cell_type": "code",
   "execution_count": null,
   "metadata": {},
   "outputs": [],
   "source": []
  }
 ],
 "metadata": {
  "interpreter": {
   "hash": "5d240ba0dc525c389faa33f5dcce5b4f32b6d6aa6d70d6d2dd929bd2b09ab69f"
  },
  "kernelspec": {
   "display_name": "Python 3.10.2 64-bit",
   "language": "python",
   "name": "python3"
  },
  "language_info": {
   "codemirror_mode": {
    "name": "ipython",
    "version": 3
   },
   "file_extension": ".py",
   "mimetype": "text/x-python",
   "name": "python",
   "nbconvert_exporter": "python",
   "pygments_lexer": "ipython3",
   "version": "3.10.2"
  },
  "orig_nbformat": 4
 },
 "nbformat": 4,
 "nbformat_minor": 2
}
