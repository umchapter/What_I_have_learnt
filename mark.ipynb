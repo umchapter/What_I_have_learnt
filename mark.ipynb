{
 "cells": [
  {
   "cell_type": "markdown",
   "metadata": {},
   "source": [
    "제목1\n",
    "===\n",
    "\n",
    "부제목\n",
    "---\n",
    "\n",
    "# h1\n",
    "### h3\n",
    "##### h5\n",
    "\n",
    "> content1\n",
    "> > content2\n",
    "> > > content3"
   ]
  },
  {
   "cell_type": "markdown",
   "metadata": {},
   "source": [
    "## list\n",
    "\n",
    "1. 첫번째\n",
    "2. 두번째\n",
    "3. 세번째\n",
    "\n",
    "* 리스트1\n",
    "  + 리스트2\n",
    "    - 리스트3"
   ]
  },
  {
   "cell_type": "markdown",
   "metadata": {},
   "source": [
    "### code\n",
    "```python\n",
    "    i = 0\n",
    "    i + 1\n",
    "    print(i)\n",
    "```\n",
    "code end"
   ]
  },
  {
   "cell_type": "markdown",
   "metadata": {},
   "source": [
    "[Google][googlelink]\n",
    "[googlelink]:https://www.google.com"
   ]
  },
  {
   "cell_type": "markdown",
   "metadata": {},
   "source": [
    "![Alt text](https://cdn.mkhealth.co.kr/news/photo/202102/52163_52859_5928.jpg)\n",
    "\n",
    "<img src=https://cdn.mkhealth.co.kr/news/photo/202102/52163_52859_5928.jpg width=\"40%\">"
   ]
  }
 ],
 "metadata": {
  "language_info": {
   "name": "python"
  },
  "orig_nbformat": 4
 },
 "nbformat": 4,
 "nbformat_minor": 2
}
