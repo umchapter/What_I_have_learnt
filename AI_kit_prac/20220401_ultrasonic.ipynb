{
 "cells": [
  {
   "cell_type": "markdown",
   "metadata": {},
   "source": [
    "20khz 이상\n",
    "Trigger → Ping → Obj → Echo\n",
    "돌아오는데 걸리는 시간으로 거리 계산\n",
    "\n",
    "대기중 340 m/s → 34000 cm/s\n",
    "거리 = 속력(알고 있음) x 시간(측정 필요)\n",
    "거리는 '왕복'임 → 나누기 2"
   ]
  },
  {
   "cell_type": "markdown",
   "metadata": {},
   "source": [
    "초음파 센서 GPIO\n",
    "BCM 방식과 Board 방식으로 나뉨\n",
    "\n",
    "Board는 왔다갔다. [[1,2],\n",
    "                   [3,4]]\n",
    "BCM 방식은 핀 번호가 다름 일렬로 1,2,3,4...\n",
    "∴ Board 방식에서 7번 → BCM 은 4번\n",
    "\n",
    "PWM : 아날로그 신호 송출 가능(BCM 방식)"
   ]
  },
  {
   "cell_type": "markdown",
   "metadata": {},
   "source": [
    "초음파 센서 → VCC 보라색, Gnd 검은색, 나머지는 순서대로\n",
    "\n",
    "라즈베리 파이에서 안쪽 핀에, 바깥쪽 끝에서부터 5번째 칸,\n",
    "검은색부터 순서대로 꽂고, 보라색은 한칸 띄워서. (5B,6W,7W,9P)"
   ]
  },
  {
   "cell_type": "code",
   "execution_count": null,
   "metadata": {},
   "outputs": [],
   "source": [
    "import RPI.GPIO as GPIO\n",
    "import time\n",
    "\n",
    "GPIO.setmode(GPIO.BOARD)\n",
    "\n",
    "trig = 11\n",
    "echo = 13\n",
    "\n",
    "while True :\n",
    "    GPIO.setup(trig, GPIO.OUT)\n",
    "    GPIO.setup(echo, GPIO.IN)\n",
    "\n",
    "    GPIO.output(trig, False)\n",
    "    time.sleep(0.5) # 0.005 초 대기 / milisec\n",
    "\n",
    "    GPIO.output(trig, True) # 초음파 쏨\n",
    "    time.sleep(0.0001)      # 쏘고 아주 잠깐 기다렸다가\n",
    "    GPIO.output(trig, False)# 초음파 끈다\n",
    "\n",
    "    while GPIO.input(echo) == 0 :\n",
    "        pulse_start = time.time()   #신호 없을 때는 현재시간 기록\n",
    "    while GPIO.input(echo) == 1 :\n",
    "        pulse_end = time.time()\n",
    "\n",
    "    pulse_duration = pulse_end - pulse_start\n",
    "    distance = pulse_duration * 17000\n",
    "    dstance = round(distance, 2)\n",
    "    print(\"Distance is : \", distance, \" cm\")\n"
   ]
  }
 ],
 "metadata": {
  "language_info": {
   "name": "python"
  },
  "orig_nbformat": 4
 },
 "nbformat": 4,
 "nbformat_minor": 2
}
