{
 "cells": [
  {
   "cell_type": "markdown",
   "metadata": {},
   "source": [
    "카메라의 연결선 파란부분을 RP에 꽂고, 끝까지 들어갔다는 느낌이 들면\n",
    "딸깍소리가 날때까지 고정부를 눌러줌"
   ]
  },
  {
   "cell_type": "markdown",
   "metadata": {},
   "source": [
    "vnc_viewer → vcgencmd get_camera → (supported = 1 detected = 1) 둘 다 1이 정상\n",
    "\n",
    "만약 det = 0 → 1.거꾸로 꽂음 ∨ 2.카메라 고장"
   ]
  },
  {
   "cell_type": "code",
   "execution_count": null,
   "metadata": {},
   "outputs": [],
   "source": [
    "import cv2  #open CV\n",
    "\n",
    "camera = cv2.VideoCapture(0)  # -1 or 0 → activate\n",
    "                              # camera → picamera(HW) control\n",
    "while camera.isOpened() :     # 카메라 열려있는 동안 계속 됨.\n",
    "    #camera.read()                 # read or get the images/video\n",
    "    ret, img = camera.read()      # return 2 elements, unpacking\n",
    "    #print(ret)\n",
    "\n",
    "    if ret :\n",
    "        cv2.imshow(\"myimg\", img)  # imshow(\"띄울 창의 이름\", 띄울 이미지)\n",
    "        if cv2.waitKey(1) == ord(\"q\") :\n",
    "            break                 # q 키를 입력하면 while 반복을 끝냄 / 카메라 종료\n",
    "    else :\n",
    "        print(\"Camera Error\")\n",
    "        break\n",
    "\n",
    "camera.release()              # OS 관련, cam 사용이 끝나면 OS에 알려주는 명령어\n",
    "cv2.destoryAllWindows()       # 모든 작업이 끝나면 자동으로 모든 창을 닫음"
   ]
  },
  {
   "cell_type": "code",
   "execution_count": null,
   "metadata": {},
   "outputs": [],
   "source": [
    "# opencv1.py\n",
    "# import cv2\n",
    "camera = cv2.VideoCapture(0)\n",
    "camera.set(3,640)           # 가로, 640\n",
    "camera.set(4,480)           # 세로, 480\n",
    "\n",
    "while camera.isOpened() :   # 카메라의 상태를 isOpened로 확인\n",
    "    _ , image = camera.read()   # ret 불필요 / _ 로 이름도 안 지어줌\n",
    "    cv2.imshow(\"camera\", image)\n",
    "    image = cv2.flip(image, -1)     # flip 없으면 기본적으로 상하 반전된 이미지 / -1은 180도\n",
    "\n",
    "    if cv2.waitKey(1) == ord(\"q\") :\n",
    "        break\n",
    "\n",
    "cv2.destroyAllWindows()"
   ]
  },
  {
   "cell_type": "markdown",
   "metadata": {},
   "source": [
    "vnc_viewer → cd sensor → python opencv1.py"
   ]
  },
  {
   "cell_type": "code",
   "execution_count": null,
   "metadata": {},
   "outputs": [],
   "source": [
    "# opencv2.py\n",
    "\n",
    "# import cv2\n",
    "camera = cv2.VideoCapture(0)\n",
    "camera.set(3,640)           # 가로, 640\n",
    "camera.set(4,480)           # 세로, 480\n",
    "\n",
    "while camera.isOpened() :   # 카메라의 상태를 isOpened로 확인\n",
    "    _ , image = camera.read()   # ret 불필요 / _ 로 이름도 안 지어줌\n",
    "    \n",
    "    image = cv2.flip(image, -1)\n",
    "    # flip 없으면 기본적으로 상하 반전된 이미지 / -1은 180도\n",
    "    gray = cv2.cvtColor(image, cv2.COLOR_BGR2GRAY)\n",
    "    # cvtColor(이미지 source, 색/여기는 BGR(RGB)를 흑백으로)\n",
    "    blur = cv2.GaussianBlur(gray, (5,5), 0)\n",
    "    # 흐림 효과 줌\n",
    "\n",
    "    cv2.imshow(\"camer\", gray)   # 창 2개 띄워서 비교\n",
    "    cv2.imshow(\"blur\", blur)\n",
    "\n",
    "    if cv2.waitKey(1) == ord(\"q\") :\n",
    "        break\n",
    "\n",
    "cv2.destroyAllWindows()"
   ]
  }
 ],
 "metadata": {
  "interpreter": {
   "hash": "5d240ba0dc525c389faa33f5dcce5b4f32b6d6aa6d70d6d2dd929bd2b09ab69f"
  },
  "kernelspec": {
   "display_name": "Python 3.10.2 64-bit",
   "language": "python",
   "name": "python3"
  },
  "language_info": {
   "codemirror_mode": {
    "name": "ipython",
    "version": 3
   },
   "file_extension": ".py",
   "mimetype": "text/x-python",
   "name": "python",
   "nbconvert_exporter": "python",
   "pygments_lexer": "ipython3",
   "version": "3.10.2"
  },
  "orig_nbformat": 4
 },
 "nbformat": 4,
 "nbformat_minor": 2
}
