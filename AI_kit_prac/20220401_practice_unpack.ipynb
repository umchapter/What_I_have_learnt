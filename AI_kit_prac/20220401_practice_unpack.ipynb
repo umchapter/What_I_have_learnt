{
 "cells": [
  {
   "cell_type": "code",
   "execution_count": 1,
   "metadata": {},
   "outputs": [
    {
     "name": "stdout",
     "output_type": "stream",
     "text": [
      "{'name': 'abc', 1: 'one', 2: 'two', 'list': [1, 2, 3], 'tuple': (1, 2, 3)}\n"
     ]
    }
   ],
   "source": [
    "d1 = {\"name\" : \"abc\", 1 : \"one\", 2 : \"two\", \"list\" : [1,2,3], \"tuple\" : (1,2,3)}\n",
    "print(d1)"
   ]
  },
  {
   "cell_type": "code",
   "execution_count": 2,
   "metadata": {},
   "outputs": [
    {
     "name": "stdout",
     "output_type": "stream",
     "text": [
      "abc\n"
     ]
    }
   ],
   "source": [
    "print(d1[\"name\"])"
   ]
  },
  {
   "cell_type": "code",
   "execution_count": 3,
   "metadata": {},
   "outputs": [
    {
     "name": "stdout",
     "output_type": "stream",
     "text": [
      "one\n"
     ]
    }
   ],
   "source": [
    "print(d1[1])"
   ]
  },
  {
   "cell_type": "code",
   "execution_count": 4,
   "metadata": {},
   "outputs": [
    {
     "name": "stdout",
     "output_type": "stream",
     "text": [
      "{'name': 'abc', 1: 'one', 2: 'two', 'list': [1, 2, 3], 'tuple': (1, 2, 3), 'program': 'python'}\n",
      "python\n"
     ]
    }
   ],
   "source": [
    "d1[\"program\"] = \"python\"\n",
    "print(d1)\n",
    "print(d1[\"program\"])"
   ]
  },
  {
   "cell_type": "code",
   "execution_count": 5,
   "metadata": {},
   "outputs": [],
   "source": [
    "del d1[\"program\"]"
   ]
  },
  {
   "cell_type": "code",
   "execution_count": 6,
   "metadata": {},
   "outputs": [
    {
     "name": "stdout",
     "output_type": "stream",
     "text": [
      "{'name': 'abc', 1: 'one', 2: 'two', 'list': [1, 2, 3], 'tuple': (1, 2, 3)}\n"
     ]
    }
   ],
   "source": [
    "print(d1)"
   ]
  },
  {
   "cell_type": "code",
   "execution_count": 7,
   "metadata": {},
   "outputs": [
    {
     "name": "stdout",
     "output_type": "stream",
     "text": [
      "{1: 'b'}\n"
     ]
    }
   ],
   "source": [
    "d2 = {1 : \"a\", 1 : \"b\"}\n",
    "print(d2)"
   ]
  },
  {
   "cell_type": "code",
   "execution_count": 11,
   "metadata": {},
   "outputs": [
    {
     "name": "stdout",
     "output_type": "stream",
     "text": [
      "1\n",
      "2\n",
      "3\n",
      "4\n"
     ]
    }
   ],
   "source": [
    "# * → unpacking!(리스트, 튜플), ** → 딕셔너리\n",
    "# 패킹이 자동으로 이루어졌을 때에만 언패킹 가능\n",
    "# 만약 [(1,2), (3,4)] 등의 형태에서 언패킹 가능\n",
    "\n",
    "for i, j  in [(1,2), (3,4)] : # i,j 쓰면 언패킹 돼서 i는 1,3 / j 는 2,4\n",
    "    print(i)\n",
    "    print(j)"
   ]
  },
  {
   "cell_type": "code",
   "execution_count": 13,
   "metadata": {},
   "outputs": [
    {
     "name": "stdout",
     "output_type": "stream",
     "text": [
      "1\n",
      "2\n",
      "3\n",
      "4\n",
      "5\n"
     ]
    }
   ],
   "source": [
    "l1 = [1,2,3,4,5]\n",
    "\n",
    "for i in l1 :\n",
    "    print(i)"
   ]
  },
  {
   "cell_type": "code",
   "execution_count": 25,
   "metadata": {},
   "outputs": [
    {
     "name": "stdout",
     "output_type": "stream",
     "text": [
      "1 2\n",
      "3 4\n",
      "5 6\n"
     ]
    }
   ],
   "source": [
    "l2 = [[1,2], [3,4], [5,6]]\n",
    "\n",
    "for i, j in l2 :\n",
    "    print(i,j)"
   ]
  },
  {
   "cell_type": "code",
   "execution_count": 26,
   "metadata": {},
   "outputs": [],
   "source": [
    "d1 = {\"name\" : \"abc\", \"program\" : \"python\", 1 : 100}"
   ]
  },
  {
   "cell_type": "code",
   "execution_count": 27,
   "metadata": {},
   "outputs": [
    {
     "name": "stdout",
     "output_type": "stream",
     "text": [
      "dict_items([('name', 'abc'), ('program', 'python'), (1, 100)])\n",
      "dict_keys(['name', 'program', 1])\n",
      "dict_values(['abc', 'python', 100])\n"
     ]
    }
   ],
   "source": [
    "print(d1.items())   # 리스트 안에 튜플\n",
    "print(d1.keys())    # 리스트\n",
    "print(d1.values())  # 리스트"
   ]
  },
  {
   "cell_type": "code",
   "execution_count": 28,
   "metadata": {},
   "outputs": [
    {
     "name": "stdout",
     "output_type": "stream",
     "text": [
      "name abc\n",
      "program python\n",
      "1 100\n"
     ]
    }
   ],
   "source": [
    "for key, val in d1.items() :\n",
    "    print(key, val)"
   ]
  }
 ],
 "metadata": {
  "interpreter": {
   "hash": "5d240ba0dc525c389faa33f5dcce5b4f32b6d6aa6d70d6d2dd929bd2b09ab69f"
  },
  "kernelspec": {
   "display_name": "Python 3.10.2 64-bit",
   "language": "python",
   "name": "python3"
  },
  "language_info": {
   "codemirror_mode": {
    "name": "ipython",
    "version": 3
   },
   "file_extension": ".py",
   "mimetype": "text/x-python",
   "name": "python",
   "nbconvert_exporter": "python",
   "pygments_lexer": "ipython3",
   "version": "3.10.2"
  },
  "orig_nbformat": 4
 },
 "nbformat": 4,
 "nbformat_minor": 2
}
