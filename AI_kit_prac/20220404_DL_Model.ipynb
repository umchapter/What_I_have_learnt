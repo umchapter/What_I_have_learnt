{
 "cells": [
  {
   "cell_type": "code",
   "execution_count": null,
   "metadata": {},
   "outputs": [],
   "source": [
    "# 데이터 분리\n",
    "x_train, x_test, y_train, y_test = train_test_spilt(image, states, test_size = 0.2)\n",
    "x_train = np.asarray(x_train)\n",
    "x_test = np.asarray(x_test)\n",
    "y_train = np.asarray(y_train)\n",
    "y_test = np.asarray(y_test)"
   ]
  },
  {
   "cell_type": "code",
   "execution_count": null,
   "metadata": {},
   "outputs": [],
   "source": [
    "# 데이터 정규화\n",
    "\n",
    "plt.imshow(x_train[0])  # imshow / 상대적 값으로 출력\n",
    "\n",
    "x_train = x_train.astype(\"float32\") / 255\n",
    "x_test = x_test.astype(\"float32\") / 255\n",
    "# min-max algo : (x - x.min) / (x.max - x.min) = 이동 / 범위 → 0 ~ 1 사이의 값\n",
    "# 정규화(여기서는 min-max)를 통해 빠른 학습 / 효율적 학습\n",
    "\n",
    "print(y_test[30]) # → R, G, L 등\n",
    "\n",
    "from sklearn.preprocessing import LabelEncoder\n",
    "\n",
    "label_encoder = LabelEncoder()\n",
    "y_train = label_encoder.fit_transform(y_train)\n",
    "y_test = label_encoder.fit_transform(y_test)\n",
    "# G = 0, L = 1, R =2\n",
    "print(y_test[30]) # → 2, 0, 1 등\n",
    "\n",
    "x_train.shape # (2303, 66, 200, 3)"
   ]
  },
  {
   "cell_type": "code",
   "execution_count": null,
   "metadata": {},
   "outputs": [],
   "source": [
    "# CNN 모델구성\n",
    "\n",
    "model = Sequentail(name = \"autoCar\")\n",
    "\n",
    "# 이미지 특성 추출\n",
    "model.add(Conv2D(24, 5, 2, input_shape = (66,200,3), activation = \"relu\"))\n",
    "model.add(Conv2D(36, 5, 2, activation = \"relu\"))\n",
    "model.add(Conv2D(48, 5, activation = \"relu\"))\n",
    "model.add(Conv2D(64, 5, 2, activation = \"relu\"))\n",
    "model.add(Dropout(0, 2))\n",
    "model.add(Conv2D(64, 3, activation = \"relu\"))\n",
    "\n",
    "# 이미지 분류\n",
    "model.add(Flatten())\n",
    "model.add(Dropout(0, 2))\n",
    "model.add(Dense(100, activation = \"relu\"))\n",
    "model.add(Dense(50, activation = \"relu\"))\n",
    "model.add(Dense(10, activation = \"relu\"))\n",
    "model.add(Dense(3, activation = \"softmax\"))\n",
    "\n",
    "# 모델 컴파일\n",
    "model.compile(loss = \"sparse_categorical_crossentropy\", optimizer = Adam(lr = 1e-3), metrics = [\"acc\"])\n",
    "\n",
    "# 모델 구조출력\n",
    "model.summary()\n"
   ]
  },
  {
   "cell_type": "code",
   "execution_count": null,
   "metadata": {},
   "outputs": [],
   "source": [
    "model.fit(x_train, y_train, epochs = 10, batch_size = 128) # 학습\n",
    "\n",
    "model.evaluate(x_test, y_test) # 검증\n",
    "\n",
    "model.save(\".\\deep_auto.h5\") # 모델 저장 → 라즈베리파이에 마운트"
   ]
  },
  {
   "cell_type": "markdown",
   "metadata": {},
   "source": [
    "2-way holdout : train, test 두 개로 구별\n",
    "3-way holdout : train, val, test 세 개로 구별"
   ]
  }
 ],
 "metadata": {
  "language_info": {
   "name": "python"
  },
  "orig_nbformat": 4
 },
 "nbformat": 4,
 "nbformat_minor": 2
}
