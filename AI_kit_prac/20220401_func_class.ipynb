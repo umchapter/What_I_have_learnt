{
 "cells": [
  {
   "cell_type": "code",
   "execution_count": 1,
   "metadata": {},
   "outputs": [
    {
     "name": "stdout",
     "output_type": "stream",
     "text": [
      "4\n",
      "1\n"
     ]
    }
   ],
   "source": [
    "# def func(parameters) : 정의할 때 쓰는 가짜 값들은 파라미터\n",
    "# func(arguments)   호출할 때 사용하는 진짜 값들은 아규먼트\n",
    "\n",
    "def add(x, y) :\n",
    "    return x+y, x  #여러개의 값을 튜플로 묶어 반환 → 언패킹 가능 → 여러개 반환 가능\n",
    "\n",
    "one, two = add(1, 3)\n",
    "\n",
    "print(one)\n",
    "print(two)"
   ]
  },
  {
   "cell_type": "code",
   "execution_count": 2,
   "metadata": {},
   "outputs": [
    {
     "data": {
      "text/plain": [
       "4"
      ]
     },
     "execution_count": 2,
     "metadata": {},
     "output_type": "execute_result"
    }
   ],
   "source": [
    "def add(x, y) :\n",
    "    return x+y\n",
    "\n",
    "add(*[1,3])     # 값을 \"줄\" 때는 명시적인 언패킹 * 필요함 / 딕셔너리는 ** 필요"
   ]
  },
  {
   "cell_type": "code",
   "execution_count": 3,
   "metadata": {},
   "outputs": [],
   "source": [
    "# 클래스 호출(인스턴스화)\n",
    "# 클래스이름() → obj 만든다. ()필요!!!\n",
    "# obj → instance / instantiation\n",
    "# 던더 __init__() → 스크립트 언어의 인터프리터가 사용하는 함수 / 자동으로 사용\n",
    "# 던더 = Magic Methods // Double Under → Dunder\n",
    "\n",
    "class arith_opertaion :\n",
    "    def __init__(self, x, y) :\n",
    "        self.x = x\n",
    "        self.y = y\n",
    "    \n",
    "    def add (self) :\n",
    "        return self.x + self.y"
   ]
  },
  {
   "cell_type": "code",
   "execution_count": 14,
   "metadata": {},
   "outputs": [],
   "source": [
    "class Person :\n",
    "    def __init__(self, x, y) : # 프로그래머들끼리 관용적으로 self 약속\n",
    "        self.feet = x\n",
    "        self.hands = y\n",
    "        print(\"객체가 생성됩니다!!!!\")\n",
    "    \n",
    "    def eat(self) :\n",
    "        print(\"밥을 먹습니다.\")"
   ]
  },
  {
   "cell_type": "code",
   "execution_count": 15,
   "metadata": {},
   "outputs": [
    {
     "name": "stdout",
     "output_type": "stream",
     "text": [
      "객체가 생성됩니다!!!!\n",
      "2\n",
      "1\n",
      "밥을 먹습니다.\n"
     ]
    }
   ],
   "source": [
    "AJH = Person(2,1)\n",
    "print(AJH.feet)\n",
    "print(AJH.hands)\n",
    "AJH.eat()"
   ]
  },
  {
   "cell_type": "markdown",
   "metadata": {},
   "source": [
    "Class - 1) Class 단과\n",
    "        2) Instance 단으로 나뉨\n",
    "\n",
    "Instance methods → 인스턴스가 사용하므로 주소로 self 써준다.\n",
    "Class methodes → 주소 써줄 필요 없음.\n",
    "\n",
    "Class data → self.data 형태"
   ]
  }
 ],
 "metadata": {
  "interpreter": {
   "hash": "5d240ba0dc525c389faa33f5dcce5b4f32b6d6aa6d70d6d2dd929bd2b09ab69f"
  },
  "kernelspec": {
   "display_name": "Python 3.10.2 64-bit",
   "language": "python",
   "name": "python3"
  },
  "language_info": {
   "codemirror_mode": {
    "name": "ipython",
    "version": 3
   },
   "file_extension": ".py",
   "mimetype": "text/x-python",
   "name": "python",
   "nbconvert_exporter": "python",
   "pygments_lexer": "ipython3",
   "version": "3.10.2"
  },
  "orig_nbformat": 4
 },
 "nbformat": 4,
 "nbformat_minor": 2
}
