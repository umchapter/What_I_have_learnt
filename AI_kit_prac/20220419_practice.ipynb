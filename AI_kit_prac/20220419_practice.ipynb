{
 "cells": [
  {
   "cell_type": "markdown",
   "metadata": {},
   "source": [
    "## 라즈베리파이 활용 자율주행 자동차 kit 실습\n",
    "* kit 연결\n",
    "\t* wifi ap : ssid RpiAICar006&nbsp;&nbsp;&nbsp;&nbsp;&nbsp;&nbsp;&nbsp;&nbsp;password 12345678\n",
    "\t* id address : 192.168.50.1&nbsp;&nbsp;&nbsp;&nbsp;&nbsp;&nbsp;&nbsp;&nbsp;id/pw : pi/raspberry\n",
    "\n",
    "### 1. VNC Viewer로 연결한 라즈베리파이 기본기능\n",
    "1. 파일 관리자\n",
    "   * Autonomous_Car 폴더.\n",
    "   * 유저 - 그룹 - 그 외 &nbsp; / &nbsp; 권한 허가/제한\n",
    "2. 터미널\n",
    "   * ls 명령어. &nbsp; ex) ls -al 등.\n",
    "   * pwd 명령어 &nbsp; / &nbsp; 현재 작업중인 디렉토리.\n",
    "   * cd 명령어 &nbsp; / &nbsp; 디렉토리 변경. &nbsp; ex) cd . (현재), cd .. (상위 디렉토리)\n",
    "   * 위, 아래 방향키 &nbsp; / &nbsp; 이전에 쓴 명령어. \n",
    "   * tab 고유한 폴더/파일명 등을 메꿔줌.\n",
    "   * ctrl+x &nbsp; / &nbsp; 빠져나가기. 변경되었으면 저장여부 물어봄.\n",
    "   * nano &nbsp; / &nbsp; 편집명령어. 없으면 만듦. ex) nano.py\n",
    "   * python (python_file.py)\n",
    "3. 내부에서 텍스트 에디터 이용\n",
    "   * python 파일 작성 가능\n",
    "4. 라즈베리 메뉴에서 정상종료\n",
    "   * 셧다운\n",
    "   * 적색불 점멸 끝나고 녹색불만 남았을 때 전원 끔\n",
    "\n",
    "### 2. 모터 동작 제어\n",
    "1. 내부 while문 파일\n",
    "   * motor one : 오른쪽 바퀴\n",
    "   * 속도는 100% 단위\n",
    "2. Lesson4에서 Keyboard.py\n",
    "   * config에서 얼라인먼트 및 회전반경, 주행속도 조정\n",
    "\n",
    "### 3. 기록과 학습\n",
    "\n",
    "#### * Sorting하지 않고 Shuffle하는 이유\n",
    "* Transformal learning하는 경우 신규 데이터 학습하면서 과거 학습 데이터 삭제.\n",
    "* 따라서 소팅된 자료로 학습시 최종 학습된 데이터 값만 가질 가능성 있음.\n",
    "* 셔플해서 전부 학습할 가능성 줌\n",
    "#### * Batch와 Epochs\n",
    "* 작업단위 batch. 1번의 batch :  1 step.\n",
    "* 학습횟수 epochs.\n",
    "#### * 1회 학습 후 first training 바꿔서 중간부터 재학습하도록\n",
    "\n",
    "### 4. Wrap-Up\n",
    "1. 인공지능의 한계\n",
    "   * 고차원의 concept를 이해하는 것이 아니라 데이터 학습을 통한 계산결과일 뿐.\n",
    "   * 데이터는 학습한 것과 형식적으로 '유사'해야 할 필요성.\n",
    "   * 중국어 방\n",
    "   * Distortion에 의한 오류.\n",
    "2. Black Box\n",
    "   * 작동방식을 정확하게 모름."
   ]
  }
 ],
 "metadata": {
  "language_info": {
   "name": "python"
  },
  "orig_nbformat": 4
 },
 "nbformat": 4,
 "nbformat_minor": 2
}
