{
 "cells": [
  {
   "cell_type": "markdown",
   "metadata": {},
   "source": [
    "이미지 인식을 위한 CNN\n",
    "===\n",
    "* MNIST 데이터를 통해 CNN의 이미지 인식 연습\n",
    "    * MNIST 데이터셋은 70,000개의 글자 이미지에 각각 0부터 9까지 이름표를 붙인 데이터셋\n",
    "## 1. 데이터 전처리"
   ]
  },
  {
   "cell_type": "code",
   "execution_count": 38,
   "metadata": {},
   "outputs": [],
   "source": [
    "# mnist 자료 로드\n",
    "import tensorflow as tf\n",
    "from tensorflow.keras.utils import to_categorical\n",
    "from tensorflow.keras.models import Sequential\n",
    "from tensorflow.keras.layers import Dense\n",
    "from tensorflow.keras.datasets.mnist import load_data\n",
    "\n",
    "# 자동완성용 라이브러리 로드\n",
    "from keras.datasets.mnist import load_data\n",
    "from keras.models import Sequential\n",
    "from keras.layers import Dense\n",
    "\n",
    "# MNIST 데이터는 7만개의 이미지 중 6만개를 학습용으로, 1만개를 테스트용으로 미리 구분.\n",
    "(X_train, y_class_train), (X_test, y_class_test) = load_data()"
   ]
  },
  {
   "cell_type": "markdown",
   "metadata": {},
   "source": [
    "* matplotlib을 통한 시각적 확인.\n",
    "    * $28\\times28$ 픽셀, 0~255 까지 밝기 등급으로 표현.\n",
    "    * 행렬로 이루어진 하나의 집합으로 변환됨."
   ]
  },
  {
   "cell_type": "code",
   "execution_count": 39,
   "metadata": {},
   "outputs": [
    {
     "data": {
      "image/png": "[encoded data removed]",
      "text/plain": [
       "<Figure size 432x288 with 1 Axes>"
      ]
     },
     "metadata": {
      "needs_background": "light"
     },
     "output_type": "display_data"
    }
   ],
   "source": [
    "import matplotlib.pyplot as plt\n",
    "import numpy as np\n",
    "\n",
    "first_image = X_train[0]\n",
    "first_image = np.array(first_image, dtype=float)\n",
    "pixels = first_image.reshape((28, 28))\n",
    "plt.imshow(pixels, cmap=\"gray\")\n",
    "plt.show()"
   ]
  },
  {
   "cell_type": "markdown",
   "metadata": {},
   "source": [
    "* 주어진 가로 28, 세로 28의 2차원 배열을 784개의 1차원 배열로 바꿔 줌.\n",
    "* 이를 위해 reshape() 함수를 사용.\n",
    "* keras는 데이터를 0에서 1사이의 값으로 변환한 다음 구동할 때 최적의 성능을 보임.\n",
    "    * 따라서 현재 0~255 사이의 값으로 이루어진 값을 0~1 사이의 값으로 바꿔야 함.\n",
    "* 데이터의 폭이 클 때 적절한 값으로 분산의 정도를 바꾸는 과정 : 데이터 정규화(normalization).\n",
    "    * 정규화를 위해 astype()를 이용해 실수형으로 바꾼 뒤 255로 나눠줌(min-max)."
   ]
  },
  {
   "cell_type": "code",
   "execution_count": 40,
   "metadata": {},
   "outputs": [],
   "source": [
    "X_train = X_train.reshape(X_train.shape[0], 784)\n",
    "X_train = X_train.astype(\"float64\")\n",
    "X_train = X_train / 255"
   ]
  },
  {
   "cell_type": "code",
   "execution_count": 41,
   "metadata": {},
   "outputs": [],
   "source": [
    "X_test = X_test.reshape(X_test.shape[0], 784).astype('float64') / 255"
   ]
  },
  {
   "cell_type": "markdown",
   "metadata": {},
   "source": [
    "* 레이블의 값은 5와 같이 이미지를 나타내는 카테고리형.\n",
    "* 딥러닝의 분류 문제는 원-핫 인코딩 방식을 적용함."
   ]
  },
  {
   "cell_type": "code",
   "execution_count": 42,
   "metadata": {},
   "outputs": [],
   "source": [
    "y_train = to_categorical(y_class_train, 10)\n",
    "y_test = to_categorical(y_class_test, 10)"
   ]
  },
  {
   "cell_type": "code",
   "execution_count": 43,
   "metadata": {},
   "outputs": [
    {
     "data": {
      "text/plain": [
       "array([0., 0., 0., 0., 0., 1., 0., 0., 0., 0.], dtype=float32)"
      ]
     },
     "execution_count": 43,
     "metadata": {},
     "output_type": "execute_result"
    }
   ],
   "source": [
    "y_train[0]"
   ]
  },
  {
   "cell_type": "markdown",
   "metadata": {},
   "source": [
    "## 2. 딥러닝 기본 프레임 만들기\n",
    "* 입력 값(input_shape)이 784개, 은닉층이 512개 그리고 출력이 10개인 모델.\n",
    "* 활성화 함수로 은닉층에서는 relu를, 출력층에서는 softmax를 사용.\n",
    "* 딥러닝 실행 환경을 위해 오차 함수로 CategoricalCrossentropy, 최적화 함수로 adam을 사용.\n",
    "* 모델의 실행에 앞서 모델의 성과를 저장하고 모델의 최적화 단계에서 학습을 자동 중단하게끔 설정."
   ]
  },
  {
   "cell_type": "code",
   "execution_count": 46,
   "metadata": {},
   "outputs": [
    {
     "name": "stdout",
     "output_type": "stream",
     "text": [
      "\n",
      "Epoch 1: val_loss improved from inf to 0.25819, saving model to ./model\\01_0.2582.hdf5\n",
      "\n",
      "Epoch 2: val_loss improved from 0.25819 to 0.19313, saving model to ./model\\02_0.1931.hdf5\n",
      "\n",
      "Epoch 3: val_loss improved from 0.19313 to 0.15579, saving model to ./model\\03_0.1558.hdf5\n",
      "\n",
      "Epoch 4: val_loss improved from 0.15579 to 0.12838, saving model to ./model\\04_0.1284.hdf5\n",
      "\n",
      "Epoch 5: val_loss improved from 0.12838 to 0.11282, saving model to ./model\\05_0.1128.hdf5\n",
      "\n",
      "Epoch 6: val_loss improved from 0.11282 to 0.10574, saving model to ./model\\06_0.1057.hdf5\n",
      "\n",
      "Epoch 7: val_loss improved from 0.10574 to 0.09404, saving model to ./model\\07_0.0940.hdf5\n",
      "\n",
      "Epoch 8: val_loss improved from 0.09404 to 0.08712, saving model to ./model\\08_0.0871.hdf5\n",
      "\n",
      "Epoch 9: val_loss improved from 0.08712 to 0.08279, saving model to ./model\\09_0.0828.hdf5\n",
      "\n",
      "Epoch 10: val_loss improved from 0.08279 to 0.07664, saving model to ./model\\10_0.0766.hdf5\n",
      "\n",
      "Epoch 11: val_loss improved from 0.07664 to 0.07427, saving model to ./model\\11_0.0743.hdf5\n",
      "\n",
      "Epoch 12: val_loss improved from 0.07427 to 0.07051, saving model to ./model\\12_0.0705.hdf5\n",
      "\n",
      "Epoch 13: val_loss improved from 0.07051 to 0.07022, saving model to ./model\\13_0.0702.hdf5\n",
      "\n",
      "Epoch 14: val_loss improved from 0.07022 to 0.06867, saving model to ./model\\14_0.0687.hdf5\n",
      "\n",
      "Epoch 15: val_loss improved from 0.06867 to 0.06610, saving model to ./model\\15_0.0661.hdf5\n",
      "\n",
      "Epoch 16: val_loss did not improve from 0.06610\n",
      "\n",
      "Epoch 17: val_loss improved from 0.06610 to 0.06393, saving model to ./model\\17_0.0639.hdf5\n",
      "\n",
      "Epoch 18: val_loss did not improve from 0.06393\n",
      "\n",
      "Epoch 19: val_loss improved from 0.06393 to 0.06283, saving model to ./model\\19_0.0628.hdf5\n",
      "\n",
      "Epoch 20: val_loss did not improve from 0.06283\n",
      "\n",
      "Epoch 21: val_loss improved from 0.06283 to 0.06279, saving model to ./model\\21_0.0628.hdf5\n",
      "\n",
      "Epoch 22: val_loss improved from 0.06279 to 0.06248, saving model to ./model\\22_0.0625.hdf5\n",
      "\n",
      "Epoch 23: val_loss did not improve from 0.06248\n",
      "\n",
      "Epoch 24: val_loss did not improve from 0.06248\n",
      "\n",
      "Epoch 25: val_loss did not improve from 0.06248\n",
      "\n",
      "Epoch 26: val_loss did not improve from 0.06248\n",
      "\n",
      "Epoch 27: val_loss did not improve from 0.06248\n",
      "\n",
      "Epoch 28: val_loss did not improve from 0.06248\n",
      "\n",
      "Epoch 29: val_loss did not improve from 0.06248\n",
      "\n",
      "Epoch 30: val_loss did not improve from 0.06248\n",
      "\n",
      "Epoch 31: val_loss did not improve from 0.06248\n",
      "\n",
      "Epoch 32: val_loss did not improve from 0.06248\n",
      "313/313 [==============================] - 1s 2ms/step - loss: 0.0638 - accuracy: 0.9806\n",
      "\n",
      " Test Accuracy : 0.9805999994277954\n"
     ]
    }
   ],
   "source": [
    "import os\n",
    "from tensorflow.keras.callbacks import ModelCheckpoint, EarlyStopping\n",
    "\n",
    "# 자동완성\n",
    "from keras.callbacks import ModelCheckpoint, EarlyStopping\n",
    "\n",
    "# 모델 저장할 폴더 경로 및 파일명\n",
    "model_dir = \"./model/\"\n",
    "if not os.path.exists(model_dir) :\n",
    "    os.mkdir(model_dir)\n",
    "\n",
    "modelpath = \"./model/{epoch:02d}_{val_loss:.4f}.hdf5\"\n",
    "\n",
    "# 체크 포인트 설정, 얼리 스탑 기준 지정\n",
    "checkpointer = ModelCheckpoint(filepath=modelpath, monitor=\"val_loss\", verbose=1,\n",
    "                                save_best_only=True)\n",
    "early_stopping_callback = EarlyStopping(monitor=\"val_loss\", patience=10)\n",
    "\n",
    "cols = 28*28\n",
    "batch_size = 1000\n",
    "model = Sequential()\n",
    "model.add(Dense(units=512, input_shape=(cols, ), activation=\"relu\"))\n",
    "model.add(Dense(units=10, activation=\"softmax\"))\n",
    "\n",
    "model.compile(loss=\"CategoricalCrossentropy\",\n",
    "            optimizer=\"adam\",\n",
    "            metrics=[\"accuracy\"])\n",
    "\n",
    "# validation_data, callbacks 지정\n",
    "history = model.fit(X_train, y_train, validation_data=(X_test, y_test), epochs=100, batch_size=batch_size,\n",
    "                    verbose=0, callbacks=[early_stopping_callback, checkpointer])\n",
    "\n",
    "print(f\"\\n Test Accuracy : {model.evaluate(X_test, y_test)[1]}\")"
   ]
  },
  {
   "cell_type": "markdown",
   "metadata": {},
   "source": [
    "* 학습셋에 대한 오차는 계속해서 줄어듦.\n",
    "* 테스트셋의 과적합이 일어나기 전 학습을 끝낸 모습."
   ]
  },
  {
   "cell_type": "code",
   "execution_count": 47,
   "metadata": {},
   "outputs": [
    {
     "data": {
      "image/png": "[encoded data removed]",
      "text/plain": [
       "<Figure size 432x288 with 1 Axes>"
      ]
     },
     "metadata": {
      "needs_background": "light"
     },
     "output_type": "display_data"
    }
   ],
   "source": [
    "import matplotlib.pyplot as plt\n",
    "\n",
    "y_vloss = history.history[\"val_loss\"]\n",
    "\n",
    "# 학습셋의 오차\n",
    "y_loss = history.history[\"loss\"]\n",
    "\n",
    "# 그래프로 표현\n",
    "x_len = np.arange(len(y_loss))\n",
    "plt.plot(x_len, y_vloss, marker=\".\", c=\"red\", label=\"Testset_loss\")\n",
    "plt.plot(x_len, y_loss, marker=\".\", c=\"blue\", label=\"Trainset_loss\")\n",
    "\n",
    "# 그래프에 그리드를 주고 레이블을 표시\n",
    "plt.legend()\n",
    "plt.grid()\n",
    "plt.xlabel(\"epoch\")\n",
    "plt.ylabel(\"loss\")\n",
    "plt.show()"
   ]
  },
  {
   "cell_type": "markdown",
   "metadata": {},
   "source": [
    "## 3. 더 깊은 딥러닝\n",
    "* 하나의 은닉층을 둔 아주 단순한 모델이지만 98%의 정확도\n",
    "* 딥러닝은 이러한 기본 모델을 바탕으로, 프로젝트에 맞춰서 어떤 옵션을 더하고 어떤 층을 추가하느냐에 따라 성능이 좋아질 수 있음.\n",
    "* CNN(Convolutional Neural Networ)를 추가\n",
    "## 4. CNN\n",
    "* 컨볼루션 신경망은 입력된 이미지에서 다시 한 번 특징을 추출하기 위해 마스크(필터, 윈도 또는 커널)를 도입하는 기법.\n",
    "* 예를 입력된 이미지가 다음과 같은 값을 가지고 있다고 가정.\n",
    "    * $\\begin{bmatrix}1&0&1&0\\\\0&1&1&0\\\\0&0&1&1\\\\0&0&1&0\\end{bmatrix}$\n",
    "* 여기에 $2\\times2$ 마스크를 준비함\n",
    "    * 각 칸에는 가중치가 들어있음.\n",
    "    * $\\begin{bmatrix}\\times1&\\times0\\\\\\times0&\\times1\\end{bmatrix}$\n",
    "* 마스크를 이미지의 각 구간에 적용함.\n",
    "    * 적용된 구간에 원래 있던 값에 가중치의 값을 곱해서 더해줌.\n",
    "    * $(1\\times1)+(0\\times0)+(0\\times0)+(1\\times1)=2$\n",
    "* 마스크를 한 칸씩 옮겨 모두 적용.\n",
    "    * $\\begin{bmatrix}2&1&1\\\\0&2&2\\\\0&1&1\\end{bmatrix}$\n",
    "* 이렇게 새롭게 만들어진 층을 컨볼루션(합성곱)이라고 부름.\n",
    "* 컨볼루션을 만들면 입력 데이터로부터 더욱 정교한 특징을 추출할 수 있음.\n",
    "* 마스크를 여러 개 만들 경우 여러 개의 컨볼루션이 만들어짐.\n",
    "    * 예를 들어, $\\begin{bmatrix}\\times1&\\times1\\\\\\times0&\\times0\\end{bmatrix}\\rarr\\begin{bmatrix}1&1&1\\\\1&2&1\\\\0&1&2\\end{bmatrix}$\n",
    "### Keras의 CNN\n",
    "* 케라스에서 컨볼루션 층을 추가하는 함수는 Conv2D()\n",
    "```python\n",
    "model.add(Conv2D(32, kernel_size=(3, 3), input_shape=(28, 28, 1), activation='relu'))\n",
    "```\n",
    "* 첫번째 인자 : 마스크를 몇 개 적용할 지 정함. 예시에서는 32개의 마스크를 적용.\n",
    "* kernel_size : 마스크(커널)의 크기를 정함. kernel_size=(행, 열) 형식으로 정하며, 예시는 $3\\times3$ 크기의 마스크를 사용하게끔 정함.\n",
    "* input_shape : Dense 층과 마찬가지로 맨 처음 층에는 입력되는 값을 알려주어야 함. input_shape=(행,열, 색상 또는 흑백) 형식으로 정함. 만약 입력 이미지가 색상이면 3, 흑백이면 1.\n",
    "* activation : 활성화 함수를 정의\n",
    "```python\n",
    "model.add(Conv2D(64, (3, 3), activation='relu'))\n",
    "```\n",
    "* 위와 같이 마스크 64개를 적용한 새로운 컨볼루션 층을 추가할 수 있음.\n",
    "## 5. Max Pooling\n",
    "* 컨볼루션 층을 통해 이미지 특징을 도출하였으나 그 결과가 여전히 크고 복잡하면 이를 다시 한 번 축소해야 함.\n",
    "    * 이 과정을 풀링(pooling) 또는 서브 샘플링(sub sampling)이라고 함.\n",
    "* 풀링 기법 중 가장 많이 사용되는 기법이 맥스 풀링(max pooling).\n",
    "* 맥스 풀링은 정해진 구역 안에서 가장 큰 값만 다음 층으로 넘기고 나머지는 버림.\n",
    "* 예를 들어 다음과 같은 이미지가 있을 때,\n",
    "    * $\\begin{bmatrix}1&0&1&0\\\\0&4&2&0\\\\0&1&6&1\\\\0&0&1&0\\end{bmatrix}$\n",
    "* 맥스 풀링을 적용하여 $(2\\times2)$의 4개의 구간으로 나누어 가장 큰 값만을 추출.\n",
    "    * $\\begin{bmatrix}4&2\\\\1&6\\end{bmatrix}$\n",
    "### Keras의 MaxPooling\n",
    "* 맥스 풀링을 통해 불필요한 정보를 간추릴 수 있음.\n",
    "* 케라스에서는 MaxPooling2D()함수를 사용해서 다음과 같이 적용할 수 있음.\n",
    "```python\n",
    "model.add(MaxPooling2D(pool_size=2))\n",
    "```\n",
    "* 여기서 pool_size는 풀링 창의 크기를 정하는 것으로, 2로 정하면 전체 크기가 절반으로 줄어듦.\n",
    "### 드롭아웃(drop out)과 플래튼(flatten)\n",
    "#### 1. 드롭아웃\n",
    "* 노드가 많아지거나 층이 많아진다고 해서 학습이 무조건 잘 되는 것이 아님.\n",
    "    * 과적합 발생 가능.\n",
    "* 과적합을 피하는 간단하지만 효과가 큰 기법이 드롭아웃 기법.\n",
    "* 드롭아웃은 은닉층에 배치된 노드 중 일부를 임의로 꺼주는 것.\n",
    "* 랜덤하게 노드를 끔으로써 학습 데이터에 지나치게 치우쳐서 학습되는 과적합을 방지할 수 있음.\n",
    "* 케라스를 이용해 손쉽게 적용가능 / 25% 노드 끄는 코드\n",
    "```python\n",
    "model.add(Dropout(0.25))\n",
    "```\n",
    "#### 2. 플래튼\n",
    "* 위의 과정을 다시 Dense() 함수를 이용해 기본층에 연결하려고 할때, 컨볼루션 층이나 맥스 풀링은 주어진 이미지를 2차원 배열인 채로 다룸.\n",
    "* 이를 1차원으로 바꿔주는 함수가 Flatten() 함수.\n",
    "```python\n",
    "model.add(Flatten())\n",
    "```\n",
    "## 6. 컨볼루션 신경망 실행"
   ]
  },
  {
   "cell_type": "code",
   "execution_count": 5,
   "metadata": {},
   "outputs": [
    {
     "name": "stdout",
     "output_type": "stream",
     "text": [
      "Epoch 1/30\n",
      "300/300 [==============================] - ETA: 0s - loss: 0.2163 - accuracy: 0.9351\n",
      "Epoch 1: val_loss improved from inf to 0.05202, saving model to ./model\\01_0.0520.hdf5\n",
      "300/300 [==============================] - 32s 107ms/step - loss: 0.2163 - accuracy: 0.9351 - val_loss: 0.0520 - val_accuracy: 0.9836\n",
      "Epoch 2/30\n",
      "300/300 [==============================] - ETA: 0s - loss: 0.0625 - accuracy: 0.9808\n",
      "Epoch 2: val_loss improved from 0.05202 to 0.03986, saving model to ./model\\02_0.0399.hdf5\n",
      "300/300 [==============================] - 35s 115ms/step - loss: 0.0625 - accuracy: 0.9808 - val_loss: 0.0399 - val_accuracy: 0.9864\n",
      "Epoch 3/30\n",
      "300/300 [==============================] - ETA: 0s - loss: 0.0424 - accuracy: 0.9867\n",
      "Epoch 3: val_loss improved from 0.03986 to 0.03069, saving model to ./model\\03_0.0307.hdf5\n",
      "300/300 [==============================] - 35s 117ms/step - loss: 0.0424 - accuracy: 0.9867 - val_loss: 0.0307 - val_accuracy: 0.9896\n",
      "Epoch 4/30\n",
      "300/300 [==============================] - ETA: 0s - loss: 0.0334 - accuracy: 0.9894\n",
      "Epoch 4: val_loss did not improve from 0.03069\n",
      "300/300 [==============================] - 47s 157ms/step - loss: 0.0334 - accuracy: 0.9894 - val_loss: 0.0332 - val_accuracy: 0.9896\n",
      "Epoch 5/30\n",
      "300/300 [==============================] - ETA: 0s - loss: 0.0271 - accuracy: 0.9916\n",
      "Epoch 5: val_loss improved from 0.03069 to 0.02805, saving model to ./model\\05_0.0280.hdf5\n",
      "300/300 [==============================] - 52s 173ms/step - loss: 0.0271 - accuracy: 0.9916 - val_loss: 0.0280 - val_accuracy: 0.9904\n",
      "Epoch 6/30\n",
      "300/300 [==============================] - ETA: 0s - loss: 0.0228 - accuracy: 0.9927\n",
      "Epoch 6: val_loss did not improve from 0.02805\n",
      "300/300 [==============================] - 39s 131ms/step - loss: 0.0228 - accuracy: 0.9927 - val_loss: 0.0290 - val_accuracy: 0.9911\n",
      "Epoch 7/30\n",
      "300/300 [==============================] - ETA: 0s - loss: 0.0190 - accuracy: 0.9940\n",
      "Epoch 7: val_loss did not improve from 0.02805\n",
      "300/300 [==============================] - 41s 137ms/step - loss: 0.0190 - accuracy: 0.9940 - val_loss: 0.0282 - val_accuracy: 0.9911\n",
      "Epoch 8/30\n",
      "300/300 [==============================] - ETA: 0s - loss: 0.0161 - accuracy: 0.9948\n",
      "Epoch 8: val_loss improved from 0.02805 to 0.02654, saving model to ./model\\08_0.0265.hdf5\n",
      "300/300 [==============================] - 51s 172ms/step - loss: 0.0161 - accuracy: 0.9948 - val_loss: 0.0265 - val_accuracy: 0.9914\n",
      "Epoch 9/30\n",
      "300/300 [==============================] - ETA: 0s - loss: 0.0147 - accuracy: 0.9952\n",
      "Epoch 9: val_loss did not improve from 0.02654\n",
      "300/300 [==============================] - 49s 163ms/step - loss: 0.0147 - accuracy: 0.9952 - val_loss: 0.0315 - val_accuracy: 0.9902\n",
      "Epoch 10/30\n",
      "300/300 [==============================] - ETA: 0s - loss: 0.0135 - accuracy: 0.9953\n",
      "Epoch 10: val_loss did not improve from 0.02654\n",
      "300/300 [==============================] - 39s 129ms/step - loss: 0.0135 - accuracy: 0.9953 - val_loss: 0.0320 - val_accuracy: 0.9910\n",
      "Epoch 11/30\n",
      "300/300 [==============================] - ETA: 0s - loss: 0.0123 - accuracy: 0.9956\n",
      "Epoch 11: val_loss did not improve from 0.02654\n",
      "300/300 [==============================] - 44s 148ms/step - loss: 0.0123 - accuracy: 0.9956 - val_loss: 0.0312 - val_accuracy: 0.9915\n",
      "Epoch 12/30\n",
      "300/300 [==============================] - ETA: 0s - loss: 0.0098 - accuracy: 0.9965\n",
      "Epoch 12: val_loss did not improve from 0.02654\n",
      "300/300 [==============================] - 54s 180ms/step - loss: 0.0098 - accuracy: 0.9965 - val_loss: 0.0284 - val_accuracy: 0.9915\n",
      "Epoch 13/30\n",
      "300/300 [==============================] - ETA: 0s - loss: 0.0102 - accuracy: 0.9965\n",
      "Epoch 13: val_loss did not improve from 0.02654\n",
      "300/300 [==============================] - 41s 137ms/step - loss: 0.0102 - accuracy: 0.9965 - val_loss: 0.0266 - val_accuracy: 0.9922\n",
      "Epoch 14/30\n",
      "300/300 [==============================] - ETA: 0s - loss: 0.0099 - accuracy: 0.9966\n",
      "Epoch 14: val_loss did not improve from 0.02654\n",
      "300/300 [==============================] - 39s 130ms/step - loss: 0.0099 - accuracy: 0.9966 - val_loss: 0.0348 - val_accuracy: 0.9928\n",
      "Epoch 15/30\n",
      "300/300 [==============================] - ETA: 0s - loss: 0.0108 - accuracy: 0.9963\n",
      "Epoch 15: val_loss did not improve from 0.02654\n",
      "300/300 [==============================] - 52s 174ms/step - loss: 0.0108 - accuracy: 0.9963 - val_loss: 0.0345 - val_accuracy: 0.9908\n",
      "Epoch 16/30\n",
      "300/300 [==============================] - ETA: 0s - loss: 0.0096 - accuracy: 0.9966\n",
      "Epoch 16: val_loss did not improve from 0.02654\n",
      "300/300 [==============================] - 48s 160ms/step - loss: 0.0096 - accuracy: 0.9966 - val_loss: 0.0332 - val_accuracy: 0.9920\n",
      "Epoch 17/30\n",
      "300/300 [==============================] - ETA: 0s - loss: 0.0087 - accuracy: 0.9966\n",
      "Epoch 17: val_loss did not improve from 0.02654\n",
      "300/300 [==============================] - 42s 139ms/step - loss: 0.0087 - accuracy: 0.9966 - val_loss: 0.0402 - val_accuracy: 0.9910\n",
      "Epoch 18/30\n",
      "300/300 [==============================] - ETA: 0s - loss: 0.0068 - accuracy: 0.9976\n",
      "Epoch 18: val_loss did not improve from 0.02654\n",
      "300/300 [==============================] - 46s 153ms/step - loss: 0.0068 - accuracy: 0.9976 - val_loss: 0.0332 - val_accuracy: 0.9916\n",
      "313/313 [==============================] - 4s 13ms/step - loss: 0.0332 - accuracy: 0.9916\n",
      "\n",
      " Test Accuracy : 0.991599977016449\n"
     ]
    }
   ],
   "source": [
    "# mnist 자료 로드\n",
    "from tensorflow.keras.utils import to_categorical\n",
    "from tensorflow.keras.models import Sequential\n",
    "from tensorflow.keras.layers import Dense, Dropout, Flatten, Conv2D, MaxPool2D\n",
    "from tensorflow.keras.datasets.mnist import load_data\n",
    "from tensorflow.keras.callbacks import ModelCheckpoint, EarlyStopping\n",
    "\n",
    "import matplotlib.pyplot as plt\n",
    "import numpy as np\n",
    "import os\n",
    "import tensorflow as tf\n",
    "\n",
    "# 자동완성용 라이브러리 로드\n",
    "from keras.datasets.mnist import load_data\n",
    "from keras.models import Sequential\n",
    "from keras.layers import Dense, Dropout, Flatten, Conv2D, MaxPool2D\n",
    "from keras.callbacks import ModelCheckpoint, EarlyStopping\n",
    "\n",
    "# seed 값 설정\n",
    "seed = 0\n",
    "np.random.seed(seed)\n",
    "tf.random.set_seed(seed)\n",
    "\n",
    "\n",
    "# 데이터 로드\n",
    "(X_train, y_class_train), (X_test, y_class_test) = load_data()\n",
    "X_train = X_train.reshape(X_train.shape[0], 28, 28, 1).astype('float32') / 255\n",
    "X_test = X_test.reshape(X_test.shape[0], 28, 28, 1).astype('float32') / 255\n",
    "y_train = to_categorical(y_class_train)\n",
    "y_test = to_categorical(y_class_test)\n",
    "\n",
    "\n",
    "# 모델 저장할 폴더 경로 및 파일명\n",
    "model_dir = \"./model/\"\n",
    "if not os.path.exists(model_dir) :\n",
    "    os.mkdir(model_dir)\n",
    "\n",
    "modelpath = \"./model/{epoch:02d}_{val_loss:.4f}.hdf5\"\n",
    "\n",
    "# 체크 포인트 설정, 얼리 스탑 기준 지정\n",
    "checkpointer = ModelCheckpoint(filepath=modelpath, monitor=\"val_loss\", verbose=1,\n",
    "                                save_best_only=True)\n",
    "early_stopping_callback = EarlyStopping(monitor=\"val_loss\", patience=10)\n",
    "\n",
    "\n",
    "# 컨볼루션 신경망 설정\n",
    "model = Sequential()\n",
    "model.add(Conv2D(32, kernel_size=(3, 3), input_shape=(28,28,1), activation='relu'))\n",
    "model.add(Conv2D(64, (3, 3), activation='relu'))\n",
    "model.add(MaxPool2D(pool_size=2))\n",
    "# 일반적으로 CNN에서는 드롭아웃 레이어를 Fully connected network 뒤에 놓지만,\n",
    "# 상황에 따라서는 max pooling 계층 뒤에 놓기도 한다.\n",
    "model.add(Dropout(0.25))\n",
    "model.add(Flatten())\n",
    "model.add(Dense(units=128, activation=\"relu\"))\n",
    "model.add(Dropout(0.25))\n",
    "model.add(Dense(units=10, activation=\"softmax\"))\n",
    "\n",
    "model.compile(loss=\"CategoricalCrossentropy\",\n",
    "            optimizer=\"adam\",\n",
    "            metrics=[\"accuracy\"])\n",
    "\n",
    "# validation_data, callbacks 지정\n",
    "history = model.fit(X_train, y_train, validation_data=(X_test, y_test), epochs=30, batch_size=200,\n",
    "                    verbose=1, callbacks=[early_stopping_callback, checkpointer])\n",
    "\n",
    "# 테스트 정확도 출력\n",
    "print(f\"\\n Test Accuracy : {model.evaluate(X_test, y_test)[1]}\")"
   ]
  },
  {
   "cell_type": "code",
   "execution_count": 6,
   "metadata": {},
   "outputs": [
    {
     "data": {
      "image/png": "[encoded data removed]",
      "text/plain": [
       "<Figure size 432x288 with 1 Axes>"
      ]
     },
     "metadata": {
      "needs_background": "light"
     },
     "output_type": "display_data"
    }
   ],
   "source": [
    "# 테스트 셋의 오차\n",
    "y_vloss = history.history['val_loss']\n",
    "\n",
    "# 학습셋의 오차\n",
    "y_loss = history.history[\"loss\"]\n",
    "\n",
    "# 그래프로 표현\n",
    "x_len = np.arange(len(y_loss))\n",
    "plt.plot(x_len, y_vloss, marker=\".\", c=\"red\", label=\"Testset_loss\")\n",
    "plt.plot(x_len, y_loss, marker=\".\", c=\"blue\", label=\"Trainset_loss\")\n",
    "\n",
    "# 그래프에 그리드를 주고 레이블을 표시\n",
    "plt.legend()\n",
    "plt.grid()\n",
    "plt.xlabel(\"epoch\")\n",
    "plt.ylabel(\"loss\")\n",
    "plt.show()"
   ]
  },
  {
   "cell_type": "markdown",
   "metadata": {},
   "source": [
    "* 8번째 에포크에서 베스트 모델을 만들었고 18번째 에포크에서 학습이 자동 중단됨.\n",
    "* 테스트 정확도가 98.05%에서 99.15%로 향상됨\n",
    "* 위와 같이 학습의 진행에 따른 학습셋과 테스트셋의 오차 변화를 관측할 수 있음."
   ]
  }
 ],
 "metadata": {
  "interpreter": {
   "hash": "8c2dc7f55a4afb133f9671f18548a683b80d7f864af89313bd9839ac682f147f"
  },
  "kernelspec": {
   "display_name": "Python 3.7.9 64-bit",
   "language": "python",
   "name": "python3"
  },
  "language_info": {
   "codemirror_mode": {
    "name": "ipython",
    "version": 3
   },
   "file_extension": ".py",
   "mimetype": "text/x-python",
   "name": "python",
   "nbconvert_exporter": "python",
   "pygments_lexer": "ipython3",
   "version": "3.7.9"
  },
  "orig_nbformat": 4
 },
 "nbformat": 4,
 "nbformat_minor": 2
}
