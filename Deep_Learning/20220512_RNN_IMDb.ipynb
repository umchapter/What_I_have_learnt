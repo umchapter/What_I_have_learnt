{
 "cells": [
  {
   "cell_type": "markdown",
   "metadata": {},
   "source": [
    "RNN(Recurrent Neural Network)\n",
    "===\n",
    "시퀀스 배열로 다루는 순환 신경망\n",
    "---\n",
    "### 2. LSTM과 CNN의 조합을 이용한 영화 리뷰 분류하기\n",
    "* 인터넷 영화 데이터베이스(IMDb)에 있는 영화에 대한 긍정, 부정 평가를 활용해 분석 수행.\n",
    "* 데이터 전처리 과정은 로이터 뉴스 데이터와 거의 같음.\n",
    "* 다만 클래스가 긍정 또는 부정 두 가지뿐이라 원-핫 인코딩 과정이 없음.\n",
    "#### 1. 데이터의 전처리와 모델 설정"
   ]
  },
  {
   "cell_type": "code",
   "execution_count": 69,
   "metadata": {},
   "outputs": [],
   "source": [
    "# 라이브러리 로드\n",
    "from tensorflow.keras.datasets.imdb import load_data\n",
    "from tensorflow.keras.preprocessing import sequence\n",
    "from tensorflow.keras.models import Sequential\n",
    "from tensorflow.keras.layers import Dense, Embedding, LSTM, Dropout, Conv1D, MaxPooling1D, Activation\n",
    "from tensorflow.keras.callbacks import EarlyStopping, TensorBoard, ModelCheckpoint\n",
    "import tensorflow as tf\n",
    "import matplotlib.pyplot as plt\n",
    "import numpy as np\n",
    "import pandas as pd\n",
    "\n",
    "# 자동완성용\n",
    "from keras.datasets.imdb import load_data\n",
    "from keras.preprocessing import sequence\n",
    "from keras.models import Sequential\n",
    "from keras.layers import Dense, Embedding, LSTM, Dropout, Conv1D, MaxPooling1D, Activation\n",
    "from keras.callbacks import EarlyStopping, TensorBoard, ModelCheckpoint"
   ]
  },
  {
   "cell_type": "code",
   "execution_count": 70,
   "metadata": {},
   "outputs": [],
   "source": [
    "# seed 값 설정\n",
    "np.random.seed(0)\n",
    "tf.random.set_seed(0)\n",
    "\n",
    "# 학습셋과 테스트셋 지정\n",
    "(X_train, y_train), (X_test, y_test) = load_data(num_words=5000)\n",
    "\n",
    "# 데이터 전처리 / maxlen : 길이 맞춰주는 역할\n",
    "X_train = sequence.pad_sequences(X_train, maxlen=100)\n",
    "X_test = sequence.pad_sequences(X_test, maxlen=100)"
   ]
  },
  {
   "cell_type": "markdown",
   "metadata": {},
   "source": [
    "* 모델을 다음과 같이 설정\n",
    "* 마지막에 model.summary() 함수를 넣으면 현재 설정된 모델의 구조를 한 눈에 볼 수 있음."
   ]
  },
  {
   "cell_type": "code",
   "execution_count": 71,
   "metadata": {},
   "outputs": [
    {
     "name": "stdout",
     "output_type": "stream",
     "text": [
      "Model: \"sequential_1\"\n",
      "_________________________________________________________________\n",
      " Layer (type)                Output Shape              Param #   \n",
      "=================================================================\n",
      " embedding_1 (Embedding)     (None, None, 100)         500000    \n",
      "                                                                 \n",
      " dropout_1 (Dropout)         (None, None, 100)         0         \n",
      "                                                                 \n",
      " conv1d_1 (Conv1D)           (None, None, 64)          32064     \n",
      "                                                                 \n",
      " max_pooling1d_1 (MaxPooling  (None, None, 64)         0         \n",
      " 1D)                                                             \n",
      "                                                                 \n",
      " lstm_1 (LSTM)               (None, 55)                26400     \n",
      "                                                                 \n",
      " dense_1 (Dense)             (None, 1)                 56        \n",
      "                                                                 \n",
      " activation_1 (Activation)   (None, 1)                 0         \n",
      "                                                                 \n",
      "=================================================================\n",
      "Total params: 558,520\n",
      "Trainable params: 558,520\n",
      "Non-trainable params: 0\n",
      "_________________________________________________________________\n"
     ]
    }
   ],
   "source": [
    "# 모델의 설정\n",
    "model = Sequential()\n",
    "model.add(Embedding(5000, 100))\n",
    "model.add(Dropout(0.5))\n",
    "# strides : 컨볼루션 커널 이동 간격 / 보폭\n",
    "model.add(Conv1D(64, 5, padding='valid', activation=\"relu\", strides=1))\n",
    "model.add(MaxPooling1D(pool_size=4))\n",
    "model.add(LSTM(55))\n",
    "# 새로운 방식\n",
    "model.add(Dense(1))\n",
    "model.add(Activation(\"sigmoid\"))\n",
    "model.summary()"
   ]
  },
  {
   "cell_type": "markdown",
   "metadata": {},
   "source": [
    "#### 2. 1차원 문자열 데이터와 2차원 이미지의 차이\n",
    "* 앞서 Conv2D와 MaxPooling2D는 앞서 MNIST 손글씨 인식에서 2차원 배열의 이미지를 다루기 위해 사용함.\n",
    "* 하지만 현재 데이터는 1차원의 문자열 데이터이기 때문에 Conv1D와 MaxPooling1D로 1차원 이동하는 컨볼루션 방식 사용.\n",
    "* 1차원 컨볼루션 예시(kernel_size=3, stride=1) : \n",
    "$$\\begin{bmatrix}1&4&3&2\\end{bmatrix}\\qquad\\cdots(input\\ data)$$\n",
    "$$\\begin{bmatrix}\\times1&\\times0&\\times1\\end{bmatrix}\\qquad\\cdots(mask\\ or\\ kernel)$$\n",
    "$$1\\times1+4\\times0+3\\times1 = 1+3=4$$\n",
    "$$4\\times1+3\\times0+2\\times1 = 4+2=6$$\n",
    "$$\\begin{bmatrix}4&6\\end{bmatrix}\\qquad\\cdots(output\\ data)$$\n",
    "* MaxPooling1D 역시 1차원 배열상의 정해진 구간에서 가장 큰 값을 다음 층으로 넘기고 나머지는 버림.\n",
    "* 1차원 MaxPooling 예시 (pool_size=2) :\n",
    "$$\\begin{bmatrix}1&4&3&2\\end{bmatrix}\\qquad\\cdots(input\\ data)$$\n",
    "$$\\begin{bmatrix}1&4\\end{bmatrix}\\quad\\begin{bmatrix}3&2\\end{bmatrix}\\qquad\\cdots(pool\\ apply)$$\n",
    "$$\\begin{bmatrix}4&3\\end{bmatrix}\\qquad\\cdots(output\\ data)$$\n",
    "#### 3. 모델 실행"
   ]
  },
  {
   "cell_type": "markdown",
   "metadata": {},
   "source": [
    "* 번외 : 텐서보드 사용\n",
    "    * os 모듈: 운영 체제와 상호 작용을 할 때, 사용하는 Python 기본 모듈로, Python 안에서 끝내는 것이 아닌 자신의 컴퓨터와 어떠한 작업을 하고자 한다면, 해당 모듈을 필수로 사용하게 된다.\n",
    "    * os.curdir: 현재 디렉터리를 가지고 온다.\n",
    "    * os.path.join('C:\\Tmp', 'a', 'b'): 주어진 경로들을 합쳐서 하나로 만든다. \n",
    "    *   dir_name은 Tensorboard가 바라 볼 디렉터리의 이름이다.\n",
    "    * 코드 실행 시, 생성된 로그 데이터가 섞이지 않도록, dir_name 디렉터리 아래에 현재 날짜와 시간으로 하위 디렉터리의 경로를 만들어낸다.  "
   ]
  },
  {
   "cell_type": "code",
   "execution_count": 72,
   "metadata": {},
   "outputs": [],
   "source": [
    "import os\n",
    "import datetime\n",
    "\n",
    "# Log data를 저장할 디렉터리 이름 설정\n",
    "dir_name = \"Learning_log\"\n",
    "\n",
    "# main 디렉터리와 sub 디렉터리 생성 함수\n",
    "def make_Tensorboard_dir(dir_name):\n",
    "    root_logdir = os.path.join(os.curdir, dir_name)\n",
    "    sub_dir_name = datetime.datetime.now().strftime(\"%Y%m%d-%H%M%S\")\n",
    "    return os.path.join(root_logdir, sub_dir_name)"
   ]
  },
  {
   "cell_type": "code",
   "execution_count": 73,
   "metadata": {},
   "outputs": [
    {
     "name": "stdout",
     "output_type": "stream",
     "text": [
      "Epoch 1/20\n",
      "250/250 [==============================] - ETA: 0s - loss: 0.4557 - accuracy: 0.7648\n",
      "Epoch 1: val_loss improved from inf to 0.33133, saving model to .\\model\\20220512-140010\\01_0.3313.hdf5\n",
      "250/250 [==============================] - 11s 41ms/step - loss: 0.4557 - accuracy: 0.7648 - val_loss: 0.3313 - val_accuracy: 0.8533\n",
      "Epoch 2/20\n",
      "249/250 [============================>.] - ETA: 0s - loss: 0.2914 - accuracy: 0.8773\n",
      "Epoch 2: val_loss improved from 0.33133 to 0.32408, saving model to .\\model\\20220512-140010\\02_0.3241.hdf5\n",
      "250/250 [==============================] - 11s 44ms/step - loss: 0.2915 - accuracy: 0.8772 - val_loss: 0.3241 - val_accuracy: 0.8583\n",
      "Epoch 3/20\n",
      "249/250 [============================>.] - ETA: 0s - loss: 0.2478 - accuracy: 0.9000\n",
      "Epoch 3: val_loss did not improve from 0.32408\n",
      "250/250 [==============================] - 11s 44ms/step - loss: 0.2478 - accuracy: 0.9000 - val_loss: 0.3461 - val_accuracy: 0.8534\n",
      "Epoch 4/20\n",
      "249/250 [============================>.] - ETA: 0s - loss: 0.2117 - accuracy: 0.9167\n",
      "Epoch 4: val_loss did not improve from 0.32408\n",
      "250/250 [==============================] - 11s 45ms/step - loss: 0.2119 - accuracy: 0.9166 - val_loss: 0.3568 - val_accuracy: 0.8536\n",
      "Epoch 5/20\n",
      "249/250 [============================>.] - ETA: 0s - loss: 0.1778 - accuracy: 0.9317\n",
      "Epoch 5: val_loss did not improve from 0.32408\n",
      "250/250 [==============================] - 11s 45ms/step - loss: 0.1781 - accuracy: 0.9316 - val_loss: 0.3485 - val_accuracy: 0.8546\n",
      "Epoch 6/20\n",
      "250/250 [==============================] - ETA: 0s - loss: 0.1480 - accuracy: 0.9451\n",
      "Epoch 6: val_loss did not improve from 0.32408\n",
      "250/250 [==============================] - 11s 46ms/step - loss: 0.1480 - accuracy: 0.9451 - val_loss: 0.3854 - val_accuracy: 0.8516\n",
      "Epoch 7/20\n",
      "250/250 [==============================] - ETA: 0s - loss: 0.1231 - accuracy: 0.9558\n",
      "Epoch 7: val_loss did not improve from 0.32408\n",
      "250/250 [==============================] - 12s 46ms/step - loss: 0.1231 - accuracy: 0.9558 - val_loss: 0.3960 - val_accuracy: 0.8468\n",
      "782/782 [==============================] - 4s 5ms/step - loss: 0.3960 - accuracy: 0.8468\n",
      "\n",
      " Test Accuracy:0.8468\n"
     ]
    }
   ],
   "source": [
    "# 콜백함수 - 텐서보드\n",
    "TB_log_dir = make_Tensorboard_dir(dir_name)\n",
    "TensorB = TensorBoard(log_dir = TB_log_dir)\n",
    "\n",
    "# 모델 저장 조건 설정\n",
    "model_dir_name = \"model\"\n",
    "\n",
    "def make_Model_dir(model_dir_name):\n",
    "    root_logdir = os.path.join(os.curdir, model_dir_name)\n",
    "    sub_dir_name = datetime.datetime.now().strftime(\"%Y%m%d-%H%M%S\")\n",
    "    folder_dir = os.path.join(root_logdir, sub_dir_name)\n",
    "    file_name = \"{epoch:02d}_{val_loss:.4f}.hdf5\"\n",
    "    return os.path.join(folder_dir, file_name)\n",
    "\n",
    "checkpointer = ModelCheckpoint(filepath=make_Model_dir(model_dir_name), monitor=\"val_loss\", verbose=1, save_best_only=True)\n",
    "\n",
    "# 콜백함수 - 얼리스탑\n",
    "early_stopping_callback = EarlyStopping(monitor=\"val_loss\", patience=5)\n",
    "\n",
    "# 모델의 컴파일\n",
    "model.compile(loss=\"binary_crossentropy\",\n",
    "            optimizer=\"adam\",\n",
    "            metrics=[\"accuracy\"])\n",
    "\n",
    "\n",
    "# 모델의 실행\n",
    "history = model.fit(X_train, y_train, batch_size=100, epochs=20, validation_data=(X_test, y_test),\n",
    "                    verbose=1, callbacks=[early_stopping_callback, TensorB, checkpointer])\n",
    "\n",
    "# 테스트 정확도 출력\n",
    "print(f\"\\n Test Accuracy:{model.evaluate(X_test,y_test)[1]:.4f}\")"
   ]
  },
  {
   "cell_type": "code",
   "execution_count": 74,
   "metadata": {},
   "outputs": [
    {
     "data": {
      "image/png": "[encoded data removed]",
      "text/plain": [
       "<Figure size 432x288 with 1 Axes>"
      ]
     },
     "metadata": {
      "needs_background": "light"
     },
     "output_type": "display_data"
    }
   ],
   "source": [
    "# 테스트 셋의 오차\n",
    "y_vloss = history.history['val_loss']\n",
    "\n",
    "# 학습셋의 오차\n",
    "y_loss = history.history[\"loss\"]\n",
    "\n",
    "# 그래프로 표현\n",
    "x_len = np.arange(len(y_loss))\n",
    "plt.plot(x_len, y_vloss, marker=\".\", c=\"red\", label=\"Testset_loss\")\n",
    "plt.plot(x_len, y_loss, marker=\".\", c=\"blue\", label=\"Trainset_loss\")\n",
    "\n",
    "# 그래프에 그리드를 주고 레이블을 표시\n",
    "plt.legend()\n",
    "plt.grid()\n",
    "plt.xlabel(\"epoch\")\n",
    "plt.ylabel(\"loss\")\n",
    "plt.show()"
   ]
  },
  {
   "cell_type": "markdown",
   "metadata": {},
   "source": [
    "#### 4. 토큰화 이전의 IMDb 데이터를 활용한 실습"
   ]
  },
  {
   "cell_type": "code",
   "execution_count": 75,
   "metadata": {},
   "outputs": [
    {
     "data": {
      "text/html": [
       "<div>\n",
       "<style scoped>\n",
       "    .dataframe tbody tr th:only-of-type {\n",
       "        vertical-align: middle;\n",
       "    }\n",
       "\n",
       "    .dataframe tbody tr th {\n",
       "        vertical-align: top;\n",
       "    }\n",
       "\n",
       "    .dataframe thead th {\n",
       "        text-align: right;\n",
       "    }\n",
       "</style>\n",
       "<table border=\"1\" class=\"dataframe\">\n",
       "  <thead>\n",
       "    <tr style=\"text-align: right;\">\n",
       "      <th></th>\n",
       "      <th>review</th>\n",
       "      <th>sentiment</th>\n",
       "    </tr>\n",
       "  </thead>\n",
       "  <tbody>\n",
       "    <tr>\n",
       "      <th>0</th>\n",
       "      <td>One of the other reviewers has mentioned that ...</td>\n",
       "      <td>positive</td>\n",
       "    </tr>\n",
       "    <tr>\n",
       "      <th>1</th>\n",
       "      <td>A wonderful little production. &lt;br /&gt;&lt;br /&gt;The...</td>\n",
       "      <td>positive</td>\n",
       "    </tr>\n",
       "    <tr>\n",
       "      <th>2</th>\n",
       "      <td>I thought this was a wonderful way to spend ti...</td>\n",
       "      <td>positive</td>\n",
       "    </tr>\n",
       "    <tr>\n",
       "      <th>3</th>\n",
       "      <td>Basically there's a family where a little boy ...</td>\n",
       "      <td>negative</td>\n",
       "    </tr>\n",
       "    <tr>\n",
       "      <th>4</th>\n",
       "      <td>Petter Mattei's \"Love in the Time of Money\" is...</td>\n",
       "      <td>positive</td>\n",
       "    </tr>\n",
       "  </tbody>\n",
       "</table>\n",
       "</div>"
      ],
      "text/plain": [
       "                                              review sentiment\n",
       "0  One of the other reviewers has mentioned that ...  positive\n",
       "1  A wonderful little production. <br /><br />The...  positive\n",
       "2  I thought this was a wonderful way to spend ti...  positive\n",
       "3  Basically there's a family where a little boy ...  negative\n",
       "4  Petter Mattei's \"Love in the Time of Money\" is...  positive"
      ]
     },
     "execution_count": 75,
     "metadata": {},
     "output_type": "execute_result"
    }
   ],
   "source": [
    "# 데이터 불러오기\n",
    "origin = pd.read_csv(\"./csv_data/IMDB Dataset.csv\")\n",
    "origin.head()"
   ]
  },
  {
   "cell_type": "code",
   "execution_count": 76,
   "metadata": {},
   "outputs": [],
   "source": [
    "# html 줄바꿈 삭제\n",
    "review = origin.review.str.replace(\"<br />\", \"\")\n",
    "sentiment = origin.sentiment"
   ]
  },
  {
   "cell_type": "code",
   "execution_count": 77,
   "metadata": {},
   "outputs": [
    {
     "data": {
      "text/plain": [
       "0        One of the other reviewers has mentioned that ...\n",
       "1        A wonderful little production. The filming tec...\n",
       "2        I thought this was a wonderful way to spend ti...\n",
       "3        Basically there's a family where a little boy ...\n",
       "4        Petter Mattei's \"Love in the Time of Money\" is...\n",
       "                               ...                        \n",
       "49995    I thought this movie did a down right good job...\n",
       "49996    Bad plot, bad dialogue, bad acting, idiotic di...\n",
       "49997    I am a Catholic taught in parochial elementary...\n",
       "49998    I'm going to have to disagree with the previou...\n",
       "49999    No one expects the Star Trek movies to be high...\n",
       "Name: review, Length: 50000, dtype: object"
      ]
     },
     "execution_count": 77,
     "metadata": {},
     "output_type": "execute_result"
    }
   ],
   "source": [
    "# 확인\n",
    "review"
   ]
  },
  {
   "cell_type": "code",
   "execution_count": 102,
   "metadata": {},
   "outputs": [],
   "source": [
    "from sklearn.preprocessing import LabelBinarizer\n",
    "\n",
    "lb = LabelBinarizer()\n",
    "label = lb.fit_transform(sentiment)"
   ]
  },
  {
   "cell_type": "code",
   "execution_count": 78,
   "metadata": {},
   "outputs": [],
   "source": [
    "# 스탑워드 라이브러리\n",
    "import nltk\n",
    "from nltk.corpus import stopwords\n",
    "from nltk.stem import SnowballStemmer\n",
    "from nltk import re"
   ]
  },
  {
   "cell_type": "code",
   "execution_count": 79,
   "metadata": {},
   "outputs": [
    {
     "name": "stderr",
     "output_type": "stream",
     "text": [
      "[nltk_data] Downloading package stopwords to\n",
      "[nltk_data]     C:\\Users\\user\\AppData\\Roaming\\nltk_data...\n",
      "[nltk_data]   Package stopwords is already up-to-date!\n"
     ]
    },
    {
     "data": {
      "text/plain": [
       "True"
      ]
     },
     "execution_count": 79,
     "metadata": {},
     "output_type": "execute_result"
    }
   ],
   "source": [
    "nltk.download(\"stopwords\")"
   ]
  },
  {
   "cell_type": "code",
   "execution_count": 80,
   "metadata": {},
   "outputs": [],
   "source": [
    "TEXT_CLEANING_RE = \"@\\S+|https?:\\S+|http?:\\S|[^A-Za-z0-9]+\""
   ]
  },
  {
   "cell_type": "code",
   "execution_count": 81,
   "metadata": {},
   "outputs": [],
   "source": [
    "stop_words = stopwords.words(\"english\")\n",
    "stemmer = SnowballStemmer(\"english\")"
   ]
  },
  {
   "cell_type": "code",
   "execution_count": 82,
   "metadata": {},
   "outputs": [],
   "source": [
    "def preprocess(review, stem=stemmer):\n",
    "    # Remove link,user and special characters\n",
    "    text = re.sub(TEXT_CLEANING_RE, ' ', str(review).lower()).strip()\n",
    "    tokens = []\n",
    "    for token in text.split():\n",
    "        if token not in stop_words:\n",
    "            if stem:\n",
    "                tokens.append(stemmer.stem(token))\n",
    "            else:\n",
    "                tokens.append(token)\n",
    "    return \" \".join(tokens)"
   ]
  },
  {
   "cell_type": "code",
   "execution_count": 83,
   "metadata": {},
   "outputs": [],
   "source": [
    "review_pr = review.apply(preprocess)"
   ]
  },
  {
   "cell_type": "code",
   "execution_count": 84,
   "metadata": {},
   "outputs": [
    {
     "data": {
      "text/plain": [
       "0        one review mention watch 1 oz episod hook righ...\n",
       "1        wonder littl product film techniqu unassum old...\n",
       "2        thought wonder way spend time hot summer weeke...\n",
       "3        basic famili littl boy jake think zombi closet...\n",
       "4        petter mattei love time money visual stun film...\n",
       "                               ...                        \n",
       "49995    thought movi right good job creativ origin fir...\n",
       "49996    bad plot bad dialogu bad act idiot direct anno...\n",
       "49997    cathol taught parochi elementari school nun ta...\n",
       "49998    go disagre previous comment side maltin one se...\n",
       "49999    one expect star trek movi high art fan expect ...\n",
       "Name: review, Length: 50000, dtype: object"
      ]
     },
     "execution_count": 84,
     "metadata": {},
     "output_type": "execute_result"
    }
   ],
   "source": [
    "review_pr"
   ]
  },
  {
   "cell_type": "code",
   "execution_count": 90,
   "metadata": {},
   "outputs": [],
   "source": [
    "# 토큰화 및 전처리 라이브러리\n",
    "from tensorflow.keras.preprocessing.text import Tokenizer\n",
    "from tensorflow.keras.preprocessing import sequence\n",
    "from tensorflow.keras.models import load_model\n",
    "\n",
    "# 자동완성\n",
    "from keras.preprocessing.text import Tokenizer\n",
    "from keras.preprocessing import sequence\n",
    "from keras.models import load_model"
   ]
  },
  {
   "cell_type": "code",
   "execution_count": 86,
   "metadata": {},
   "outputs": [],
   "source": [
    "tokenizer = Tokenizer(num_words=5000)\n",
    "tokenizer.fit_on_texts(review_pr)"
   ]
  },
  {
   "cell_type": "code",
   "execution_count": 87,
   "metadata": {},
   "outputs": [],
   "source": [
    "review_tk = tokenizer.texts_to_sequences(review_pr)"
   ]
  },
  {
   "cell_type": "code",
   "execution_count": 88,
   "metadata": {},
   "outputs": [],
   "source": [
    "review_test = sequence.pad_sequences(review_tk, maxlen=100)"
   ]
  },
  {
   "cell_type": "code",
   "execution_count": 89,
   "metadata": {},
   "outputs": [
    {
     "data": {
      "text/plain": [
       "array([[ 440, 3314, 1893, ...,  450, 3399,  368],\n",
       "       [   0,    0,    0, ...,  278,   16,  143],\n",
       "       [   0,    0,    0, ...,   26,    9,  116],\n",
       "       ...,\n",
       "       [3628, 1563,  120, ...,  430, 3254, 1056],\n",
       "       [   0,    0,    0, ..., 1803, 1416,  334],\n",
       "       [   0,    0,    0, ...,  920,  574,    1]])"
      ]
     },
     "execution_count": 89,
     "metadata": {},
     "output_type": "execute_result"
    }
   ],
   "source": [
    "review_test"
   ]
  },
  {
   "cell_type": "code",
   "execution_count": 91,
   "metadata": {},
   "outputs": [],
   "source": [
    "model_t = load_model(\"./model/20220512-140010/02_0.3241.hdf5\")"
   ]
  },
  {
   "cell_type": "code",
   "execution_count": 96,
   "metadata": {},
   "outputs": [],
   "source": [
    "pred = model_t.predict(review_test)"
   ]
  },
  {
   "cell_type": "code",
   "execution_count": 104,
   "metadata": {},
   "outputs": [
    {
     "data": {
      "text/plain": [
       "array([[0.18281749],\n",
       "       [0.7458974 ],\n",
       "       [0.19429493],\n",
       "       ...,\n",
       "       [0.03277937],\n",
       "       [0.11630675],\n",
       "       [0.7675109 ]], dtype=float32)"
      ]
     },
     "execution_count": 104,
     "metadata": {},
     "output_type": "execute_result"
    }
   ],
   "source": [
    "pred"
   ]
  },
  {
   "cell_type": "code",
   "execution_count": 105,
   "metadata": {},
   "outputs": [
    {
     "data": {
      "text/plain": [
       "array([[1],\n",
       "       [1],\n",
       "       [1],\n",
       "       ...,\n",
       "       [0],\n",
       "       [0],\n",
       "       [0]])"
      ]
     },
     "execution_count": 105,
     "metadata": {},
     "output_type": "execute_result"
    }
   ],
   "source": [
    "label"
   ]
  },
  {
   "cell_type": "code",
   "execution_count": 106,
   "metadata": {},
   "outputs": [],
   "source": [
    "from sklearn.metrics import accuracy_score"
   ]
  },
  {
   "cell_type": "code",
   "execution_count": 108,
   "metadata": {},
   "outputs": [
    {
     "data": {
      "text/plain": [
       "0.51526"
      ]
     },
     "execution_count": 108,
     "metadata": {},
     "output_type": "execute_result"
    }
   ],
   "source": [
    "accuracy_score(label, pred.round())"
   ]
  }
 ],
 "metadata": {
  "interpreter": {
   "hash": "8c2dc7f55a4afb133f9671f18548a683b80d7f864af89313bd9839ac682f147f"
  },
  "kernelspec": {
   "display_name": "Python 3.7.9 64-bit",
   "language": "python",
   "name": "python3"
  },
  "language_info": {
   "codemirror_mode": {
    "name": "ipython",
    "version": 3
   },
   "file_extension": ".py",
   "mimetype": "text/x-python",
   "name": "python",
   "nbconvert_exporter": "python",
   "pygments_lexer": "ipython3",
   "version": "3.7.9"
  },
  "orig_nbformat": 4
 },
 "nbformat": 4,
 "nbformat_minor": 2
}
