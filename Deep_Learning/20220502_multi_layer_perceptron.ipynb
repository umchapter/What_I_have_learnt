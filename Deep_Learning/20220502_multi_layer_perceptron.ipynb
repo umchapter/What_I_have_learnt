{
 "cells": [
  {
   "cell_type": "markdown",
   "metadata": {},
   "source": [
    "다층 퍼셉트론\n",
    "===\n",
    "## 1. 다층 퍼셉트론의 설계\n",
    "* 단일 퍼셉트론으로는 XOR 문제를 해결할 수 없음.\n",
    "  * 예를 들어, 성냥개비 여섯 개로 정삼각형 네 개를 만들기 위해서는,   \n",
    "  → **2차원 평면**이 아닌 __3차원의 정사면체__ 모양으로 쌓아 해결.\n",
    "* XOR 문제를 극복하는 것 역시 평면을 휘어주면서 해결.\n",
    "* 다층 퍼셈트론 : 좌표 평면 자체에 변화를 주는 것으로 XOR 문제를 해결.\n",
    "* 은닉층(hidden layer)을 만들면 우리는 두 개의 퍼셉트론을 한 번에 계산할 수 있게 됨.\n",
    "* 가운데 숨어있는 은닉층으로 퍼셉트론이 각각 자신의 가중치$w$와 바이어스$b$ 값을 보냄.\n",
    "* 이 은닉층에 모인 값이 시그모이드 함수$(\\sigma)$를 이용해 최종 값으로 결과를 보냄.\n",
    "* 노드(node) : 은닉층에 모이는 중간 정거장.\n",
    "## 2. XOR 문제의 해결\n",
    "* 은닉층의 노드 $n_1$과 $n_2$의 값은 각각 단일 퍼셉트론의 값과 같음\n",
    "$$n_1 = \\sigma(x_1w_{11} + x_2w_{21} + b_1)$$\n",
    "$$n_2 = \\sigma(x_1w_{12} + x_2w_{22} + b_2)$$\n",
    "* $n_1, n_2$ 결과값이 출력층으로 보내짐.\n",
    "* 출력층에서는 역시 시그모이드 함수를 통해 $y$값이 정해짐.\n",
    "  * 이 값을 $y_{out}$이라 할 때 식으로 표현하면 다음과 같음.\n",
    "$$y_{out}=\\sigma(n_1w_{31} + n_2w_{32} + b_3)$$\n",
    "</br>\n",
    "\n",
    "* 이제 각각의 가중치 $w$와 바이어스 $b$의 값을 정할 차례.\n",
    "* 2차원 배열로 늘어놓으면 다음과 같이 표시할 수 있음.\n",
    "  * 은닉층을 포함해 가중치 6개와 바이어스 3개.\n",
    "$$W(1) = \\begin{bmatrix} w_{11} \\ w_{12} \\\\ w_{21} \\ w_{22} \\end{bmatrix} \\quad B(1) = \\begin{bmatrix} b_1 \\\\ b_2 \\end{bmatrix}$$\n",
    "$$W(2) = \\begin{bmatrix} w_{31} \\\\ w_{22} \\end{bmatrix} \\quad B(2) = \\begin{bmatrix} b_3 \\end{bmatrix}$$\n",
    "* NAND(Negative AND)게이트 : AND 게이트의 정반대 값을 출력함.\n",
    "* NAND 게이트와 OR 게이트, 이 두가지를 내재한 각각의 퍼셉트론이 다중 레이어 안에서 각각 작동하고, 이 두가지 값에 대해 AND 게이트를 수행한 결과 값이 $y_{out}$.\n",
    "  * 숨어있는 2개의 노드를 둔 다층 퍼셉트론을 구성해 XOR 문제를 해결할 수 있음.\n",
    "## 3. 코딩으로 XOR 문제 해결하기"
   ]
  },
  {
   "cell_type": "code",
   "execution_count": 6,
   "metadata": {},
   "outputs": [],
   "source": [
    "import numpy as np\n",
    "\n",
    "# 가중치(w11, w12, w2)와 바이어스(b1, b2, b3)\n",
    "w11 = np.array([-2, -2])\n",
    "w12 = np.array([2, 2])\n",
    "w2 = np.array([1, 1])\n",
    "b1 = 3\n",
    "b2 = -1\n",
    "b3 = -1\n",
    "\n",
    "# 퍼셉트론 함수 정의 : 0 또는 1을 출력\n",
    "def MLP(x, w, b) :\n",
    "    y = np.sum(w * x) + b\n",
    "    if y <= 0 :\n",
    "        return 0\n",
    "    else :\n",
    "        return 1\n",
    "\n",
    "# NAND 게이트\n",
    "def NAND(x1, x2) :\n",
    "    return MLP(np.array([x1, x2]), w11, b1)\n",
    "\n",
    "# OR 게이트\n",
    "def OR(x1, x2) :\n",
    "    return MLP(np.array([x1, x2]), w12, b2)\n",
    "\n",
    "# AND 게이트\n",
    "def AND(x1, x2) :\n",
    "    return MLP(np.array([x1, x2]), w2, b3)\n",
    "\n",
    "# XOR 게이트\n",
    "def XOR(x1, x2) :\n",
    "    return AND(NAND(x1, x2), OR(x1, x2))"
   ]
  },
  {
   "cell_type": "code",
   "execution_count": 7,
   "metadata": {},
   "outputs": [
    {
     "name": "stdout",
     "output_type": "stream",
     "text": [
      "입력 값 : (0, 0) 출력값 : 0\n",
      "입력 값 : (1, 0) 출력값 : 1\n",
      "입력 값 : (0, 1) 출력값 : 1\n",
      "입력 값 : (1, 1) 출력값 : 0\n"
     ]
    }
   ],
   "source": [
    "# x1, x2 값을 번갈아 대입해 가며 최종값 출력\n",
    "if __name__ == '__main__' :\n",
    "    for x in [(0, 0), (1, 0), (0, 1), (1, 1)] :\n",
    "        y = XOR(x[0], x[1])\n",
    "        print(f\"입력 값 : {str(x)} 출력값 : {str(y)}\")"
   ]
  }
 ],
 "metadata": {
  "interpreter": {
   "hash": "8c2dc7f55a4afb133f9671f18548a683b80d7f864af89313bd9839ac682f147f"
  },
  "kernelspec": {
   "display_name": "Python 3.7.9 64-bit",
   "language": "python",
   "name": "python3"
  },
  "language_info": {
   "codemirror_mode": {
    "name": "ipython",
    "version": 3
   },
   "file_extension": ".py",
   "mimetype": "text/x-python",
   "name": "python",
   "nbconvert_exporter": "python",
   "pygments_lexer": "ipython3",
   "version": "3.7.9"
  },
  "orig_nbformat": 4
 },
 "nbformat": 4,
 "nbformat_minor": 2
}
